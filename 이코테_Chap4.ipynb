{
 "cells": [
  {
   "cell_type": "markdown",
   "id": "730f7ec9",
   "metadata": {},
   "source": [
    "# Chapter 4 구현\n",
    "\n",
    "## 1 아이디어를 코드로 바꾸는 구현\n",
    "\n",
    "### 피지컬로 승부하기\n",
    "- 코딩 테스트에서 구현(implementation)이란 '머릿속에 있는 알고리즘을 소스코드로 바꾸는 과정'\n",
    "- 문제 해결 분야에서 구현 유형의 문제는 '풀이를 떠올리는 것은 쉽지만 소스코드로 옮기기 어려운 문제'를 의미.\n",
    "- 이 책에서는 완점 탐색, 시뮬레이션 유형을 모두 '구현' 유형으로 묶어서 다룸\n",
    "    - 완전 탐색: 모든 경우의 수를 주저 없이 다 계산하는 해결 방법\n",
    "    - 시뮬레이션: 문제에서 제시한 알고리즘을 한 단계씩 차례대로 직접 수행\n",
    " \n",
    "### 구현 시 고려해야 할 메모리 제약 사항\n",
    "\n",
    "#### C/C++에서 변수의 표현 범위\n",
    "- C/C++, 자바에서 int 자료형으로 처리하면 2,147,438,647보다 큰 수를 처리할 수 없음.\n",
    "- 훨씬 큰 수를 담을 변수를 만들려면 BigInteger 클래스를 구현하거나 이용해야함.\n",
    "\n",
    "#### 파이썬에서 리스트 크기\n",
    "- 파이썬에서 여러 개의 변수를 사용할 때는 리스트를 이용\n",
    "- 대체로 코딩 테스트에서는 128 ~ 512MB로 메모리를 제한\n",
    "    - 수맥만 개 이상의 데이터를 처리해야 하는 문제의 경우 메모리 제한을 염두\n",
    "- 데이터의 개수(리스트의 길이)와 메모리 사용량\n",
    "    - 1,000 / 4KB\n",
    "    - 1,000,000 / 4MB\n",
    "    - 10,000,000 / 40MB\n",
    "- **일반적인 코딩 테스트 수준에서는 메모리 사용량 제한보다 더 적은 크기의 메모리를 사용해야 한다.**\n",
    "\n",
    "### 채점 환경\n",
    "- 보통 접하는 코딩 테스트 환경에서는 채점 시스템의 시간 제한 및 메모리 제한 정보가 적혀 있음.\n",
    "- 파이썬은 C/C++에 비해 동작 속도가 느림.\n",
    "    - 파이썬을 선택했을 때는 C/C++에 비해 2배의 수행 시간 제한을 적용하기도 함.\n",
    "- 2020년 기준 파이썬 3.7 기준, 자신의 코드가 1초에 2,000만 번의 연산을 수행한다고 가정하고 문제를 풀면 실행 시간 제한에 안정적.\n",
    "    - 예) 시간 제한이 1초이고, 데이터의 개수가 100만 개인 문제는 시간 복잡도 $O(NlogN)$ 이내의 알고리즘을 이용하여 문제를 풀어야 함.\n",
    "- 알고리즘 문제를 풀 때는 시간 제한과 데이터의 개수를 먼저 확인한 뒤 시간 복잡도의 알고리즘으로 작성해야 풀 수 있을 것인지 예측할 수 있어야 함.\n",
    "\n",
    "### 구현 문제에 접근하는 방법\n",
    "- 보통 구현 유형의 문제는 사소한 입력 조건 등을 문제에서 명시해주며 문제의 길이가 꽤 긴 편.\n",
    "- 고차원적인 사고력을 요구하는 문제는 나오지 않는 편이라 문법에 익숙하다면 오히려 쉽게 풀 수 있음.\n",
    "- 자동 채점 방식을 이용하는 코딩 테스트 환경에서는 점점 Pypy3를 지원하는 곳이 늘고 있음.\n",
    "    - Pypy3는 파이썬3의 문법을 그대로 지원하며, 대부분 파이썬3보다 실행 속도가 더 빠르다.\n",
    "    - => 코딩 테스트에서 Pypy3를 선택한다면 파이썬3와 동일한 코드를 제출해서 실행 시간을 줄일 수 있음."
   ]
  },
  {
   "cell_type": "markdown",
   "id": "7f23fd03",
   "metadata": {},
   "source": [
    "### 예제 4-1 상하좌우"
   ]
  },
  {
   "cell_type": "code",
   "execution_count": 3,
   "id": "9b9d289b",
   "metadata": {},
   "outputs": [
    {
     "name": "stdout",
     "output_type": "stream",
     "text": [
      "5\n",
      "R R R U D D\n",
      "3 4\n"
     ]
    }
   ],
   "source": [
    " # My Solution\n",
    "n = int(input())\n",
    "dir_lst = input().split()\n",
    "loc = [1,1]\n",
    "for dir in dir_lst:\n",
    "    if dir == \"L\":\n",
    "        if (loc[1] - 1) > 0:\n",
    "            loc[1] -= 1\n",
    "    elif dir == \"R\":\n",
    "        if (loc[1] + 1) < n:\n",
    "            loc[1] += 1\n",
    "    elif dir == \"U\":\n",
    "        if (loc[0] - 1) > 0:\n",
    "            loc[0] -= 1\n",
    "    elif dir == \"D\":\n",
    "        if (loc[0] + 1) < n:\n",
    "            loc[0] += 1\n",
    "print(loc[0], loc[1])"
   ]
  },
  {
   "cell_type": "code",
   "execution_count": 4,
   "id": "0c6b426b",
   "metadata": {},
   "outputs": [
    {
     "name": "stdout",
     "output_type": "stream",
     "text": [
      "5\n",
      "R R R U D D\n",
      "3 4\n"
     ]
    }
   ],
   "source": [
    "# Textbook Solution\n",
    "n = int(input())\n",
    "x, y = 1, 1\n",
    "plans = input().split()\n",
    "\n",
    "dx = [0, 0, -1, 1]\n",
    "dy = [-1, 1, 0, 0]\n",
    "move_types = ['L', 'R', 'U', 'D']\n",
    "\n",
    "for plan in plans:\n",
    "    for i in range(len(move_types)):\n",
    "        if plan == move_types[i]:\n",
    "            nx = x + dx[i]\n",
    "            ny = y + dy[i]\n",
    "    if nx < 1 or ny < 1 or nx > n or ny > n:\n",
    "        continue\n",
    "    x, y = nx, ny\n",
    "\n",
    "print(x, y)"
   ]
  },
  {
   "cell_type": "markdown",
   "id": "0b0b9498",
   "metadata": {},
   "source": [
    "### 예제 4-2 시각"
   ]
  },
  {
   "cell_type": "code",
   "execution_count": 14,
   "id": "fe3f33a0",
   "metadata": {},
   "outputs": [
    {
     "name": "stdout",
     "output_type": "stream",
     "text": [
      "5\n",
      "11475\n"
     ]
    }
   ],
   "source": [
    "# My Solution\n",
    "n = int(input())\n",
    "sec_lst = []\n",
    "min_lst = []\n",
    "hr_lst = []\n",
    "lst1 = []\n",
    "count = 0\n",
    "for i in range(60):\n",
    "    sec_lst.append(str(i))\n",
    "for i in range(60):\n",
    "    min_lst.append(str(i))\n",
    "for i in range(n + 1):\n",
    "    hr_lst.append(str(i))\n",
    "for hr in hr_lst:\n",
    "    for min in min_lst:\n",
    "        for sec in sec_lst:\n",
    "            lst1.append(hr + min + sec)\n",
    "for x in lst1:\n",
    "    if '3' in x:\n",
    "        count += 1\n",
    "print(count)"
   ]
  },
  {
   "cell_type": "markdown",
   "id": "f153dc5c",
   "metadata": {},
   "source": [
    "- 완전 탐색 알고리즘은 비효율적인 시간 복잡도를 가지고 있으므로 확인(탐색)해야 할 전체 데이터의 개수가 100만 개 이하일 때 완전 탐색을 사용."
   ]
  },
  {
   "cell_type": "code",
   "execution_count": 15,
   "id": "7d8c8766",
   "metadata": {},
   "outputs": [
    {
     "name": "stdout",
     "output_type": "stream",
     "text": [
      "5\n",
      "11475\n"
     ]
    }
   ],
   "source": [
    "# Textbook Solution\n",
    "h = int(input())\n",
    "\n",
    "count = 0\n",
    "for i in range(h+1):\n",
    "    for j in range(60):\n",
    "        for k in range(60):\n",
    "            if '3' in str(i) + str(j) + str(k):\n",
    "                count += 1\n",
    "\n",
    "print(count)"
   ]
  }
 ],
 "metadata": {
  "kernelspec": {
   "display_name": "Python 3 (ipykernel)",
   "language": "python",
   "name": "python3"
  },
  "language_info": {
   "codemirror_mode": {
    "name": "ipython",
    "version": 3
   },
   "file_extension": ".py",
   "mimetype": "text/x-python",
   "name": "python",
   "nbconvert_exporter": "python",
   "pygments_lexer": "ipython3",
   "version": "3.9.7"
  }
 },
 "nbformat": 4,
 "nbformat_minor": 5
}
