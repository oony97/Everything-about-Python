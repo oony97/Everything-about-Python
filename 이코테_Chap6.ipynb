{
 "cells": [
  {
   "cell_type": "markdown",
   "id": "4e2dd4c2",
   "metadata": {},
   "source": [
    "# Chapter 6 - 정렬\n",
    "## 1. 기준에 따라 데이터를 정렬\n",
    "### 정렬 알고리즘 개요\n",
    "- 정렬(Sorting)이란 데이터를 특정한 기준에 따라서 순서대로 나열하는 것.\n",
    "\n",
    "### 선택 정렬\n",
    "- 선택 정렬: 데이터가 무작위로 여러 개 있을 때, 이 중에서 가장 작은 데이터를 선택해 맨 앞에 있는 데이터와 바꾸고, 그다음 작은 데이터를 선택해 앞에서 두 번째 데이터와 바꾸는 과정을 반복\n",
    "- 선택 정렬은 가장 원시적인 방법으로 매번 '가장 작은 것을 선택'한다는 의미"
   ]
  },
  {
   "cell_type": "code",
   "execution_count": 3,
   "id": "ffe617b2",
   "metadata": {},
   "outputs": [
    {
     "name": "stdout",
     "output_type": "stream",
     "text": [
      "[0, 1, 2, 3, 4, 5, 6, 7, 8, 9]\n"
     ]
    }
   ],
   "source": [
    "# 6-1.py 선택 정렬 소스코드\n",
    "array = [7, 5, 9, 0, 3, 1, 6, 2, 4, 8]\n",
    "\n",
    "for i in range(len(array)):\n",
    "    min_index = i # 가장 작은 원소의 인덱스\n",
    "    for j in range(i + 1, len(array)):\n",
    "        if array[min_index] > array[j]:\n",
    "            min_index = j\n",
    "    array[i], array[min_index] = array[min_index], array[i] # 스와프\n",
    "    \n",
    "print(array)"
   ]
  },
  {
   "cell_type": "markdown",
   "id": "50a2e542",
   "metadata": {},
   "source": [
    "- 스와프란 특정한 리스트가 주어졌을 때 두 변수의 위치를 변경하는 작업을 의미.\n",
    "- 파이썬을 제외한 다른 대부분의 프로그래밍 언어에서는 명시적으로 임시 저장용 변수를 만들어 두 원소의 값을 변경해야 함."
   ]
  },
  {
   "cell_type": "code",
   "execution_count": 4,
   "id": "35fa0bc4",
   "metadata": {},
   "outputs": [
    {
     "name": "stdout",
     "output_type": "stream",
     "text": [
      "[5, 3]\n"
     ]
    }
   ],
   "source": [
    "# 0 인덱스와 1 인덱스의 원소 교체하기\n",
    "array = [3, 5]\n",
    "array[0], array[1] = array[1], array[0]\n",
    "\n",
    "print(array)"
   ]
  },
  {
   "cell_type": "markdown",
   "id": "c7f4e434",
   "metadata": {},
   "source": [
    "#### 선택 정렬의 시간 복잡도\n",
    "- 선택 정렬은 N - 1번 만큼 가장 작은 수를 찾아서 맨 앞으로 보내야 함.\n",
    "- 또한 매번 가장 작은 수를 찾기 위해서 비교 연산이 필요함\n",
    "- 연산 횟수: $$N + (N - 1) - (N - 2) + \\cdots + 2 \\approx \\frac{N \\times (N + 1)}{2} \\approx \\frac{(N^{2} + N)}{2} \\approx O(N^{2})$$\n",
    "- 직관적으로 이해하자면, 소스코드 상으로 간단한 형태의 2중 반복문이 사용되었기 때문\n",
    "- 선택 정렬을 이용하는 경우 데이터의 개수가 10000개 이상이면 정렬 속도가 급격히 느려지는 것을 확인할 수 있음."
   ]
  },
  {
   "cell_type": "markdown",
   "id": "ec5b7acd",
   "metadata": {},
   "source": [
    "### 삽입 정렬\n",
    "- 삽입 정렬: 데이터를 하나씩 확인하며, 각 데이터를 적절한 위치에 삽입\n",
    "- 삽입 정렬은 선택 정렬에 비해 구현 난이도가 높은 편이지만 선택 정렬에 비해 실행 시간 측면에서 더 효율적인 알고리즘으로 잘 알려짐\n",
    "- 정렬이 이루어진 원소는 항상 오름차순을 유지하고 있음"
   ]
  },
  {
   "cell_type": "code",
   "execution_count": 23,
   "id": "cc113df9",
   "metadata": {},
   "outputs": [
    {
     "name": "stdout",
     "output_type": "stream",
     "text": [
      "[0, 1, 2, 3, 4, 5, 6, 7, 8, 9]\n"
     ]
    }
   ],
   "source": [
    "array = [7, 5, 9, 0, 3, 1, 6, 2, 4, 8]\n",
    "\n",
    "for i in range(1, len(array)):\n",
    "    for j in range(i, 0, - 1): # 인덱스 i부터 1까지 감소하며 반복하는 문법\n",
    "        if array[j] < array[j - 1]: # 한 칸씩 왼쪽으로 이동\n",
    "            array[j], array[j - 1] = array[j - 1], array[j]\n",
    "        else: # 자기보다 작은 데이터를 만나면 그 위치에서 멈춤\n",
    "            break\n",
    "            \n",
    "print(array)"
   ]
  },
  {
   "cell_type": "markdown",
   "id": "bb8ef3d2",
   "metadata": {},
   "source": [
    "- 삽입 정렬의 시간 복잡도는 $O(N^{2})$. 반복문이 2번 중첩되어 사용되었음.\n",
    "- 삽입 정렬은 현재 리스트의 데이터가 거의 정렬되어 있는 상태라면 매우 빠르게 동작. 최선의 경우 $O(N)$."
   ]
  },
  {
   "cell_type": "markdown",
   "id": "ab0393dc",
   "metadata": {},
   "source": [
    "### 퀵 정렬\n",
    "- 퀵 정렬: 기준 데이터를 설정하고 그 기준보다 큰 데이터와 작은 데이터의 위치를 바꿈\n",
    "- 퀵 정렬은 앞에서 소개된 정렬 알고리즘 보다 많이 사용되는 알고리즘.\n",
    "- 퀵 정렬은 기준을 설정한 다음 큰 수와 작은 수를 교환한 후 리스트를 반으로 나누는 방식으로 동작.\n",
    "- 피벗(Pivot): 큰 숫자와 작은 숫자를 교환할 때, 교환하기 위한 '기준'\n",
    "- 퀵 정렬을 수행하기 전에는 피벗을 어떻게 설정할 것인지 미리 명시해야 함.\n",
    "- 호어 분할(Hoare Partition) 방식에서는 리스트에서 첫 번째 데이터를 피벗으로 정함.\n",
    "- 피벗을 설정한 뒤에는 왼쪽에서부터 피벗보다 큰 데이터를 찾고, 오른쪽에서부터 피벗보다 작은 데이터를 찾음.\n",
    "- 그다음 큰 데이터와 작은 데이터의 위치를 서로 교환.\n",
    "- 이 과정을 반복\n",
    "- '재귀 함수'와 동작 원리가 같음.\n",
    "- 재귀 함수 형태로 작성했을 때 구현이 매우 간결해짐.\n",
    "    - 퀵 정렬이 끝나는 조건은 현재 리스트의 데이터 개수가 1개인 경우"
   ]
  }
 ],
 "metadata": {
  "kernelspec": {
   "display_name": "Python 3 (ipykernel)",
   "language": "python",
   "name": "python3"
  },
  "language_info": {
   "codemirror_mode": {
    "name": "ipython",
    "version": 3
   },
   "file_extension": ".py",
   "mimetype": "text/x-python",
   "name": "python",
   "nbconvert_exporter": "python",
   "pygments_lexer": "ipython3",
   "version": "3.9.7"
  }
 },
 "nbformat": 4,
 "nbformat_minor": 5
}
