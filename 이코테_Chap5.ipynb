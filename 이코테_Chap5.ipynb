{
 "cells": [
  {
   "cell_type": "markdown",
   "id": "2dddc090",
   "metadata": {},
   "source": [
    "# Chapter 5 DFS/BFS\n",
    "\n",
    "## 1. 꼭 필요한 자료구조 기초\n",
    "- 탐색(Search): 많은 양의 데이터 중에서 원하는 데이터를 찾는 과정\n",
    "- 자료구조(Data Structure): 데이터를 표현하고 관리하고 처리하기 위한 구조\n",
    "- 스택과 규는 자료구조의 기초 개념의로 두 핵심적인 함수로 구성\n",
    "    - 삽입(Push): 데이터를 삽입한다.\n",
    "    - 삭제(Pop): 데이터를 삭제한다.\n",
    "- 오버플로(Overflow): 특정한 자료구조가 수용할 수 있는 데이터의 크기를 이미 가득 찬 상태에서 삽인연산을 수행할 때 발생\n",
    "- 언더플로(Underflow): 특정한 자료구조에 데이터가 전혀 들어 있지 않은 상태에서 삭제 연산을 수행할 때 발생\n",
    "\n",
    "### 스택\n",
    "- 선입후출(First In Last Out)/후입선출(Last In First Out): 아래에서부터 위로 차고차곡 쌓는 구조"
   ]
  },
  {
   "cell_type": "code",
   "execution_count": 1,
   "id": "783c0184",
   "metadata": {},
   "outputs": [
    {
     "name": "stdout",
     "output_type": "stream",
     "text": [
      "[5, 2, 3, 1]\n",
      "[1, 3, 2, 5]\n"
     ]
    }
   ],
   "source": [
    "# 5-1.py 스택 예제\n",
    "stack = []\n",
    "\n",
    "# 삽입(5) - 삽입(2) - 삽입(3) - 삽입(7) - 삭제() - 삽입(1) - 삽입(4) - 삭제()\n",
    "stack.append(5)\n",
    "stack.append(2)\n",
    "stack.append(3)\n",
    "stack.append(7)\n",
    "stack.pop()\n",
    "stack.append(1)\n",
    "stack.append(4)\n",
    "stack.pop()\n",
    "\n",
    "print(stack) # 최하단 원소부터 출력\n",
    "print(stack[::-1]) # 최상단 원소부터 출력"
   ]
  },
  {
   "cell_type": "markdown",
   "id": "450a27fe",
   "metadata": {},
   "source": [
    "- 파이썬에서 스택을 이용할 때 별도의 라이브러리를 사용할 필요 없음.\n",
    "    - `append()`와 `pop()` 메서드 이용"
   ]
  },
  {
   "cell_type": "markdown",
   "id": "453d3728",
   "metadata": {},
   "source": [
    "### 큐\n",
    "- 큐는 대기 줄에 비유, 선입선출(First In First Out) 구조"
   ]
  },
  {
   "cell_type": "code",
   "execution_count": 2,
   "id": "dac90cd1",
   "metadata": {},
   "outputs": [
    {
     "name": "stdout",
     "output_type": "stream",
     "text": [
      "deque([3, 7, 1, 4])\n",
      "deque([4, 1, 7, 3])\n"
     ]
    }
   ],
   "source": [
    "# 5-2.py 큐 예제\n",
    "from collections import deque\n",
    "\n",
    "# 큐(Quesue) 구현을 위해 deque 라이브러리 사용\n",
    "queue = deque()\n",
    "\n",
    "# 삽입(5) - 삽입(2) - 삽입(3) - 삽입(7) - 삭제() - 삽입(1) - 삽입(4) - 삭제()\n",
    "queue.append(5)\n",
    "queue.append(2)\n",
    "queue.append(3)\n",
    "queue.append(7)\n",
    "queue.popleft()\n",
    "queue.append(1)\n",
    "queue.append(4)\n",
    "queue.popleft()\n",
    "\n",
    "print(queue)    # 먼저 들어온 순서대로 출력\n",
    "queue.reverse() # 다음 출력을 위해 역순으로 바꾸기\n",
    "print(queue)    # 나중에 들어온 원소부터 출력"
   ]
  },
  {
   "cell_type": "markdown",
   "id": "60e31a46",
   "metadata": {},
   "source": [
    "- 파이썬으로 큐를 구현할 때는 collections 모듈에서 제공하는 deque 자료구조 활용\n",
    "- `deque`는 스택과 큐의 장점을 모두 채택한 것. 데이터를 놓고 빼는 속도가 리스트 자료형에 비해 효율적이며 `queue` 라이브러리를 이용하는 것보다 더 간단함."
   ]
  },
  {
   "cell_type": "markdown",
   "id": "73f6159c",
   "metadata": {},
   "source": [
    "### 재귀 함수\n",
    "- 재귀 함수(Recursive Function): 자기 자신을 다시 호출하는 함수"
   ]
  },
  {
   "cell_type": "code",
   "execution_count": null,
   "id": "7290a9a3",
   "metadata": {},
   "outputs": [],
   "source": [
    "# 5-3.py 재귀 함수 예제\n",
    "def recursive_function():\n",
    "    print('재귀 함수를 호출합니다.')\n",
    "    recursive_function()\n",
    "\n",
    "recursive_function()"
   ]
  },
  {
   "cell_type": "markdown",
   "id": "870b88fe",
   "metadata": {},
   "source": [
    "- 이 코드를 실행하면 '재귀 함수를 호출합니다.'를 무한히 출력"
   ]
  },
  {
   "cell_type": "markdown",
   "id": "d36f7f24",
   "metadata": {},
   "source": [
    "#### 재귀 함수의 종료 조건\n",
    "- 재귀 함수를 문제 풀이에서 사용할 때는 재귀 함수가 언제 끝날지 종료 조건을 꼭 명시해야함. (함수를 무한히 호출하는 것을 막기 위해서)"
   ]
  },
  {
   "cell_type": "code",
   "execution_count": null,
   "id": "d463a22e",
   "metadata": {},
   "outputs": [],
   "source": [
    "# 5-4.py 재귀 함수 종료 예제\n",
    "def recursive_function(i):\n",
    "    # 100번째 출력했을 때 종료되도록 종료 조건 명시\n",
    "    if i == 100:\n",
    "        return\n",
    "    print(i, '번째 재귀 함수에서', i + 1, '번째 재귀 함수를 호출합니다.')\n",
    "    recursive_function(i + 1)\n",
    "    print(i, '번째 재귀 함수를 종료합니다')\n",
    "\n",
    "recursive_function(1)\n",
    "# 1 번째 재귀 함수에서 2 번째 재귀 함수를 호출합니다.\n",
    "# .\n",
    "# .\n",
    "# .\n",
    "# 99 번째 재귀 함수에서 100 번째 재귀 함수를 호출합니다.\n",
    "# 99 번째 재귀 함수를 종료합니다\n",
    "# .\n",
    "# .\n",
    "# .\n",
    "# 1 번째 재귀 함수를 종료합니다"
   ]
  },
  {
   "cell_type": "markdown",
   "id": "11dd6382",
   "metadata": {},
   "source": [
    "- 컴퓨터 내부에서 재귀 함수의 수행은 스택 자료구조를 이용. (재귀 함수는 내부적으로 스택 자료구조와 동일)\n",
    "    - 함수를 계속 호출했을 때 가장 마지막에 호출한 함수가 먼저 수행을 끝내야 그 앞의 함수 호출이 종료되기 때문.\n",
    "    - 스택 자료구조를 활용해야 하는 상당수 알고리즘은 재귀 함수를 이용해서 간편하게 구현 가능. (예: DFS)\n",
    "- 재귀 함수를 이용하는 대표적 예제: 팩토리얼(Factorial) 문제"
   ]
  },
  {
   "cell_type": "code",
   "execution_count": 3,
   "id": "b91b4347",
   "metadata": {},
   "outputs": [
    {
     "name": "stdout",
     "output_type": "stream",
     "text": [
      "반복적으로 구현: 120\n",
      "재귀적으로 구현: 120\n"
     ]
    }
   ],
   "source": [
    "# 5-2.py 2가지 방식으로 구현한 팩토리얼 예제\n",
    "\n",
    "# 반복적으로 구현한 n!\n",
    "def factorial_iterative(n):\n",
    "    result = 1\n",
    "    for i in range(1, n + 1):\n",
    "        result *= i\n",
    "    return result\n",
    "\n",
    "# 재귀적으로 구현한 n!\n",
    "def factorial_recursive(n):\n",
    "    if n <= 1:\n",
    "        return 1\n",
    "    return n * factorial_recursive(n - 1)\n",
    "\n",
    "# 각각의 방식으로 구현한 n! 출력(n = 5)\n",
    "print('반복적으로 구현:', factorial_iterative(5))\n",
    "print('재귀적으로 구현:', factorial_recursive(5))"
   ]
  },
  {
   "cell_type": "markdown",
   "id": "b67309e4",
   "metadata": {},
   "source": [
    "- 재귀 함수의 코드가 더 간결함\n",
    "    - 재귀 함수가 수학의 점화식(재귀식)을 그래도 소스코드로 옮겼기 때문\n",
    "- 수학에서 점화식은 특정한 함수를 자신보다 더 작은 변수에 대한 함수와의 관계로 표현한 것\n",
    "- 팩토리얼의 수학적 점화식 표현:\n",
    "    1. n이 0 혹은 1일 때: $factorial(n) = 1$\n",
    "    2. n이 1보다 클 때: $factorial(n) = n \\times factorial(n - 1)$\n",
    "- 재귀 함수 내에서 특정 조건일 때 더 이상 재귀적으로 함수를 호출하지 않고 종료하도록 `if`문을 이용하여 꼭 종료 조건을 구현해주어야함."
   ]
  },
  {
   "cell_type": "markdown",
   "id": "343e203d",
   "metadata": {},
   "source": [
    "## 2. 탐색 알고리즘 DFS/BFS\n",
    "### DFS\n",
    "- Depth-First Search (DFS): 깊이 우선 탐색이라고도 부르며, 그래프에서 깊은 부분을 우선적으로 탐색하는 알고리즘\n",
    "- 그래프(Graph)의 기본 구조:\n",
    "    - 그래프는 노드(Node)와 간선(Edge)으로 표현\n",
    "- 그래프 탐색이란 하나의 노드를 시작으로 다수의 노드를 방문하는 것\n",
    "- 두 노드가 간선으로 연결되어 있다면 '두 노드는 입적하다(Adjacent)'라고 표현\n",
    "- **프로그래밍에서의 그래프 표현 방식 2가지**:\n",
    "    - 인접 행렬(Adjacency Matrix): 2차원 배열로 그래프의 연결 관계를 표현하는 방식\n",
    "        - 연결이 되어 있지 않은 노드끼리는 무한(Infinity)의 비용이라고 작성. 실제 코드에서는 논리적으로 정답이 될 수 없는 큰 값중에서 999999999, 987654321 등의 값으로 초기화\n",
    "    - 인접 리스트(Adjacency List): 리스트로 그래프의 연결 관계를 표현하는 방식\n",
    "         - 모든 노드에 연결된 노드에 대한 정보를 차례대로 연결하여 저장\n",
    "         - 파이썬으로 인접 리스트를 이용해 그래프를 표현하고자 할 때에도 단순히 2차원 리스트를 이용하면 됨"
   ]
  },
  {
   "cell_type": "code",
   "execution_count": 7,
   "id": "5f7caa74",
   "metadata": {},
   "outputs": [
    {
     "name": "stdout",
     "output_type": "stream",
     "text": [
      "[[0, 7, 5], [7, 0, 999999999], [5, 999999999, 0]]\n"
     ]
    }
   ],
   "source": [
    "# 5-6.py 인접 행렬 방식 예제\n",
    "INF = 999999999 # 무한의 비용 선언\n",
    "\n",
    "# 2차원 리스트를이용해 인접 행렬 표현\n",
    "graph = [\n",
    "    [0, 7, 5],\n",
    "    [7, 0, INF],\n",
    "    [5, INF, 0]\n",
    "]\n",
    "\n",
    "print(graph)"
   ]
  },
  {
   "cell_type": "code",
   "execution_count": 9,
   "id": "543cb1b9",
   "metadata": {},
   "outputs": [
    {
     "name": "stdout",
     "output_type": "stream",
     "text": [
      "[[(1, 7), (2, 5)], [(0, 7)], [(0, 5)]]\n"
     ]
    }
   ],
   "source": [
    "# 5-7.py 인접 리스트 방식 예제\n",
    "\n",
    "# 행(Row)이 3개인 2차원 리스트로 인접 리스트 표현\n",
    "graph = [[] for _ in range(3)]\n",
    "\n",
    "# 노드 0에 연결된 노드 정보 저장(노드, 거리)\n",
    "graph[0].append((1, 7))\n",
    "graph[0].append((2, 5))\n",
    "\n",
    "# 노드 1에 연결된 노드 정보 저장(노드, 거리)\n",
    "graph[1].append((0, 7))\n",
    "\n",
    "# 노드 2에 연결된 노드 정보 저장(노드, 거리)\n",
    "graph[2].append((0, 5))\n",
    "\n",
    "print(graph)"
   ]
  },
  {
   "cell_type": "markdown",
   "id": "98feae56",
   "metadata": {},
   "source": [
    "- 인접 행렬 방식은 모든 관계를 저장하므로 노드 개수가 많을수록 메모리가 불필요하게 낭비됨.\n",
    "- 인접 리스트 방식은 연결된 정보만을 저장하기 때문에 메모리를 효율적으로 사용\n",
    "- 인접 리스트 방식은 인접 행렬 방식에 비해 특정한 두 노드가 연결되어 있는지에 대한 정보를 얻는 속도가 느림\n",
    "- DFS는 스택 자료구조를 이용.\n",
    "\n",
    "- DFS의 동작 과정:\n",
    "     - 탐색 시작 노드를 스택에 삽입하고 방문 처리를 함\n",
    "     - 스택의 최상단 노드에 방문하지 않은 인접 노드가 있으면 그 인접 노드를 스택에 넣고 방문 처리를 함. 방문하지 않은 노드가 없으면 스택에서 최상단 노드를 꺼냄\n",
    "     - 두 번째 과정을 더 이상 수행할 수 없을 때까지 반복.\n",
    "- '방문 처리'는 스택에 한 번 삽입되어 처리된 노드가 다시 삽입되지 않게 체크하는 것을 의미. 방문 처리를 함으로써 각 노드를 한 번씩만 처리할 수 있음.\n",
    "- 시간 복잡도: $O(N)$\n",
    "- DFS는 스택을 이용하는 알고리즘이기 때문에 실제 구현은 재귀 함수를 이용했을 때 매우 간결하게 구현할 수 있음."
   ]
  },
  {
   "cell_type": "code",
   "execution_count": 10,
   "id": "847ba10c",
   "metadata": {},
   "outputs": [
    {
     "name": "stdout",
     "output_type": "stream",
     "text": [
      "1 2 7 6 8 3 4 5 "
     ]
    }
   ],
   "source": [
    "# 5-8.py DFS 예제\n",
    "\n",
    "#DFS 메서드 정의\n",
    "def dfs(graph, v, visited):\n",
    "    # 현재 노드를 방문 처리\n",
    "    visited[v] = True\n",
    "    print(v, end=' ')\n",
    "    # 현재 노드와 연결된 다른 노드를 재귀적으로 방문\n",
    "    for i in graph[v]:\n",
    "        if not visited[i]:\n",
    "            dfs(graph, i, visited)\n",
    "            \n",
    "# 각 노득가 연결된 정보를 리스트 자료형을 표현(2차원 리스트)\n",
    "graph = [\n",
    "    [],\n",
    "    [2, 3, 8],\n",
    "    [1, 7],\n",
    "    [1, 4, 5],\n",
    "    [3, 5],\n",
    "    [3, 4],\n",
    "    [7],\n",
    "    [2, 6, 8],\n",
    "    [1, 7]\n",
    "]\n",
    "\n",
    "# 각 노드가 방문된 정보를 리스트 자료형으로 표현(1차원 리스트)\n",
    "visited = [False] * 9\n",
    "\n",
    "# 정의된 DFS 함수 호출\n",
    "dfs(graph, 1, visited)"
   ]
  },
  {
   "cell_type": "markdown",
   "id": "7a770ff2",
   "metadata": {},
   "source": [
    "### BFS\n",
    "- Breadth First Search (BFS): 너비 우선 탐색. 가까운 노드부터 탐색하는 알고리즘.\n",
    "- BFS 구현에서는 선입선출 방식인 큐 자료구조를 이용하는 것이 정석\n",
    "- BFS 알고리즘의 동작 방식:\n",
    "    - 탐색 시작 노드를 큐에 삽입하고 방문 처리\n",
    "    - 큐에서 노드를 꺼내 해당 노드의 인접 노드 중에서 방문하지 않은 노드를 모두 큐에 삽입하고 방문 처리.\n",
    "    - 두 번째 과정을 더 이상 수행할 수 없을 때까지 반복.\n",
    "- 실제로 구현함에 있어 `deque` 라이브러리를 사용하는 것이 좋음\n",
    "- 시간 복잡도: $O(N)$\n",
    "- 일반적인 경우 실제 수행 시간은 DFS보다 좋은 편"
   ]
  },
  {
   "cell_type": "code",
   "execution_count": 12,
   "id": "1f62c877",
   "metadata": {},
   "outputs": [
    {
     "name": "stdout",
     "output_type": "stream",
     "text": [
      "1 2 3 8 7 4 5 6 "
     ]
    }
   ],
   "source": [
    "from collections import deque\n",
    "\n",
    "# BFS 메서드 정의\n",
    "def bfs(graph, start, visited):\n",
    "    # 큐(Queue) 구현을 위해 deque 라이브러리 사용\n",
    "    queue = deque([start])\n",
    "    # 현재 노드를 방문 처리\n",
    "    visited[start] = True\n",
    "    # 큐가 빌 때까지 반복\n",
    "    while queue:\n",
    "        # 큐에서 하나의 원소를 뽑아 출력\n",
    "        v = queue.popleft()\n",
    "        print(v, end=' ')\n",
    "        # 해당 원소와 연결된, 아직 방문하지 않은 원소들을 큐에 삽입\n",
    "        for i in graph[v]:\n",
    "            if not visited[i]:\n",
    "                queue.append(i)\n",
    "                visited[i] = True\n",
    "                \n",
    "# 각 노드가 연결된 정보를 리스트 자료형으로 표현(2차원 리스트)\n",
    "graph = [\n",
    "    [],\n",
    "    [2, 3, 8],\n",
    "    [1, 7],\n",
    "    [1, 4, 5],\n",
    "    [3, 5],\n",
    "    [3, 4],\n",
    "    [7],\n",
    "    [2, 6, 8],\n",
    "    [1, 7]\n",
    "]\n",
    "\n",
    "# 각 노드가 방문된 정보를 리스트 자료형으로 표현(1차원 리스트)\n",
    "visited = [False] * 9\n",
    "\n",
    "# 정의된 DFS 함수 호출\n",
    "bfs(graph, 1, visited)"
   ]
  },
  {
   "cell_type": "markdown",
   "id": "f4add15c",
   "metadata": {},
   "source": [
    "- 코딩 테스트 중 2차원 배열에서의 탐색 문제를 만나면 이렇게 그래프 형태로 바꿔서 생각하면 풀이 방법을 조금 더 쉽게 떠올릴 수 있음."
   ]
  }
 ],
 "metadata": {
  "kernelspec": {
   "display_name": "Python 3 (ipykernel)",
   "language": "python",
   "name": "python3"
  },
  "language_info": {
   "codemirror_mode": {
    "name": "ipython",
    "version": 3
   },
   "file_extension": ".py",
   "mimetype": "text/x-python",
   "name": "python",
   "nbconvert_exporter": "python",
   "pygments_lexer": "ipython3",
   "version": "3.9.7"
  }
 },
 "nbformat": 4,
 "nbformat_minor": 5
}
