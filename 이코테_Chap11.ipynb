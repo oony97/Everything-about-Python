{
 "cells": [
  {
   "cell_type": "markdown",
   "id": "6e12cf4c",
   "metadata": {},
   "source": [
    "# Chapter 11 그리디 문제"
   ]
  },
  {
   "cell_type": "markdown",
   "id": "5d22cae4",
   "metadata": {},
   "source": [
    "## Q1 모험가 길드"
   ]
  },
  {
   "cell_type": "code",
   "execution_count": 4,
   "id": "74921768",
   "metadata": {},
   "outputs": [
    {
     "name": "stdout",
     "output_type": "stream",
     "text": [
      "5\n",
      "2 3 1 2 2\n",
      "2\n"
     ]
    }
   ],
   "source": [
    "# My Solution\n",
    "n = int(input())\n",
    "lst = input().split()\n",
    "\n",
    "for i in range(len(lst)):\n",
    "    lst[i] = int(lst[i])\n",
    "    \n",
    "lst.sort()\n",
    "\n",
    "num_group = 0\n",
    "remaining = n\n",
    "\n",
    "while remaining > 0:\n",
    "    max_num = lst[-1]\n",
    "    if max_num <= remaining:\n",
    "        num_group += 1\n",
    "        remaining -= lst[-1]\n",
    "        lst = lst[:-max_num]\n",
    "        \n",
    "print(num_group)"
   ]
  },
  {
   "cell_type": "code",
   "execution_count": 15,
   "id": "d908a148",
   "metadata": {},
   "outputs": [
    {
     "name": "stdout",
     "output_type": "stream",
     "text": [
      "5\n",
      "2 3 1 2 2\n",
      "2\n"
     ]
    }
   ],
   "source": [
    "# Textbook Solution\n",
    "n = int(input())\n",
    "data = list(map(int, input().split()))\n",
    "data.sort()\n",
    "\n",
    "result = 0 # 총 그룹의 수\n",
    "count = 0 # 현재 그룹에 포함된 모험가의 수\n",
    "\n",
    "for i in data: # 공포도를 낮은 것부터 하나씩 확인하며\n",
    "    count += 1 # 현재 그룹에 해당 모험가를 포함시키기\n",
    "    if count == i: # 현재 그룹에 포함된 모험가의 수가 현재의 공포도 이상이라면, 그룹 결성\n",
    "        result += 1 # 총 그룹의 수 증가시키기\n",
    "        count = 0 # 현재 그룹에 포함된 모험가의 수 초기화\n",
    "        \n",
    "print(result) # 총 그룹의 수 출력"
   ]
  },
  {
   "cell_type": "markdown",
   "id": "424ebbce",
   "metadata": {},
   "source": [
    "## Q2 곱하기 혹은 더하기"
   ]
  },
  {
   "cell_type": "code",
   "execution_count": 6,
   "id": "7f2f67d9",
   "metadata": {
    "scrolled": true
   },
   "outputs": [
    {
     "name": "stdout",
     "output_type": "stream",
     "text": [
      "567\n",
      "210\n"
     ]
    }
   ],
   "source": [
    "# My Solution\n",
    "lst = input()\n",
    "result = int(lst[0])\n",
    "for i in range(1, len(lst)):\n",
    "    if (result * int(lst[i])) == 0:\n",
    "        result += int(lst[i])\n",
    "    else:\n",
    "        result = result * int(lst[i])\n",
    "\n",
    "print(result)"
   ]
  },
  {
   "cell_type": "code",
   "execution_count": 16,
   "id": "739ff811",
   "metadata": {},
   "outputs": [
    {
     "name": "stdout",
     "output_type": "stream",
     "text": [
      "567\n",
      "210\n"
     ]
    }
   ],
   "source": [
    "# Textbook Solution\n",
    "data = input()\n",
    "\n",
    "# 첫 번째 문자를 숫자로 변경하여 대입\n",
    "result = int(data[0])\n",
    "\n",
    "for i in range(1, len(data)):\n",
    "    # 두 수 중에서 하나라도 '0' 혹은 '1'인 경우, 곱하기보다는 더하기 수행\n",
    "    num = int(data[i])\n",
    "    if num <= 1 or result <= 1:\n",
    "        result += num\n",
    "    else:\n",
    "        result *= num\n",
    "        \n",
    "print(result)"
   ]
  },
  {
   "cell_type": "markdown",
   "id": "452954a3",
   "metadata": {},
   "source": [
    "## Q3 문자열 뒤집기"
   ]
  },
  {
   "cell_type": "code",
   "execution_count": 11,
   "id": "2bd6b7cc",
   "metadata": {},
   "outputs": [
    {
     "name": "stdout",
     "output_type": "stream",
     "text": [
      "0001100\n",
      "1\n"
     ]
    }
   ],
   "source": [
    "# My Solution\n",
    "lst = input()\n",
    "id = lst[0]\n",
    "count_0 = 0\n",
    "count_1 = 0\n",
    "\n",
    "if id == '0':\n",
    "    count_0 += 1\n",
    "else:\n",
    "    count_1 += 1\n",
    "    \n",
    "for i in range(1, len(lst)):\n",
    "    if id != lst[i]:\n",
    "        if lst[i] == '0':\n",
    "            count_0 += 1\n",
    "        else:\n",
    "            count_1 += 1\n",
    "        id = lst[i]\n",
    "        \n",
    "print(min(count_0, count_1))"
   ]
  },
  {
   "cell_type": "code",
   "execution_count": 17,
   "id": "f77ff165",
   "metadata": {},
   "outputs": [
    {
     "name": "stdout",
     "output_type": "stream",
     "text": [
      "0001100\n",
      "1\n"
     ]
    }
   ],
   "source": [
    "# Textbook Solution\n",
    "data = input()\n",
    "count0 = 0 # 전부 0으로 바꾸는 경우\n",
    "count1 = 0 # 전부 1로 바꾸는 경우\n",
    "\n",
    "# 첫 번째 원소에 대해서 처리\n",
    "if data[0] == '1':\n",
    "    count0 += 1\n",
    "else:\n",
    "    count1 += 1\n",
    "    \n",
    "# 두 번째 원소부터 모든 원소를 확인하며\n",
    "for i in range(len(data) - 1):\n",
    "    if data[i] != data[i + 1]:\n",
    "        # 다음 수에서 1로 바뀌는 경우\n",
    "        if data[i + 1] == '1':\n",
    "            count0 += 1\n",
    "        # 다음 수에서 0으로 바뀌는 경우\n",
    "        else:\n",
    "            count1 += 1\n",
    "\n",
    "print(min(count0, count1))"
   ]
  },
  {
   "cell_type": "markdown",
   "id": "d969400d",
   "metadata": {},
   "source": [
    "## Q4 만들 수 없는 금액"
   ]
  }
 ],
 "metadata": {
  "kernelspec": {
   "display_name": "Python 3 (ipykernel)",
   "language": "python",
   "name": "python3"
  },
  "language_info": {
   "codemirror_mode": {
    "name": "ipython",
    "version": 3
   },
   "file_extension": ".py",
   "mimetype": "text/x-python",
   "name": "python",
   "nbconvert_exporter": "python",
   "pygments_lexer": "ipython3",
   "version": "3.9.7"
  }
 },
 "nbformat": 4,
 "nbformat_minor": 5
}
