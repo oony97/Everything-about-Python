{
 "cells": [
  {
   "cell_type": "markdown",
   "id": "a9e1dc9b",
   "metadata": {},
   "source": [
    "# Chapter 3 - 그리디\n",
    "## 1 당장 좋은 것만 선택하는 그리디\n",
    "- 그리디 알고리즘 (탐욕법): 현재 상황에서 지금 당장 좋은 것만 고르는 방법\n",
    "- 그리디 알고리즘을 이용하면 매 순간 가장 좋아 보이는 것을 선택하며, 현재의 선택이 나중에 미칠 영향에 대해서 고려하지 않음.\n",
    "- **예제 3-1** 거스름돈: 당신은 음식점의 계산을 도와주는 점원이다. 카운터에는 거스름도으로 사용할 500원, 100원, 50원, 10원짜리 동전이 무한히 존재한다고 가정한다. 손님에게 거슬러 줘야 할 돈이 N원일 때 거슬러줘야 할 동전의 최소 개수를 구하라. 단, 거슬러 줘야 할 돈 N은 항상 10의 배수이다."
   ]
  },
  {
   "cell_type": "code",
   "execution_count": 1,
   "id": "49694f7e",
   "metadata": {},
   "outputs": [
    {
     "name": "stdout",
     "output_type": "stream",
     "text": [
      "6\n"
     ]
    }
   ],
   "source": [
    "n = 1260\n",
    "coin_types = [500, 100, 50, 10]\n",
    "count = 0\n",
    "for coin in coin_types:\n",
    "    count += n // coin\n",
    "    n -= coin * (n // coin)\n",
    "\n",
    "print(count) # 시간 복잡도: O(K), K=len(coin_types)"
   ]
  },
  {
   "cell_type": "markdown",
   "id": "716dfa1b",
   "metadata": {},
   "source": [
    "### 그리디 알고리즘의 정당성\n",
    "- 그리디 알고리즘은 탐욕적으로 문제에 접근했을 때 정확한 답을 찾을 수 있다는 보장이 있을 때는 매우 효과적\n",
    "- 대부분의 그리디 알고리즘 문제에서는 문제 풀이를 위한 최소한의 아이디어를 떠올리고 이것이 정당한지 검토할 수 있어야 답을 도출할 수 있다.\n",
    "- 거스름돈 문제를 그리디 알고리즘으로 해결할 수 있는 이유는 가지고 있는 동전 중에서 큰 단위가 항상 작은 단위의 배수이므로 작은 단위의 동전들을 종합해 다른 해가 나올 수 없기 때문"
   ]
  },
  {
   "cell_type": "markdown",
   "id": "dc84da08",
   "metadata": {},
   "source": [
    "## 2 큰 수의 법칙"
   ]
  },
  {
   "cell_type": "code",
   "execution_count": 6,
   "id": "aff64440",
   "metadata": {},
   "outputs": [
    {
     "name": "stdout",
     "output_type": "stream",
     "text": [
      "5 8 3\n",
      "2 4 5 4 6\n",
      "46\n"
     ]
    }
   ],
   "source": [
    "# My solution\n",
    "\n",
    "n, m, k = input().split()\n",
    "n = int(n)\n",
    "m = int(m)\n",
    "k = int(k)\n",
    "\n",
    "int_lst = input().split()\n",
    "for i in range(n):\n",
    "    int_lst[i] = int(int_lst[i])\n",
    "\n",
    "max_1 = max(int_lst)\n",
    "\n",
    "while max_1 in int_lst:\n",
    "    int_lst.remove(max_1) # 오답: 인덱스가 다르면 같은 수라도 연속해서 사용 가능\n",
    "\n",
    "max_2 = max(int_lst)\n",
    "\n",
    "sum = 0\n",
    "count = 0\n",
    "\n",
    "while count < m:\n",
    "    for i in range(k):\n",
    "        if count < m:\n",
    "            sum += max_1\n",
    "            count += 1\n",
    "    if count < m:\n",
    "        sum += max_2\n",
    "        count += 1\n",
    "\n",
    "print(sum)"
   ]
  },
  {
   "cell_type": "code",
   "execution_count": 9,
   "id": "d8ac825e",
   "metadata": {},
   "outputs": [
    {
     "name": "stdout",
     "output_type": "stream",
     "text": [
      "5 8 3\n",
      "2 4 5 4 6\n",
      "46\n"
     ]
    }
   ],
   "source": [
    "# Textbook Solution\n",
    "\n",
    "n, m, k = map(int, input().split())\n",
    "\n",
    "data = list(map(int, input().split()))\n",
    "\n",
    "data.sort()\n",
    "first = data[n - 1]\n",
    "second = data[n - 2]\n",
    "\n",
    "result = 0\n",
    "\n",
    "while True:\n",
    "    for i in range(k):\n",
    "        if m == 0:\n",
    "            break\n",
    "        result += first\n",
    "        m -= 1\n",
    "    if m == 0:\n",
    "        break\n",
    "    result += second\n",
    "    m -= 1\n",
    "    \n",
    "print(result)"
   ]
  },
  {
   "cell_type": "markdown",
   "id": "648c1cad",
   "metadata": {},
   "source": [
    "가장 큰 수가 더해지는 횟수: int(M / (K + 1)) * K + M % (K + 1)"
   ]
  },
  {
   "cell_type": "code",
   "execution_count": 11,
   "id": "3f6ac5ab",
   "metadata": {},
   "outputs": [
    {
     "name": "stdout",
     "output_type": "stream",
     "text": [
      "5 8 3\n",
      "2 4 5 4 6\n",
      "46\n"
     ]
    }
   ],
   "source": [
    "# 위를 토대로 작성된 답안\n",
    "\n",
    "n, m, k = map(int, input().split())\n",
    "data = list(map(int, input().split()))\n",
    "\n",
    "data.sort()\n",
    "first = data[n - 1]\n",
    "second = data[n - 2]\n",
    "\n",
    "count = int(m / (k + 1)) * k\n",
    "count += m % (k + 1)\n",
    "\n",
    "result = 0\n",
    "result += (count) * first\n",
    "result += (m - count) * second\n",
    "\n",
    "print(result)"
   ]
  },
  {
   "cell_type": "markdown",
   "id": "1a0a4a94",
   "metadata": {},
   "source": [
    "## 3 숫자 카드 게임\n",
    "- 숫자 카드 게임은 여러 개의 숫자 카드 중에서 가장 높은 숫자가 쓰인 카드 한 장을 뽑는 게임"
   ]
  },
  {
   "cell_type": "code",
   "execution_count": 6,
   "id": "7bc71c4d",
   "metadata": {},
   "outputs": [
    {
     "name": "stdout",
     "output_type": "stream",
     "text": [
      "2 4\n",
      "7 3 1 8\n",
      "3 3 3 4\n",
      "3\n"
     ]
    }
   ],
   "source": [
    "# My Solution\n",
    "n, m = map(int, input().split())\n",
    "lst = []\n",
    "lst_min = []\n",
    "for i in range(n):\n",
    "    new_row = list(map(int, input().split()))\n",
    "    lst.append(new_row)\n",
    "for i in range(n):\n",
    "    lst_min.append(min(lst[i]))\n",
    "print(max(lst_min))"
   ]
  },
  {
   "cell_type": "code",
   "execution_count": 7,
   "id": "67dcc909",
   "metadata": {},
   "outputs": [
    {
     "name": "stdout",
     "output_type": "stream",
     "text": [
      "2 4\n",
      "7 3 1 8\n",
      "3 3 3 4\n",
      "3\n"
     ]
    }
   ],
   "source": [
    "# Textbook Solution 1\n",
    "n, m = map(int, input().split())\n",
    "\n",
    "result = 0\n",
    "\n",
    "for i in range(n):\n",
    "    data = list(map(int, input().split()))\n",
    "    min_value = min(data)\n",
    "    result = max(result, min_value)\n",
    "    \n",
    "print(result)"
   ]
  },
  {
   "cell_type": "code",
   "execution_count": 8,
   "id": "33856364",
   "metadata": {},
   "outputs": [
    {
     "name": "stdout",
     "output_type": "stream",
     "text": [
      "2 4\n",
      "7 3 1 8\n",
      "3 3 3 4\n",
      "3\n"
     ]
    }
   ],
   "source": [
    "# Textbook Solution 2\n",
    "n, m = map(int, input().split())\n",
    "\n",
    "result = 0\n",
    "\n",
    "for i in range(n):\n",
    "    data = list(map(int, input().split()))\n",
    "    min_value = 10001\n",
    "    for a in data:\n",
    "        min_value = min(min_value, a)\n",
    "    result = max(result, min_value)\n",
    "\n",
    "print(result)"
   ]
  },
  {
   "cell_type": "markdown",
   "id": "5a2fe714",
   "metadata": {},
   "source": [
    "## 4 1이 될 때까지"
   ]
  },
  {
   "cell_type": "code",
   "execution_count": 11,
   "id": "0069fdfc",
   "metadata": {},
   "outputs": [
    {
     "name": "stdout",
     "output_type": "stream",
     "text": [
      "6 3\n",
      "2\n"
     ]
    }
   ],
   "source": [
    "# My Solution\n",
    "n, k = map(int, input().split())\n",
    "count = 0\n",
    "\n",
    "while n != 1:\n",
    "    if n % k == 0:\n",
    "        n = n / k\n",
    "        count += 1\n",
    "    else:\n",
    "        n -= 1\n",
    "        count += 1\n",
    "\n",
    "print(count)"
   ]
  },
  {
   "cell_type": "code",
   "execution_count": 14,
   "id": "02ca52a6",
   "metadata": {},
   "outputs": [
    {
     "name": "stdout",
     "output_type": "stream",
     "text": [
      "6 3\n",
      "2\n"
     ]
    }
   ],
   "source": [
    "# Textbook Solution 1\n",
    "n, k = map(int, input().split())\n",
    "result = 0\n",
    "\n",
    "while n >= k:\n",
    "    while n % k != 0:\n",
    "        n -= 1\n",
    "        result += 1\n",
    "    n //= k\n",
    "    result +=1\n",
    "    \n",
    "while n > 1:\n",
    "    n -= 1\n",
    "    result += 1\n",
    "\n",
    "print(result)"
   ]
  },
  {
   "cell_type": "code",
   "execution_count": 16,
   "id": "2433435a",
   "metadata": {},
   "outputs": [
    {
     "name": "stdout",
     "output_type": "stream",
     "text": [
      "25 5\n",
      "2\n"
     ]
    }
   ],
   "source": [
    "# Textbook Solution 2\n",
    "n, k = map(int, input().split())\n",
    "result = 0\n",
    "\n",
    "while True:\n",
    "    target = (n // k) * k\n",
    "    result += (n - target)\n",
    "    n = target\n",
    "    if n < k:\n",
    "        break\n",
    "    result += 1\n",
    "    n //= k\n",
    "\n",
    "result += (n - 1)\n",
    "print(result)"
   ]
  }
 ],
 "metadata": {
  "kernelspec": {
   "display_name": "Python 3 (ipykernel)",
   "language": "python",
   "name": "python3"
  },
  "language_info": {
   "codemirror_mode": {
    "name": "ipython",
    "version": 3
   },
   "file_extension": ".py",
   "mimetype": "text/x-python",
   "name": "python",
   "nbconvert_exporter": "python",
   "pygments_lexer": "ipython3",
   "version": "3.9.7"
  }
 },
 "nbformat": 4,
 "nbformat_minor": 5
}
