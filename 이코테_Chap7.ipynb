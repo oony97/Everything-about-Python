{
 "cells": [
  {
   "cell_type": "markdown",
   "id": "5394aadc",
   "metadata": {},
   "source": [
    "# Chapter 7 - 이진 탐색\n",
    "## 1. 범위를 반씩 좁혀가는 탐색\n",
    "### 순차 탐색\n",
    "- 순차 탐색(Sequential Search): 리스트 안에 있는 특정한 데이터를 찾기 위해 앞에서부터 데이터를 하나씩 차례대로 확인하는 방법"
   ]
  },
  {
   "cell_type": "code",
   "execution_count": 7,
   "id": "075f77a9",
   "metadata": {},
   "outputs": [
    {
     "name": "stdout",
     "output_type": "stream",
     "text": [
      "생성할 원소 개수를 입력한 다음 한 칸 띄고 찾을 문자열을 입력하세요.\n",
      "5 Dongbin\n",
      "앞서 적은 원소 개수만큼 문자열을 입력하세요. 구분은 띄어쓰기 한 칸으로 합니다.\n",
      "Hanul Jonggu Dongbin Taeil Sangwook\n",
      "3\n"
     ]
    }
   ],
   "source": [
    "# 7-1.py 순차 탐색 소스코드\n",
    "def sequential_search(n, target, array):\n",
    "    # 각 원소를 하나씩 확인하며\n",
    "    for i in range(n):\n",
    "        # 현재의 원소가 찾고자 하는 원소와 동일한 경우\n",
    "        if array[i] == target:\n",
    "            return i + 1 # 현재의 위치 반환(인덱스는 0부터 시작하므로 1 더하기)\n",
    "    \n",
    "print(\"생성할 원소 개수를 입력한 다음 한 칸 띄고 찾을 문자열을 입력하세요.\")\n",
    "input_data = input().split()\n",
    "n = int(input_data[0]) # 원소의 개수\n",
    "target = input_data[1] # 찾고자 하는 문자열\n",
    "\n",
    "print(\"앞서 적은 원소 개수만큼 문자열을 입력하세요. 구분은 띄어쓰기 한 칸으로 합니다.\")\n",
    "array = input().split()\n",
    "\n",
    "# 순차 탐색 수행 결과 출력\n",
    "print(sequential_search(n, target, array))"
   ]
  },
  {
   "cell_type": "markdown",
   "id": "cfb787e5",
   "metadata": {},
   "source": [
    "- 최악의 경우 시간 복잡도는 $O(N)$"
   ]
  },
  {
   "cell_type": "markdown",
   "id": "0107958d",
   "metadata": {},
   "source": [
    "### 이진 탐색: 반으로 쪼개면서 탐색하기\n",
    "- 이진 탐색(Binary Search):\n",
    "    - 배열 내부의 데이터가 정렬되어 있어야만 사용할 수 있음.\n",
    "    - 매우 빠르게 데이터를 찾을 수 있음\n",
    "    - 탐색 범위를 절반씩 좁혀가면 데이터를 탐색\n",
    "- 이진 탐색의 위치를 나타내는 변수 3가지: 시작점, 끝점, 중간점\n",
    "    - 찾으려는 데이터와 중간점(Middle) 위치에 있는 데이터를 반복적으로 비교\n",
    "- 이진 탐색은 한 번 확인할 때마다 확인하는 원소의 개수가 절반씩 줄어든다는 점에서 시간 복잡도는 $O(logN)$\n",
    "- 이진 탐색의 구현 방법 2가지:\n",
    "    - 재귀 함수\n",
    "    - 반복문"
   ]
  },
  {
   "cell_type": "code",
   "execution_count": 8,
   "id": "904e2148",
   "metadata": {},
   "outputs": [
    {
     "name": "stdout",
     "output_type": "stream",
     "text": [
      "10 7\n",
      "1 3 5 7 9 11 13 15 17 19\n",
      "4\n"
     ]
    }
   ],
   "source": [
    "# 7-2.py 재귀 함수로 구현한 이진 탐색 소스코드\n",
    "# 이진 탐색 소스코드 구현(재귀 함수)\n",
    "def binary_search(array, target, start, end):\n",
    "    if start > end:\n",
    "        return None\n",
    "    mid = (start + end) // 2\n",
    "    # 찾은 경우 중간점 인덱스 반환\n",
    "    if array[mid] == target:\n",
    "        return mid\n",
    "    # 중간점의 값보다 찾고자 하는 값이 작은 경우 왼쪽 확인\n",
    "    elif array[mid] > target:\n",
    "        return binary_search(array, target, start, mid - 1)\n",
    "    else:\n",
    "        return binary_search(array, target, mid + 1, end)\n",
    "\n",
    "# n(원소의 개수)과 target(찾고자 하는 문자열)을 입력받기\n",
    "n, target = list(map(int, input().split()))\n",
    "# 전체 원소 입력받기\n",
    "array = list(map(int, input().split()))\n",
    "\n",
    "# 이진 탐색 수행 결과 출력\n",
    "result = binary_search(array, target, 0, n - 1)\n",
    "if result == None:\n",
    "    print(\"원소가 존재하지 않습니다.\")\n",
    "else:\n",
    "    print(result + 1)"
   ]
  },
  {
   "cell_type": "code",
   "execution_count": 9,
   "id": "c80387af",
   "metadata": {},
   "outputs": [
    {
     "name": "stdout",
     "output_type": "stream",
     "text": [
      "10 7\n",
      "1 3 5 7 9 11 13 15 17 19\n",
      "4\n"
     ]
    }
   ],
   "source": [
    "# 7-3.py 반복문으로 구현한 이진 탐색 소스코드\n",
    "# 이진 탐색 소스코드 구현(반복문)\n",
    "def binary_search(array, target, start, end):\n",
    "    while start <= end:\n",
    "        mid = (start + end) // 2\n",
    "        # 찾은 경우 중간점 인덱스 반환\n",
    "        if array[mid] == target:\n",
    "            return mid\n",
    "        # 중간점의 값보다 찾고자 하는 값이 작은 경우 왼쪽 확인\n",
    "        if array[mid] > target:\n",
    "            end = mid - 1\n",
    "        # 중간점의 값보다 찾고자 하는 값이 큰 경우 오른쪽 확인\n",
    "        else:\n",
    "            start = mid + 1\n",
    "    return None\n",
    "\n",
    "# n(원소의 개수)과 target(찾고자 하는 문자열)을 입력받기\n",
    "n, target = list(map(int, input().split()))\n",
    "# 전체 원소 입력받기\n",
    "array = list(map(int, input().split()))\n",
    "\n",
    "# 이진 탐색 수행 결과 출력\n",
    "result = binary_search(array, target, 0, n - 1)\n",
    "if result == None:\n",
    "    print(\"원소가 존재하지 않습니다.\")\n",
    "else:\n",
    "    print(result + 1)"
   ]
  },
  {
   "cell_type": "markdown",
   "id": "75c48239",
   "metadata": {},
   "source": [
    "#### 코딩 테스트에서의 이진 탐색\n",
    "- 이진 탐색은 코딩 테스트에서 단골로 나오는 문제이니 가급적 외우는 것을 권장\n",
    "- 코딩 테스트의 이진 탐색 문제는 탐색 범위가 큰 상황에서의 탐색을 가정하는 문제가 많음.\n",
    "    - 탐색 범위가 2,000만을 넘어가면 이진 탐색으로 문제에 접근해보길 권함."
   ]
  },
  {
   "cell_type": "markdown",
   "id": "2763a1a6",
   "metadata": {},
   "source": [
    "### 트리 자료구조\n",
    "- 데이터베이스는 내부적으로 대용량 데이터 처리에 적합한 트리(Tree) 자료구조를 이용하여 항상 데이터가 정렬되어 있음.\n",
    "    - 이진 탐색과 유사한 방법을 이용해 탐색을 항상 빠르게 수행하도록 설계되어 있음.\n",
    "- 트리 자료구조의 주요한 특징:\n",
    "    - 트리는 부모 노드와 자식 노드의 관계로 표현\n",
    "    - 트리의 최상단 노드를 루트 노드라고 함\n",
    "    - 트리의 최하단 노드를 단말 노드라고 함\n",
    "    - 트리에서 일부를 떼어내도 트리 구조이면 이를 서브 트리라고 함\n",
    "    - 트리는 파일 시스템과 같이 계층적이고 정렬된 데이터를 다루기에 적합함.\n",
    "    \n",
    "### 이진 탐색 트리\n",
    "- 이진 탐색 트리의 특징:\n",
    "    - 부모 노드보다 왼쪽 자식 노드가 작음.\n",
    "    - 부모 노드보다 오른쪽 자식 노드가 큼.\n",
    "    - 왼쪽 자식 노드 < 부모 노드 < 오른쪽 자식 노드\n",
    "- 공식에 따라 루트 노드부터 왼쪽 자식 노드 혹은 오른쪽 자식 노드로 이동하며 반복적으로 방문.\n",
    "- 자식 노드가 없을 때까지 원소를 찾지 못했다면, 이진 탐색 트리에 원소가 없는 것.\n",
    "\n",
    "#### 빠르게 입력받기\n",
    "- 이진 탐색 문제는 입력 데이터가 많거나, 탐색 범위가 매우 넓은 편.\n",
    "    - 데이터의 개수가 1,000만 개를 넘어가거난 탐색 범위의 크기가 1,000억 이상이라면 이진 탐색 알고리즘을 의심\n",
    "- 입력 데이터의 개수가 많은 경우 `input()` 함수 대신 `sys` 라이브러리의 `readline()` 함수를 이용하면 시간 초과를 피할 수 있음."
   ]
  },
  {
   "cell_type": "code",
   "execution_count": 11,
   "id": "85ca6c14",
   "metadata": {},
   "outputs": [
    {
     "name": "stdout",
     "output_type": "stream",
     "text": [
      "\n"
     ]
    }
   ],
   "source": [
    "# 7-4.py 한 줄 입력받아 출력하는 소스코드\n",
    "import sys\n",
    "# 하나의 문자열 데이터 입력받기\n",
    "input_data = sys.stdin.readline().rstrip()\n",
    "\n",
    "# 입력받은 문자열 그대로 출력\n",
    "print(input_data)"
   ]
  },
  {
   "cell_type": "markdown",
   "id": "adf8e56c",
   "metadata": {},
   "source": [
    "- `rstrip()`는 공백 문자 제거. 반드시 사용."
   ]
  }
 ],
 "metadata": {
  "kernelspec": {
   "display_name": "Python 3 (ipykernel)",
   "language": "python",
   "name": "python3"
  },
  "language_info": {
   "codemirror_mode": {
    "name": "ipython",
    "version": 3
   },
   "file_extension": ".py",
   "mimetype": "text/x-python",
   "name": "python",
   "nbconvert_exporter": "python",
   "pygments_lexer": "ipython3",
   "version": "3.9.7"
  }
 },
 "nbformat": 4,
 "nbformat_minor": 5
}
