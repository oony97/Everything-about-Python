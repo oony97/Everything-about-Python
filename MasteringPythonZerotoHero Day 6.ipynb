{
 "cells": [
  {
   "cell_type": "code",
   "execution_count": 1,
   "id": "ed6fe77a",
   "metadata": {},
   "outputs": [],
   "source": [
    "D = {23: 'twothree', 'B': 43, 'C': 'CCD', 'newKey': 'newValue'}\n",
    "D2 = {'y': 'YY', 'z': 10}"
   ]
  },
  {
   "cell_type": "code",
   "execution_count": 2,
   "id": "b04d7b2f",
   "metadata": {},
   "outputs": [
    {
     "name": "stdout",
     "output_type": "stream",
     "text": [
      "{23: 'twothree', 'B': 43, 'C': 'CCD', 'newKey': 'newValue'}\n",
      "{'y': 'YY', 'z': 10}\n"
     ]
    }
   ],
   "source": [
    "print(D)\n",
    "print(D2)"
   ]
  },
  {
   "cell_type": "code",
   "execution_count": 3,
   "id": "58d40435",
   "metadata": {},
   "outputs": [
    {
     "name": "stdout",
     "output_type": "stream",
     "text": [
      "{23: 'twothree', 'B': 43, 'C': 'CCD', 'newKey': 'newValue', 'y': 'YY', 'z': 10}\n"
     ]
    }
   ],
   "source": [
    "D.update(D2)\n",
    "print(D)"
   ]
  },
  {
   "cell_type": "code",
   "execution_count": 4,
   "id": "b8c74931",
   "metadata": {},
   "outputs": [],
   "source": [
    "L = [1, 3, 4.9, 3, 'how', 'are', 6, 'you', 6.8]"
   ]
  },
  {
   "cell_type": "code",
   "execution_count": 5,
   "id": "94c9c11d",
   "metadata": {},
   "outputs": [],
   "source": [
    "L2 = L"
   ]
  },
  {
   "cell_type": "code",
   "execution_count": 6,
   "id": "fcf1b97d",
   "metadata": {},
   "outputs": [
    {
     "data": {
      "text/plain": [
       "[1, 3, 4.9, 3, 'how', 'are', 6, 'you', 6.8]"
      ]
     },
     "execution_count": 6,
     "metadata": {},
     "output_type": "execute_result"
    }
   ],
   "source": [
    "L2"
   ]
  },
  {
   "cell_type": "code",
   "execution_count": 7,
   "id": "0af17039",
   "metadata": {},
   "outputs": [],
   "source": [
    "L2[2] = \"four point nine\""
   ]
  },
  {
   "cell_type": "code",
   "execution_count": 8,
   "id": "f9906c77",
   "metadata": {},
   "outputs": [
    {
     "data": {
      "text/plain": [
       "[1, 3, 'four point nine', 3, 'how', 'are', 6, 'you', 6.8]"
      ]
     },
     "execution_count": 8,
     "metadata": {},
     "output_type": "execute_result"
    }
   ],
   "source": [
    "L2"
   ]
  },
  {
   "cell_type": "code",
   "execution_count": 9,
   "id": "2fc36e98",
   "metadata": {},
   "outputs": [
    {
     "data": {
      "text/plain": [
       "[1, 3, 'four point nine', 3, 'how', 'are', 6, 'you', 6.8]"
      ]
     },
     "execution_count": 9,
     "metadata": {},
     "output_type": "execute_result"
    }
   ],
   "source": [
    "L"
   ]
  },
  {
   "cell_type": "code",
   "execution_count": 10,
   "id": "75b45812",
   "metadata": {},
   "outputs": [],
   "source": [
    "L2 = L.copy()"
   ]
  },
  {
   "cell_type": "code",
   "execution_count": 11,
   "id": "aa0ae323",
   "metadata": {},
   "outputs": [],
   "source": [
    "L2[2] = 4.9"
   ]
  },
  {
   "cell_type": "code",
   "execution_count": 12,
   "id": "64284c1e",
   "metadata": {},
   "outputs": [
    {
     "data": {
      "text/plain": [
       "[1, 3, 4.9, 3, 'how', 'are', 6, 'you', 6.8]"
      ]
     },
     "execution_count": 12,
     "metadata": {},
     "output_type": "execute_result"
    }
   ],
   "source": [
    "L2"
   ]
  },
  {
   "cell_type": "code",
   "execution_count": 13,
   "id": "5915b9df",
   "metadata": {},
   "outputs": [
    {
     "data": {
      "text/plain": [
       "[1, 3, 'four point nine', 3, 'how', 'are', 6, 'you', 6.8]"
      ]
     },
     "execution_count": 13,
     "metadata": {},
     "output_type": "execute_result"
    }
   ],
   "source": [
    "L"
   ]
  },
  {
   "cell_type": "code",
   "execution_count": 14,
   "id": "0bb9d75c",
   "metadata": {},
   "outputs": [],
   "source": [
    "L3 = L[1:5]"
   ]
  },
  {
   "cell_type": "code",
   "execution_count": 15,
   "id": "5ada1064",
   "metadata": {},
   "outputs": [
    {
     "data": {
      "text/plain": [
       "[3, 'four point nine', 3, 'how']"
      ]
     },
     "execution_count": 15,
     "metadata": {},
     "output_type": "execute_result"
    }
   ],
   "source": [
    "L3"
   ]
  },
  {
   "cell_type": "code",
   "execution_count": 16,
   "id": "e9c38c31",
   "metadata": {},
   "outputs": [],
   "source": [
    "L3[0] = \"three\""
   ]
  },
  {
   "cell_type": "code",
   "execution_count": 17,
   "id": "4e24a7f7",
   "metadata": {},
   "outputs": [
    {
     "data": {
      "text/plain": [
       "['three', 'four point nine', 3, 'how']"
      ]
     },
     "execution_count": 17,
     "metadata": {},
     "output_type": "execute_result"
    }
   ],
   "source": [
    "L3"
   ]
  },
  {
   "cell_type": "code",
   "execution_count": 18,
   "id": "651a135a",
   "metadata": {},
   "outputs": [
    {
     "data": {
      "text/plain": [
       "[1, 3, 'four point nine', 3, 'how', 'are', 6, 'you', 6.8]"
      ]
     },
     "execution_count": 18,
     "metadata": {},
     "output_type": "execute_result"
    }
   ],
   "source": [
    "L"
   ]
  },
  {
   "cell_type": "code",
   "execution_count": 19,
   "id": "c45b5197",
   "metadata": {},
   "outputs": [
    {
     "name": "stdout",
     "output_type": "stream",
     "text": [
      "Help on built-in function append:\n",
      "\n",
      "append(object, /) method of builtins.list instance\n",
      "    Append object to the end of the list.\n",
      "\n"
     ]
    }
   ],
   "source": [
    "help(L.append)"
   ]
  },
  {
   "cell_type": "code",
   "execution_count": 20,
   "id": "e523c00f",
   "metadata": {},
   "outputs": [
    {
     "name": "stdout",
     "output_type": "stream",
     "text": [
      "Help on built-in function clear:\n",
      "\n",
      "clear() method of builtins.list instance\n",
      "    Remove all items from list.\n",
      "\n"
     ]
    }
   ],
   "source": [
    "help(L.clear)"
   ]
  },
  {
   "cell_type": "code",
   "execution_count": 21,
   "id": "bc20db1b",
   "metadata": {},
   "outputs": [
    {
     "name": "stdout",
     "output_type": "stream",
     "text": [
      "Help on built-in function pop:\n",
      "\n",
      "pop(index=-1, /) method of builtins.list instance\n",
      "    Remove and return item at index (default last).\n",
      "    \n",
      "    Raises IndexError if list is empty or index is out of range.\n",
      "\n"
     ]
    }
   ],
   "source": [
    "help(L.pop)"
   ]
  },
  {
   "cell_type": "code",
   "execution_count": 22,
   "id": "082a8b06",
   "metadata": {},
   "outputs": [
    {
     "name": "stdout",
     "output_type": "stream",
     "text": [
      "Help on built-in function reverse:\n",
      "\n",
      "reverse() method of builtins.list instance\n",
      "    Reverse *IN PLACE*.\n",
      "\n"
     ]
    }
   ],
   "source": [
    "help(L.reverse)"
   ]
  },
  {
   "cell_type": "code",
   "execution_count": 23,
   "id": "2a3b54eb",
   "metadata": {},
   "outputs": [],
   "source": [
    "L.reverse()"
   ]
  },
  {
   "cell_type": "code",
   "execution_count": 24,
   "id": "b49fe8c9",
   "metadata": {},
   "outputs": [
    {
     "data": {
      "text/plain": [
       "[6.8, 'you', 6, 'are', 'how', 3, 'four point nine', 3, 1]"
      ]
     },
     "execution_count": 24,
     "metadata": {},
     "output_type": "execute_result"
    }
   ],
   "source": [
    "L"
   ]
  },
  {
   "cell_type": "code",
   "execution_count": 25,
   "id": "09416d2c",
   "metadata": {},
   "outputs": [
    {
     "data": {
      "text/plain": [
       "[1, 3, 'four point nine', 3, 'how', 'are', 6, 'you', 6.8]"
      ]
     },
     "execution_count": 25,
     "metadata": {},
     "output_type": "execute_result"
    }
   ],
   "source": [
    "L.reverse()\n",
    "L"
   ]
  },
  {
   "cell_type": "code",
   "execution_count": 26,
   "id": "ce57e7c4",
   "metadata": {},
   "outputs": [
    {
     "name": "stdout",
     "output_type": "stream",
     "text": [
      "Help on built-in function items:\n",
      "\n",
      "items(...) method of builtins.dict instance\n",
      "    D.items() -> a set-like object providing a view on D's items\n",
      "\n"
     ]
    }
   ],
   "source": [
    "help(D.items)"
   ]
  },
  {
   "cell_type": "code",
   "execution_count": 29,
   "id": "72fc454a",
   "metadata": {},
   "outputs": [
    {
     "data": {
      "text/plain": [
       "dict_items([(23, 'twothree'), ('B', 43), ('C', 'CCD'), ('newKey', 'newValue'), ('y', 'YY'), ('z', 10)])"
      ]
     },
     "execution_count": 29,
     "metadata": {},
     "output_type": "execute_result"
    }
   ],
   "source": [
    "D.items()"
   ]
  },
  {
   "cell_type": "code",
   "execution_count": 30,
   "id": "62419c8b",
   "metadata": {},
   "outputs": [],
   "source": [
    "S = {1, 23, 3, 4.9, 56, 'name'}"
   ]
  },
  {
   "cell_type": "code",
   "execution_count": 31,
   "id": "66bf1f82",
   "metadata": {},
   "outputs": [],
   "source": [
    "T = (1, 3, 4.9, 'name', 3)"
   ]
  },
  {
   "cell_type": "code",
   "execution_count": 32,
   "id": "fe4f8c20",
   "metadata": {},
   "outputs": [],
   "source": [
    "D2 = {'A': L, 'B': T, 'C': S, 'D': D}"
   ]
  },
  {
   "cell_type": "code",
   "execution_count": 33,
   "id": "707c0b2f",
   "metadata": {},
   "outputs": [
    {
     "data": {
      "text/plain": [
       "[1, 3, 'four point nine', 3, 'how', 'are', 6, 'you', 6.8]"
      ]
     },
     "execution_count": 33,
     "metadata": {},
     "output_type": "execute_result"
    }
   ],
   "source": [
    "D2['A']"
   ]
  },
  {
   "cell_type": "code",
   "execution_count": 34,
   "id": "706d6143",
   "metadata": {},
   "outputs": [
    {
     "data": {
      "text/plain": [
       "3"
      ]
     },
     "execution_count": 34,
     "metadata": {},
     "output_type": "execute_result"
    }
   ],
   "source": [
    "D2['A'][3]"
   ]
  },
  {
   "cell_type": "code",
   "execution_count": 35,
   "id": "95d93a6b",
   "metadata": {},
   "outputs": [],
   "source": [
    "K = D2['D']"
   ]
  },
  {
   "cell_type": "code",
   "execution_count": 36,
   "id": "9a73ebe8",
   "metadata": {},
   "outputs": [
    {
     "data": {
      "text/plain": [
       "{23: 'twothree', 'B': 43, 'C': 'CCD', 'newKey': 'newValue', 'y': 'YY', 'z': 10}"
      ]
     },
     "execution_count": 36,
     "metadata": {},
     "output_type": "execute_result"
    }
   ],
   "source": [
    "K"
   ]
  },
  {
   "cell_type": "code",
   "execution_count": 37,
   "id": "0cb69927",
   "metadata": {},
   "outputs": [
    {
     "name": "stdout",
     "output_type": "stream",
     "text": [
      "23 twothree\n",
      "B 43\n",
      "C CCD\n",
      "newKey newValue\n",
      "y YY\n",
      "z 10\n"
     ]
    }
   ],
   "source": [
    "for x in K:\n",
    "    print(x, K[x])"
   ]
  },
  {
   "cell_type": "code",
   "execution_count": 38,
   "id": "89f7f77e",
   "metadata": {},
   "outputs": [],
   "source": [
    "L3 = [L, T, D, 23, \"game\"]"
   ]
  },
  {
   "cell_type": "code",
   "execution_count": 40,
   "id": "9b158f38",
   "metadata": {},
   "outputs": [
    {
     "data": {
      "text/plain": [
       "dict"
      ]
     },
     "execution_count": 40,
     "metadata": {},
     "output_type": "execute_result"
    }
   ],
   "source": [
    "type(L3[2])"
   ]
  },
  {
   "cell_type": "code",
   "execution_count": 41,
   "id": "e8976018",
   "metadata": {},
   "outputs": [],
   "source": [
    "L3 = [x**2 for x in range(10)]"
   ]
  },
  {
   "cell_type": "code",
   "execution_count": 42,
   "id": "a8c7a26b",
   "metadata": {},
   "outputs": [
    {
     "data": {
      "text/plain": [
       "[0, 1, 4, 9, 16, 25, 36, 49, 64, 81]"
      ]
     },
     "execution_count": 42,
     "metadata": {},
     "output_type": "execute_result"
    }
   ],
   "source": [
    "L3"
   ]
  },
  {
   "cell_type": "code",
   "execution_count": 43,
   "id": "c59408ca",
   "metadata": {},
   "outputs": [],
   "source": [
    "S3 = {x**2 for x in range(2,20,3)}"
   ]
  },
  {
   "cell_type": "code",
   "execution_count": 44,
   "id": "60c9da5b",
   "metadata": {},
   "outputs": [
    {
     "data": {
      "text/plain": [
       "{4, 25, 64, 121, 196, 289}"
      ]
     },
     "execution_count": 44,
     "metadata": {},
     "output_type": "execute_result"
    }
   ],
   "source": [
    "S3"
   ]
  },
  {
   "cell_type": "code",
   "execution_count": 52,
   "id": "41ee9bcc",
   "metadata": {},
   "outputs": [],
   "source": [
    "\"\"\"You are a teacher and you have student records containing \n",
    "id of a student and the marks list in each subject where \n",
    "different studentshave taken different number of subjects. \n",
    "All there records are in hard copy. You want to enter all the\n",
    "data in computer and want to compute the average marks of\n",
    "each student and display.\"\"\"\n",
    "\n",
    "def getDataFromUser():\n",
    "    D = {}\n",
    "    while True:\n",
    "        studentID = input(\"Enter Stduent ID: \")\n",
    "        marksList = input(\"Enter the marks by comma separated values: \")\n",
    "        moreStudents = input(\"Enter \\\"no\\\" to quit insertion: \")\n",
    "        if studentID in D:\n",
    "            print(studentID, \"is already insterted.\")\n",
    "        else:\n",
    "            D[studentID] = marksList.split(\",\")\n",
    "        if moreStudents.lower() == \"no\":\n",
    "            return D"
   ]
  },
  {
   "cell_type": "code",
   "execution_count": 53,
   "id": "01a0ef4a",
   "metadata": {},
   "outputs": [
    {
     "name": "stdout",
     "output_type": "stream",
     "text": [
      "Enter Stduent ID: 12\n",
      "Enter the marks by comma separated values: 56, 45, 13\n",
      "Enter \"no\" to quit insertion: adf\n",
      "Enter Stduent ID: 45\n",
      "Enter the marks by comma separated values: 44, 55, 66, 77, 4\n",
      "Enter \"no\" to quit insertion: asdf\n",
      "Enter Stduent ID: 12\n",
      "Enter the marks by comma separated values: 45,45\n",
      "Enter \"no\" to quit insertion: no\n",
      "12 is already insterted.\n"
     ]
    }
   ],
   "source": [
    "studentData = getDataFromUser()"
   ]
  },
  {
   "cell_type": "code",
   "execution_count": 54,
   "id": "a22f6d09",
   "metadata": {},
   "outputs": [
    {
     "data": {
      "text/plain": [
       "{'12': ['56', ' 45', ' 13'], '45': ['44', ' 55', ' 66', ' 77', ' 4']}"
      ]
     },
     "execution_count": 54,
     "metadata": {},
     "output_type": "execute_result"
    }
   ],
   "source": [
    "studentData"
   ]
  },
  {
   "cell_type": "code",
   "execution_count": 55,
   "id": "52c2ed32",
   "metadata": {},
   "outputs": [],
   "source": [
    "studentData.update({'23': ['45', '45']})"
   ]
  },
  {
   "cell_type": "code",
   "execution_count": 58,
   "id": "c2dec7a4",
   "metadata": {},
   "outputs": [],
   "source": [
    "def getAvgMarks(D):\n",
    "    avgMarksDict = {}\n",
    "    for x in D:\n",
    "        L = D[x]\n",
    "        s = 0\n",
    "        for marks in L:\n",
    "            s += int(marks)\n",
    "        avgMarksDict[x] = s / len(L)\n",
    "    return avgMarksDict"
   ]
  },
  {
   "cell_type": "code",
   "execution_count": 59,
   "id": "00c57a38",
   "metadata": {},
   "outputs": [],
   "source": [
    "avgM = getAvgMarks(studentData)"
   ]
  },
  {
   "cell_type": "code",
   "execution_count": 60,
   "id": "73aa0621",
   "metadata": {},
   "outputs": [
    {
     "name": "stdout",
     "output_type": "stream",
     "text": [
      "Student: 12 got avg Marks as: 38.0\n",
      "Student: 45 got avg Marks as: 49.2\n",
      "Student: 23 got avg Marks as: 45.0\n"
     ]
    }
   ],
   "source": [
    "for x in avgM:\n",
    "    print(\"Student:\", x, \"got avg Marks as:\", avgM[x])"
   ]
  },
  {
   "cell_type": "code",
   "execution_count": 61,
   "id": "c8130596",
   "metadata": {},
   "outputs": [],
   "source": [
    "import numpy as np"
   ]
  },
  {
   "cell_type": "code",
   "execution_count": 62,
   "id": "f3743ef1",
   "metadata": {},
   "outputs": [],
   "source": [
    "a = np.array([1, 2, 3, 5, 7])"
   ]
  },
  {
   "cell_type": "code",
   "execution_count": 63,
   "id": "734b7602",
   "metadata": {},
   "outputs": [],
   "source": [
    "b = np.array((2, 3, 5))"
   ]
  },
  {
   "cell_type": "code",
   "execution_count": 64,
   "id": "beaebea5",
   "metadata": {},
   "outputs": [
    {
     "name": "stdout",
     "output_type": "stream",
     "text": [
      "[1 2 3 5 7]\n"
     ]
    }
   ],
   "source": [
    "print(a)"
   ]
  },
  {
   "cell_type": "code",
   "execution_count": 65,
   "id": "4f3dc628",
   "metadata": {},
   "outputs": [
    {
     "data": {
      "text/plain": [
       "numpy.ndarray"
      ]
     },
     "execution_count": 65,
     "metadata": {},
     "output_type": "execute_result"
    }
   ],
   "source": [
    "type(a)"
   ]
  },
  {
   "cell_type": "code",
   "execution_count": 66,
   "id": "7e25d494",
   "metadata": {},
   "outputs": [
    {
     "name": "stdout",
     "output_type": "stream",
     "text": [
      "[2 3 5]\n"
     ]
    }
   ],
   "source": [
    "print(b)"
   ]
  },
  {
   "cell_type": "code",
   "execution_count": 67,
   "id": "e49e06db",
   "metadata": {},
   "outputs": [
    {
     "data": {
      "text/plain": [
       "numpy.ndarray"
      ]
     },
     "execution_count": 67,
     "metadata": {},
     "output_type": "execute_result"
    }
   ],
   "source": [
    "type(b)"
   ]
  },
  {
   "cell_type": "code",
   "execution_count": 68,
   "id": "601ffb9c",
   "metadata": {},
   "outputs": [],
   "source": [
    "a = np.array([1, 2, 3, 5, 7], dtype='i')"
   ]
  },
  {
   "cell_type": "code",
   "execution_count": 70,
   "id": "d0781dd3",
   "metadata": {},
   "outputs": [],
   "source": [
    "b = np.array((2, 3, 5), dtype='f')"
   ]
  },
  {
   "cell_type": "code",
   "execution_count": 71,
   "id": "4554c0a0",
   "metadata": {},
   "outputs": [
    {
     "data": {
      "text/plain": [
       "dtype('int32')"
      ]
     },
     "execution_count": 71,
     "metadata": {},
     "output_type": "execute_result"
    }
   ],
   "source": [
    "a.dtype"
   ]
  },
  {
   "cell_type": "code",
   "execution_count": 72,
   "id": "f8256732",
   "metadata": {},
   "outputs": [
    {
     "data": {
      "text/plain": [
       "dtype('float32')"
      ]
     },
     "execution_count": 72,
     "metadata": {},
     "output_type": "execute_result"
    }
   ],
   "source": [
    "b.dtype"
   ]
  },
  {
   "cell_type": "code",
   "execution_count": 73,
   "id": "0cdb29ea",
   "metadata": {},
   "outputs": [],
   "source": [
    "a = np.array([[1, 2, 3], [4, 5, 6]])"
   ]
  },
  {
   "cell_type": "code",
   "execution_count": 74,
   "id": "ccd267ec",
   "metadata": {},
   "outputs": [
    {
     "data": {
      "text/plain": [
       "2"
      ]
     },
     "execution_count": 74,
     "metadata": {},
     "output_type": "execute_result"
    }
   ],
   "source": [
    "a.ndim"
   ]
  },
  {
   "cell_type": "code",
   "execution_count": 79,
   "id": "c131c3be",
   "metadata": {},
   "outputs": [
    {
     "data": {
      "text/plain": [
       "3"
      ]
     },
     "execution_count": 79,
     "metadata": {},
     "output_type": "execute_result"
    }
   ],
   "source": [
    "a[0, 2]"
   ]
  },
  {
   "cell_type": "code",
   "execution_count": 80,
   "id": "f3d7c5be",
   "metadata": {},
   "outputs": [],
   "source": [
    "b = np.array([[[1, 2, 3],[4, 5, 6], [0, 0, -1]],[[-1, -2, -3],[-4, -5, -6], [0, 0, 1]]])"
   ]
  },
  {
   "cell_type": "code",
   "execution_count": 81,
   "id": "40bbb2b6",
   "metadata": {},
   "outputs": [
    {
     "data": {
      "text/plain": [
       "3"
      ]
     },
     "execution_count": 81,
     "metadata": {},
     "output_type": "execute_result"
    }
   ],
   "source": [
    "b.ndim"
   ]
  },
  {
   "cell_type": "code",
   "execution_count": 82,
   "id": "45e0598c",
   "metadata": {},
   "outputs": [
    {
     "data": {
      "text/plain": [
       "-3"
      ]
     },
     "execution_count": 82,
     "metadata": {},
     "output_type": "execute_result"
    }
   ],
   "source": [
    "b[1, 0, 2]"
   ]
  },
  {
   "cell_type": "code",
   "execution_count": 83,
   "id": "1561c28f",
   "metadata": {},
   "outputs": [
    {
     "data": {
      "text/plain": [
       "array([[[ 1,  2,  3],\n",
       "        [ 4,  5,  6],\n",
       "        [ 0,  0, -1]],\n",
       "\n",
       "       [[-1, -2, -3],\n",
       "        [-4, -5, -6],\n",
       "        [ 0,  0,  1]]])"
      ]
     },
     "execution_count": 83,
     "metadata": {},
     "output_type": "execute_result"
    }
   ],
   "source": [
    "b"
   ]
  },
  {
   "cell_type": "code",
   "execution_count": 86,
   "id": "8020df6e",
   "metadata": {},
   "outputs": [
    {
     "data": {
      "text/plain": [
       "numpy.ndarray"
      ]
     },
     "execution_count": 86,
     "metadata": {},
     "output_type": "execute_result"
    }
   ],
   "source": [
    "type(b)"
   ]
  },
  {
   "cell_type": "code",
   "execution_count": 87,
   "id": "197300c2",
   "metadata": {},
   "outputs": [
    {
     "data": {
      "text/plain": [
       "array([[1, 2, 3],\n",
       "       [4, 5, 6]])"
      ]
     },
     "execution_count": 87,
     "metadata": {},
     "output_type": "execute_result"
    }
   ],
   "source": [
    "a"
   ]
  },
  {
   "cell_type": "code",
   "execution_count": 88,
   "id": "b864ede0",
   "metadata": {},
   "outputs": [
    {
     "data": {
      "text/plain": [
       "(2, 3)"
      ]
     },
     "execution_count": 88,
     "metadata": {},
     "output_type": "execute_result"
    }
   ],
   "source": [
    "a.shape"
   ]
  },
  {
   "cell_type": "code",
   "execution_count": 89,
   "id": "519cf09a",
   "metadata": {},
   "outputs": [
    {
     "data": {
      "text/plain": [
       "2"
      ]
     },
     "execution_count": 89,
     "metadata": {},
     "output_type": "execute_result"
    }
   ],
   "source": [
    "a.shape[0]"
   ]
  },
  {
   "cell_type": "code",
   "execution_count": 90,
   "id": "61d581b1",
   "metadata": {},
   "outputs": [
    {
     "data": {
      "text/plain": [
       "3"
      ]
     },
     "execution_count": 90,
     "metadata": {},
     "output_type": "execute_result"
    }
   ],
   "source": [
    "a.shape[1]"
   ]
  },
  {
   "cell_type": "code",
   "execution_count": 91,
   "id": "ddf0d64b",
   "metadata": {},
   "outputs": [
    {
     "data": {
      "text/plain": [
       "array([[[ 1,  2,  3],\n",
       "        [ 4,  5,  6],\n",
       "        [ 0,  0, -1]],\n",
       "\n",
       "       [[-1, -2, -3],\n",
       "        [-4, -5, -6],\n",
       "        [ 0,  0,  1]]])"
      ]
     },
     "execution_count": 91,
     "metadata": {},
     "output_type": "execute_result"
    }
   ],
   "source": [
    "b"
   ]
  },
  {
   "cell_type": "code",
   "execution_count": 92,
   "id": "37a5e92e",
   "metadata": {},
   "outputs": [
    {
     "data": {
      "text/plain": [
       "(2, 3, 3)"
      ]
     },
     "execution_count": 92,
     "metadata": {},
     "output_type": "execute_result"
    }
   ],
   "source": [
    "b.shape"
   ]
  },
  {
   "cell_type": "code",
   "execution_count": 93,
   "id": "7a9f7b50",
   "metadata": {},
   "outputs": [],
   "source": [
    "c = np.array([2])"
   ]
  },
  {
   "cell_type": "code",
   "execution_count": 95,
   "id": "ccb78285",
   "metadata": {},
   "outputs": [
    {
     "data": {
      "text/plain": [
       "1"
      ]
     },
     "execution_count": 95,
     "metadata": {},
     "output_type": "execute_result"
    }
   ],
   "source": [
    "c.ndim"
   ]
  },
  {
   "cell_type": "code",
   "execution_count": 96,
   "id": "771b403d",
   "metadata": {},
   "outputs": [],
   "source": [
    "d = np.array(3)"
   ]
  },
  {
   "cell_type": "code",
   "execution_count": 97,
   "id": "7420e45e",
   "metadata": {},
   "outputs": [
    {
     "data": {
      "text/plain": [
       "0"
      ]
     },
     "execution_count": 97,
     "metadata": {},
     "output_type": "execute_result"
    }
   ],
   "source": [
    "d.ndim"
   ]
  },
  {
   "cell_type": "code",
   "execution_count": 98,
   "id": "bc67f644",
   "metadata": {},
   "outputs": [
    {
     "data": {
      "text/plain": [
       "18"
      ]
     },
     "execution_count": 98,
     "metadata": {},
     "output_type": "execute_result"
    }
   ],
   "source": [
    "b.size"
   ]
  },
  {
   "cell_type": "code",
   "execution_count": 99,
   "id": "e18a5b71",
   "metadata": {},
   "outputs": [
    {
     "data": {
      "text/plain": [
       "72"
      ]
     },
     "execution_count": 99,
     "metadata": {},
     "output_type": "execute_result"
    }
   ],
   "source": [
    "b.nbytes"
   ]
  },
  {
   "cell_type": "code",
   "execution_count": 102,
   "id": "684d9bb1",
   "metadata": {},
   "outputs": [
    {
     "name": "stdout",
     "output_type": "stream",
     "text": [
      "[ 0  1  2  3  4  5  6  7  8  9 10 11 12 13 14 15 16 17 18 19 20 21 22 23\n",
      " 24 25 26 27 28 29 30 31 32 33 34 35 36 37 38 39 40 41 42 43 44 45 46 47\n",
      " 48 49 50 51 52 53 54 55 56 57 58 59 60 61 62 63 64 65 66 67 68 69 70 71\n",
      " 72 73 74 75 76 77 78 79 80 81 82 83 84 85 86 87 88 89 90 91 92 93 94 95\n",
      " 96 97 98 99]\n"
     ]
    }
   ],
   "source": [
    "A = np.arange(100)\n",
    "print(A)"
   ]
  },
  {
   "cell_type": "code",
   "execution_count": 104,
   "id": "1fb2bcad",
   "metadata": {},
   "outputs": [
    {
     "name": "stdout",
     "output_type": "stream",
     "text": [
      "[20 21 22 23 24 25 26 27 28 29 30 31 32 33 34 35 36 37 38 39 40 41 42 43\n",
      " 44 45 46 47 48 49 50 51 52 53 54 55 56 57 58 59 60 61 62 63 64 65 66 67\n",
      " 68 69 70 71 72 73 74 75 76 77 78 79 80 81 82 83 84 85 86 87 88 89 90 91\n",
      " 92 93 94 95 96 97 98 99]\n"
     ]
    }
   ],
   "source": [
    "A = np.arange(20, 100)\n",
    "print(A)"
   ]
  },
  {
   "cell_type": "code",
   "execution_count": 105,
   "id": "ef3acaed",
   "metadata": {},
   "outputs": [
    {
     "name": "stdout",
     "output_type": "stream",
     "text": [
      "[20 23 26 29 32 35 38 41 44 47 50 53 56 59 62 65 68 71 74 77 80 83 86 89\n",
      " 92 95 98]\n"
     ]
    }
   ],
   "source": [
    "A = np.arange(20, 100, 3)\n",
    "print(A)"
   ]
  },
  {
   "cell_type": "code",
   "execution_count": 106,
   "id": "0a39eb3b",
   "metadata": {},
   "outputs": [
    {
     "name": "stdout",
     "output_type": "stream",
     "text": [
      "[0, 1, 2, 3, 4, 5, 6, 7, 8, 9]\n"
     ]
    }
   ],
   "source": [
    "print(list(range(10)))"
   ]
  },
  {
   "cell_type": "code",
   "execution_count": 109,
   "id": "822f5ad3",
   "metadata": {},
   "outputs": [
    {
     "name": "stdout",
     "output_type": "stream",
     "text": [
      "[6 1 0 2 5 9 7 8 4 3]\n"
     ]
    }
   ],
   "source": [
    "A = np.random.permutation(np.arange(10))\n",
    "print(A)"
   ]
  },
  {
   "cell_type": "code",
   "execution_count": 110,
   "id": "552bf10b",
   "metadata": {},
   "outputs": [],
   "source": [
    "np.random.randint?"
   ]
  },
  {
   "cell_type": "code",
   "execution_count": 117,
   "id": "231ef82c",
   "metadata": {},
   "outputs": [],
   "source": [
    "v = np.random.randint(20, 300)"
   ]
  },
  {
   "cell_type": "code",
   "execution_count": 118,
   "id": "36e75699",
   "metadata": {},
   "outputs": [
    {
     "data": {
      "text/plain": [
       "72"
      ]
     },
     "execution_count": 118,
     "metadata": {},
     "output_type": "execute_result"
    }
   ],
   "source": [
    "v"
   ]
  },
  {
   "cell_type": "code",
   "execution_count": 119,
   "id": "0ddffc52",
   "metadata": {},
   "outputs": [],
   "source": [
    "A = np.random.rand(1000)"
   ]
  },
  {
   "cell_type": "code",
   "execution_count": 120,
   "id": "5140b982",
   "metadata": {},
   "outputs": [
    {
     "data": {
      "text/plain": [
       "array([3.21346533e-01, 1.00941727e-01, 6.38193534e-01, 3.96892201e-01,\n",
       "       3.14253888e-01, 1.58385900e-01, 8.31748382e-01, 9.72331303e-01,\n",
       "       9.02788970e-01, 8.97656030e-01, 8.85647142e-01, 1.64844746e-01,\n",
       "       2.16343674e-01, 2.32931101e-01, 3.88241476e-01, 6.06991767e-01,\n",
       "       4.85427046e-01, 5.33746992e-01, 3.09717895e-01, 1.72312230e-01,\n",
       "       6.12970246e-02, 1.98842393e-01, 4.39997567e-01, 1.92761824e-01,\n",
       "       9.26143596e-01, 3.83975650e-01, 8.27284306e-01, 7.02797241e-01,\n",
       "       3.38235619e-01, 4.41354093e-01, 1.68394916e-01, 9.54048076e-01,\n",
       "       3.37174686e-01, 6.37264576e-01, 6.79684410e-01, 3.67125022e-01,\n",
       "       8.61268828e-01, 3.49174821e-01, 9.31957315e-01, 3.61939592e-02,\n",
       "       9.41096336e-02, 6.91338071e-01, 8.16744529e-01, 7.98285671e-01,\n",
       "       1.15380759e-01, 1.44309054e-01, 4.36398674e-01, 8.11297615e-02,\n",
       "       3.55053845e-01, 4.44316714e-01, 3.77598169e-01, 8.21165300e-01,\n",
       "       4.21868928e-01, 6.74400430e-01, 1.27070533e-01, 7.06901347e-01,\n",
       "       6.08552191e-01, 8.94114809e-01, 1.46806233e-01, 5.49216195e-02,\n",
       "       5.50718561e-01, 4.99154629e-01, 6.87327427e-01, 9.86158649e-01,\n",
       "       3.31523382e-01, 5.45825179e-01, 6.78889145e-01, 6.37642950e-01,\n",
       "       9.70713233e-01, 1.03453394e-01, 3.29929052e-01, 4.78413085e-01,\n",
       "       8.76216622e-01, 4.03204030e-01, 1.51455146e-01, 6.07402115e-01,\n",
       "       8.25144119e-01, 7.76956287e-02, 7.56696145e-01, 5.89717005e-01,\n",
       "       4.11838615e-02, 5.17366501e-01, 1.95592336e-02, 1.02392989e-01,\n",
       "       3.32691636e-01, 1.70476005e-01, 9.81175937e-01, 5.41477784e-04,\n",
       "       5.65678355e-01, 3.21672480e-01, 8.90506327e-01, 3.32665147e-01,\n",
       "       1.91331502e-01, 4.12822351e-01, 4.87645801e-03, 5.90960371e-01,\n",
       "       2.90087698e-01, 5.55280055e-01, 9.41304472e-01, 1.25973286e-01,\n",
       "       1.77548475e-01, 7.54764552e-01, 8.19551698e-01, 8.45852306e-01,\n",
       "       4.14264607e-01, 7.17322082e-01, 4.50920991e-01, 9.28787114e-01,\n",
       "       7.81803510e-01, 2.03005193e-01, 6.55062827e-01, 8.29313150e-01,\n",
       "       8.65313431e-02, 8.59134715e-01, 5.51126187e-01, 9.80623708e-01,\n",
       "       5.66056304e-01, 7.36541156e-01, 8.73979133e-01, 9.67545949e-01,\n",
       "       8.46800641e-01, 7.00058882e-01, 4.91265304e-01, 7.05332207e-01,\n",
       "       8.35125666e-01, 7.09928491e-01, 6.83830268e-01, 1.36198446e-01,\n",
       "       3.29063189e-01, 5.96445494e-01, 7.58042743e-01, 1.88818587e-01,\n",
       "       8.76682933e-01, 8.27727951e-01, 5.84560100e-01, 6.26671285e-01,\n",
       "       2.98342321e-01, 8.80762373e-01, 4.23646540e-01, 2.22095120e-01,\n",
       "       1.51683663e-01, 7.39723552e-01, 8.80870513e-03, 6.66764057e-03,\n",
       "       6.04274423e-02, 1.55459126e-01, 6.14614635e-01, 2.25590293e-01,\n",
       "       8.46069402e-02, 4.20098944e-01, 5.23967327e-01, 3.90866934e-01,\n",
       "       2.79800643e-03, 3.14170348e-01, 2.20777692e-01, 4.32609263e-01,\n",
       "       4.66124463e-01, 4.32038051e-01, 8.99621487e-01, 3.74670865e-01,\n",
       "       7.30136928e-01, 6.29975896e-01, 3.49807800e-01, 1.75227772e-02,\n",
       "       4.93754236e-01, 3.33658332e-01, 3.34792464e-02, 5.84023887e-01,\n",
       "       8.62695105e-01, 8.16563629e-01, 2.53997395e-01, 4.90194912e-02,\n",
       "       1.12277787e-01, 3.00596097e-01, 4.87922287e-01, 6.22277867e-01,\n",
       "       3.35159932e-01, 3.58614488e-01, 7.57837565e-01, 7.46281960e-01,\n",
       "       1.18422171e-01, 9.59483250e-01, 4.82003994e-01, 2.72257610e-01,\n",
       "       8.43661204e-01, 4.89109291e-01, 5.12228171e-01, 4.15209449e-01,\n",
       "       5.74589554e-01, 4.36771536e-01, 8.29560725e-01, 2.79374264e-01,\n",
       "       2.71412611e-01, 5.72572676e-01, 6.34155469e-01, 3.13191086e-01,\n",
       "       5.15056476e-01, 3.15350338e-01, 7.40199372e-01, 6.56944377e-01,\n",
       "       1.86430491e-01, 5.19615466e-01, 2.66335168e-01, 5.80293389e-01,\n",
       "       4.21368561e-01, 9.62762808e-01, 3.25783813e-01, 4.99923348e-01,\n",
       "       3.25852684e-01, 1.72800727e-01, 9.26271499e-01, 3.33404056e-01,\n",
       "       5.02732125e-01, 7.38370857e-01, 5.08248974e-01, 2.53316137e-01,\n",
       "       4.57998796e-02, 9.28103343e-01, 9.80799726e-01, 4.76971620e-01,\n",
       "       1.53801726e-01, 1.77354652e-01, 4.09293109e-01, 5.86291090e-01,\n",
       "       7.63884617e-01, 7.80188031e-01, 6.65431305e-01, 4.65141534e-01,\n",
       "       3.42729360e-01, 7.53739604e-01, 1.50315535e-01, 3.28759938e-01,\n",
       "       6.73778489e-01, 8.58641718e-01, 1.44907876e-01, 5.00018556e-01,\n",
       "       8.92607518e-01, 1.81331082e-01, 5.21057877e-01, 6.99259630e-01,\n",
       "       2.79888297e-01, 5.14654037e-01, 3.69352959e-01, 9.85503968e-01,\n",
       "       2.47180204e-01, 8.07462304e-01, 7.85081721e-01, 8.91604470e-01,\n",
       "       2.57943267e-01, 6.83436404e-01, 5.54110203e-01, 4.17120474e-01,\n",
       "       9.33475151e-01, 5.86773460e-01, 5.62301134e-01, 9.94992633e-01,\n",
       "       7.84969604e-01, 4.63868540e-02, 9.44889013e-01, 4.96363268e-01,\n",
       "       7.28137174e-01, 9.63268761e-01, 3.30631561e-01, 9.27795123e-01,\n",
       "       9.07700786e-01, 9.29113990e-01, 2.76042422e-01, 6.79616055e-01,\n",
       "       8.61135117e-01, 1.79493400e-03, 6.28055398e-01, 3.30153831e-01,\n",
       "       8.34777829e-01, 6.40965608e-01, 8.24222473e-01, 3.56513995e-01,\n",
       "       3.07571833e-01, 9.79032278e-01, 9.45128553e-01, 1.94833494e-01,\n",
       "       6.54186980e-01, 4.24987907e-01, 9.94280279e-01, 1.82710444e-01,\n",
       "       6.36388881e-01, 5.44548197e-02, 6.69279385e-03, 8.30209513e-01,\n",
       "       2.71297364e-01, 5.34723093e-01, 8.08273433e-01, 4.55947470e-01,\n",
       "       5.15726904e-01, 3.28468669e-01, 7.48816908e-01, 2.44570819e-01,\n",
       "       2.35228004e-01, 8.83778189e-01, 3.68266594e-01, 3.72982714e-01,\n",
       "       9.83312314e-02, 7.64584551e-01, 8.66638524e-01, 2.93360562e-02,\n",
       "       3.72219214e-01, 1.83613495e-01, 4.22576647e-01, 1.99855492e-01,\n",
       "       9.57199078e-01, 1.34597972e-01, 6.87256384e-01, 2.62794556e-01,\n",
       "       1.63713196e-01, 8.19462507e-01, 4.85563261e-01, 1.31783993e-01,\n",
       "       8.25267964e-01, 9.98678492e-01, 2.44100394e-01, 5.17202167e-01,\n",
       "       3.96419723e-02, 9.70104980e-01, 6.75239298e-01, 1.42641014e-01,\n",
       "       8.07765162e-01, 1.87228067e-01, 4.49868704e-01, 7.58735814e-01,\n",
       "       3.63004798e-01, 1.36195242e-01, 1.54916242e-01, 6.58051661e-01,\n",
       "       9.99614125e-01, 5.12411874e-01, 6.10085483e-01, 9.31313372e-01,\n",
       "       6.90035676e-01, 4.25702033e-01, 4.92252589e-03, 4.67723360e-01,\n",
       "       9.12760199e-02, 9.67108337e-01, 6.78661605e-01, 8.52925530e-01,\n",
       "       3.47138583e-01, 9.37764729e-01, 5.90161267e-01, 4.63701426e-01,\n",
       "       6.49471962e-02, 5.71762181e-01, 8.46101706e-01, 1.91298727e-01,\n",
       "       9.56228724e-01, 8.79349071e-02, 8.90457825e-01, 7.44961649e-01,\n",
       "       1.89771594e-01, 2.54384520e-02, 2.39244699e-01, 8.39051153e-01,\n",
       "       8.56184734e-01, 8.21678194e-01, 8.99760968e-01, 4.20631811e-01,\n",
       "       8.00634650e-01, 7.20616961e-01, 4.19403033e-01, 6.20191728e-01,\n",
       "       6.68427083e-01, 7.14386758e-01, 9.94343684e-01, 6.30542134e-01,\n",
       "       2.80567527e-01, 1.91221000e-01, 6.39902005e-01, 2.81934276e-01,\n",
       "       4.94566887e-01, 4.61128203e-02, 7.43038310e-01, 1.09027103e-01,\n",
       "       5.89742733e-01, 7.12294629e-01, 3.96120441e-01, 4.45115819e-01,\n",
       "       9.10034957e-01, 8.17347450e-02, 7.02446281e-01, 3.03722209e-01,\n",
       "       5.79174458e-02, 5.42036278e-01, 4.72759395e-01, 3.86262894e-01,\n",
       "       2.57273582e-01, 6.21923051e-01, 5.78758119e-01, 6.25938315e-01,\n",
       "       4.22008173e-01, 3.40246443e-01, 5.27098249e-01, 7.19912490e-01,\n",
       "       6.18598065e-01, 5.43528856e-01, 9.31394331e-01, 6.95132488e-01,\n",
       "       1.94790470e-01, 8.11922920e-01, 4.30781078e-01, 1.55583743e-01,\n",
       "       1.94388211e-01, 9.38294488e-04, 8.67368717e-01, 1.04274569e-01,\n",
       "       3.23502260e-01, 6.54199797e-01, 4.78439338e-01, 1.94045645e-01,\n",
       "       7.09749228e-01, 4.61830474e-02, 9.78717641e-01, 8.64659150e-02,\n",
       "       2.86232643e-01, 9.96497197e-01, 8.39134465e-01, 7.38967645e-01,\n",
       "       6.38447915e-01, 8.00399025e-01, 2.41596398e-02, 6.24986444e-02,\n",
       "       2.78608229e-01, 3.33854244e-01, 6.10029152e-01, 8.40872899e-01,\n",
       "       3.99001514e-01, 8.64674702e-01, 1.73290048e-02, 5.28877563e-01,\n",
       "       5.49843447e-01, 3.69306980e-01, 6.94261811e-01, 2.37971005e-01,\n",
       "       5.10779799e-01, 7.67297622e-01, 1.25486986e-01, 6.52969677e-01,\n",
       "       8.02238991e-01, 5.34458995e-01, 9.10902850e-01, 6.87746931e-01,\n",
       "       4.76208771e-02, 9.86241479e-01, 8.81879598e-01, 8.44624838e-01,\n",
       "       1.71021606e-01, 5.43487718e-01, 8.69712917e-01, 8.41393069e-01,\n",
       "       3.06834839e-01, 8.35776757e-01, 8.09585901e-01, 2.92410333e-01,\n",
       "       1.44935903e-01, 9.79239873e-01, 3.57122101e-01, 9.01327560e-01,\n",
       "       2.26183119e-01, 3.49356160e-01, 5.53530400e-01, 2.76029048e-01,\n",
       "       1.83301836e-01, 4.86627595e-01, 9.83798902e-02, 6.34504008e-01,\n",
       "       6.17653144e-01, 5.56672220e-01, 2.18389604e-02, 6.09045307e-01,\n",
       "       9.19499176e-01, 5.19914117e-02, 6.81366458e-02, 7.33595825e-02,\n",
       "       7.84829357e-02, 5.86583041e-01, 7.42699055e-01, 6.39034257e-01,\n",
       "       8.43907281e-01, 5.68546169e-01, 5.48086573e-01, 8.31811605e-02,\n",
       "       1.12174090e-01, 5.22871786e-01, 9.78638757e-01, 6.06476368e-02,\n",
       "       5.31654655e-02, 2.31168249e-02, 9.39786822e-01, 5.50242330e-01,\n",
       "       7.84568732e-01, 8.95984361e-01, 5.82978207e-01, 8.32524151e-01,\n",
       "       7.51820648e-01, 6.35278656e-01, 7.21851775e-01, 5.72865042e-02,\n",
       "       6.54572912e-01, 7.54878657e-01, 3.97984981e-01, 1.89702506e-01,\n",
       "       1.76046000e-01, 2.54218208e-01, 7.28809701e-02, 6.51532649e-01,\n",
       "       6.81682790e-01, 6.99842137e-01, 8.02914574e-01, 1.60010128e-01,\n",
       "       1.36681484e-02, 1.85722377e-01, 1.61689272e-01, 4.96987985e-02,\n",
       "       7.00977875e-01, 9.47926537e-01, 3.31797023e-01, 5.95737993e-02,\n",
       "       9.29759196e-01, 4.14214586e-01, 1.96716802e-01, 2.38307800e-01,\n",
       "       3.51474278e-02, 8.52595751e-01, 1.19371290e-01, 3.67924892e-01,\n",
       "       6.65823738e-01, 8.84468829e-01, 2.31451249e-01, 6.58364880e-01,\n",
       "       7.45004667e-01, 2.64125633e-01, 5.72432806e-01, 5.01280841e-01,\n",
       "       8.15077255e-01, 6.96058977e-02, 8.75642118e-01, 5.45419558e-02,\n",
       "       1.82073057e-01, 7.31870238e-01, 3.48181378e-01, 6.95350912e-01,\n",
       "       9.87291253e-01, 6.28321880e-01, 4.64066320e-01, 9.34567062e-01,\n",
       "       7.68512176e-01, 3.25341237e-01, 7.57266061e-01, 9.08419983e-01,\n",
       "       5.19740144e-01, 6.72344210e-01, 7.86287480e-01, 9.86371543e-01,\n",
       "       4.04580584e-01, 3.34852970e-01, 2.43808315e-01, 2.09209779e-01,\n",
       "       8.91161649e-01, 7.38726492e-01, 6.79448063e-01, 5.63299139e-01,\n",
       "       2.10364920e-02, 8.05305114e-01, 6.42585778e-01, 1.41549380e-01,\n",
       "       5.96159576e-01, 7.55173600e-01, 4.64081550e-01, 4.34417723e-01,\n",
       "       6.49029693e-01, 9.39124964e-01, 8.46376270e-01, 4.83668276e-01,\n",
       "       2.69360113e-01, 2.30379179e-01, 9.34022283e-01, 6.35363737e-01,\n",
       "       9.70703840e-01, 4.22905530e-01, 5.94523364e-01, 5.36997573e-01,\n",
       "       6.34700199e-01, 8.51424479e-01, 2.83472458e-01, 9.22136113e-01,\n",
       "       1.59933424e-02, 3.43477111e-01, 1.18963382e-01, 2.65973902e-01,\n",
       "       8.75540726e-01, 6.10149604e-01, 3.62003558e-01, 8.53218371e-01,\n",
       "       1.09281533e-01, 4.19377985e-01, 1.84430403e-01, 2.27340185e-01,\n",
       "       9.01384289e-01, 9.46210417e-01, 5.80638842e-01, 1.04532482e-01,\n",
       "       8.19470588e-01, 5.49630481e-01, 2.98097664e-01, 7.77161771e-01,\n",
       "       7.94941284e-01, 4.47545258e-01, 8.90811384e-01, 8.28569680e-01,\n",
       "       3.58417218e-01, 3.42825715e-01, 6.50690716e-01, 7.32698848e-01,\n",
       "       1.17005318e-02, 9.60178759e-01, 3.51359533e-01, 5.46965523e-01,\n",
       "       6.47865401e-01, 5.36236217e-01, 7.82143831e-01, 8.67589339e-01,\n",
       "       4.99933326e-01, 2.14324838e-01, 7.75631828e-01, 2.08141470e-01,\n",
       "       3.81190661e-01, 8.21856381e-01, 1.31470286e-01, 3.94453572e-01,\n",
       "       2.63311606e-01, 9.69093822e-01, 1.71682220e-01, 1.67312254e-02,\n",
       "       9.23893627e-01, 2.11966656e-01, 5.32794832e-01, 5.92685070e-01,\n",
       "       2.06408620e-01, 5.12703700e-01, 3.27730381e-02, 6.45257174e-01,\n",
       "       9.00156296e-01, 2.02977375e-01, 8.78593738e-01, 3.38761911e-01,\n",
       "       5.54078538e-01, 2.95562491e-01, 3.04335763e-01, 5.93599660e-01,\n",
       "       1.69788927e-01, 7.14923676e-02, 9.70143410e-01, 8.58658531e-01,\n",
       "       8.64580307e-01, 1.79882945e-01, 1.69794286e-01, 6.21683477e-01,\n",
       "       7.42041395e-01, 5.76991257e-01, 2.32619678e-01, 3.26247397e-01,\n",
       "       7.78295198e-01, 9.09044748e-01, 8.63100807e-01, 6.24365800e-02,\n",
       "       5.96247661e-01, 5.07789177e-01, 5.30167413e-01, 7.10444703e-01,\n",
       "       1.27858669e-01, 9.14180669e-01, 8.21693524e-01, 2.32506652e-01,\n",
       "       8.93306177e-01, 6.72612753e-01, 4.54188676e-01, 8.21677582e-01,\n",
       "       5.46731699e-01, 2.65295212e-03, 4.12129689e-01, 1.28886722e-01,\n",
       "       4.36227120e-01, 5.44740277e-01, 3.73873330e-01, 3.93299571e-01,\n",
       "       3.16228682e-01, 6.95506057e-02, 2.40833829e-01, 6.77586150e-01,\n",
       "       8.04692315e-01, 8.49558661e-01, 3.02685916e-01, 8.75587397e-01,\n",
       "       5.68232326e-01, 7.34102899e-01, 9.38949746e-01, 5.99621309e-01,\n",
       "       3.10560026e-01, 7.47149464e-01, 1.71340938e-01, 6.32752287e-01,\n",
       "       7.96933142e-01, 6.24851337e-01, 2.74856767e-01, 9.76732133e-01,\n",
       "       4.57712034e-01, 9.58194150e-01, 9.39003148e-01, 9.22006424e-01,\n",
       "       1.02805033e-02, 4.88416103e-01, 6.01259849e-01, 5.96449196e-01,\n",
       "       3.52341741e-01, 4.67779595e-01, 9.71700158e-01, 3.99710457e-01,\n",
       "       8.18121046e-01, 2.18004178e-02, 3.05482230e-01, 4.93979403e-01,\n",
       "       2.42146314e-03, 3.87249180e-01, 7.09908676e-02, 3.32831286e-01,\n",
       "       8.60132218e-01, 5.83299795e-01, 8.34446753e-01, 8.06004523e-01,\n",
       "       3.36416670e-01, 2.23528049e-01, 1.78774449e-01, 2.31951830e-01,\n",
       "       3.61976794e-02, 7.60048604e-01, 5.81975854e-01, 5.35207105e-01,\n",
       "       3.61588919e-01, 4.41948748e-01, 6.01761994e-01, 8.86535288e-01,\n",
       "       5.96599112e-02, 4.64071213e-01, 3.22418259e-01, 8.96849680e-02,\n",
       "       8.90536725e-01, 6.33102239e-01, 1.02972928e-01, 3.07349356e-01,\n",
       "       3.65770989e-01, 6.26931869e-01, 2.81264346e-01, 3.66117407e-01,\n",
       "       3.47334126e-02, 7.76368937e-01, 6.46043081e-01, 3.51198918e-01,\n",
       "       8.58790536e-01, 4.14200795e-02, 6.53255761e-01, 5.19645306e-01,\n",
       "       6.98297371e-01, 2.39435647e-02, 3.32884114e-01, 4.91864507e-02,\n",
       "       8.67373886e-01, 2.44378596e-01, 2.64984719e-01, 1.35429306e-01,\n",
       "       6.28768131e-01, 3.03851800e-01, 2.89611407e-01, 6.76532989e-01,\n",
       "       2.66031115e-01, 7.59953364e-01, 1.27384981e-01, 9.50191004e-01,\n",
       "       3.06356470e-01, 1.92872911e-02, 5.87876292e-01, 3.35958680e-01,\n",
       "       5.82785763e-01, 6.00255549e-01, 9.50394603e-01, 5.72365403e-01,\n",
       "       8.25926005e-01, 3.99045062e-01, 4.55410631e-01, 9.67338609e-01,\n",
       "       6.47924195e-01, 5.44026073e-01, 7.79699024e-01, 7.12435888e-01,\n",
       "       4.60226161e-01, 5.75780034e-01, 2.42385483e-01, 4.91666241e-01,\n",
       "       2.69888883e-01, 4.73466546e-01, 1.70812354e-01, 5.38096536e-01,\n",
       "       3.81497815e-02, 8.29831870e-01, 6.97146228e-02, 8.90382031e-01,\n",
       "       8.50258671e-02, 3.04885738e-02, 6.92092438e-01, 3.11147166e-01,\n",
       "       1.97864732e-01, 9.30996775e-02, 3.66956951e-01, 7.67904336e-01,\n",
       "       3.03710271e-01, 4.67580791e-01, 2.40711112e-01, 1.15965947e-01,\n",
       "       5.65474695e-01, 7.28554418e-01, 4.88905850e-01, 7.98997033e-01,\n",
       "       5.71198984e-01, 7.46826713e-01, 4.60358231e-01, 1.18028694e-01,\n",
       "       7.92941912e-01, 1.81287069e-01, 3.46772666e-01, 4.07056889e-01,\n",
       "       3.38642364e-01, 6.43594753e-01, 4.14111876e-01, 4.02691644e-01,\n",
       "       9.40652907e-01, 2.18642596e-01, 1.64027052e-01, 2.22467087e-01,\n",
       "       5.85858949e-01, 8.37989795e-01, 8.68532751e-01, 8.11139554e-01,\n",
       "       6.02482323e-01, 3.42633862e-01, 8.65101340e-01, 5.02916321e-01,\n",
       "       9.86921078e-01, 2.11832990e-01, 9.56580398e-01, 1.92704761e-01,\n",
       "       4.72371903e-01, 7.43811493e-01, 9.96898217e-01, 2.60456462e-01,\n",
       "       3.33910081e-01, 2.96154910e-01, 5.38958137e-01, 4.35495341e-01,\n",
       "       6.89100144e-01, 1.30454760e-01, 3.57568350e-01, 8.06431728e-01,\n",
       "       4.28636120e-02, 6.14417164e-01, 7.71094150e-01, 8.82692812e-01,\n",
       "       4.83098404e-01, 9.31068316e-02, 4.35638246e-01, 8.74979652e-01,\n",
       "       9.68255517e-01, 9.08522653e-01, 9.26175654e-01, 1.10348961e-01,\n",
       "       3.10118459e-02, 7.19971985e-01, 9.97902499e-01, 5.37719673e-01,\n",
       "       2.91613939e-01, 2.59813649e-01, 3.26236774e-03, 9.48683528e-01,\n",
       "       3.76617877e-01, 4.81618918e-02, 4.33361413e-01, 9.08057864e-01,\n",
       "       8.19134360e-01, 8.78033843e-01, 7.98137271e-01, 1.11070562e-01,\n",
       "       9.13103278e-01, 2.50538423e-01, 4.46788514e-01, 6.70520024e-01,\n",
       "       3.24717797e-01, 4.66423914e-01, 2.16380947e-01, 4.19817616e-01,\n",
       "       5.19710184e-01, 1.69898351e-01, 6.39360618e-01, 4.78131715e-01,\n",
       "       7.90447207e-01, 5.54060150e-01, 5.37704843e-01, 1.83904153e-01,\n",
       "       1.01389090e-01, 1.52291500e-01, 8.79144929e-01, 3.01378744e-01,\n",
       "       2.05844055e-02, 9.30294637e-01, 3.32937110e-01, 9.22234231e-01,\n",
       "       3.92975318e-01, 6.89255476e-01, 7.44021801e-01, 5.49462678e-01,\n",
       "       9.84849153e-01, 1.95485461e-01, 7.83039697e-01, 1.49184570e-01,\n",
       "       2.23510833e-01, 4.64437008e-01, 2.34239130e-01, 6.90164475e-01,\n",
       "       3.81852777e-01, 6.91190557e-01, 2.10305077e-01, 2.94820807e-02,\n",
       "       3.87422576e-01, 2.12110572e-01, 8.98535932e-01, 9.55043048e-02,\n",
       "       8.35318056e-01, 2.19797555e-01, 1.86084738e-01, 2.33837129e-01,\n",
       "       3.04938335e-01, 8.51810206e-01, 2.27173286e-01, 8.11786701e-01,\n",
       "       9.76650241e-01, 3.46937143e-01, 1.20342872e-01, 9.88910757e-01,\n",
       "       4.87080129e-01, 5.84763146e-01, 8.28003483e-01, 8.32743394e-01,\n",
       "       7.21541014e-01, 7.01350914e-01, 4.49448623e-01, 2.22337275e-01,\n",
       "       5.10377806e-01, 9.26374768e-02, 9.21026328e-01, 2.88804457e-01,\n",
       "       9.80077653e-01, 1.90064251e-01, 4.10833911e-01, 1.56396084e-01,\n",
       "       9.11003286e-01, 8.10256170e-01, 2.88347566e-01, 3.85911340e-01,\n",
       "       2.91847711e-01, 4.21137329e-01, 3.97071721e-01, 6.50625397e-01,\n",
       "       5.08840144e-01, 3.26997472e-01, 6.81042456e-01, 7.35238480e-01,\n",
       "       9.37792770e-01, 9.83972386e-01, 3.67862371e-01, 2.00161450e-01,\n",
       "       7.95600379e-01, 2.02656699e-01, 3.47742826e-01, 4.05662024e-02,\n",
       "       7.58664704e-01, 3.84232667e-01, 6.34147308e-01, 8.84528570e-01,\n",
       "       6.22453957e-02, 2.80775964e-01, 1.51725856e-01, 3.85935528e-01,\n",
       "       2.30984179e-01, 3.91125426e-01, 5.55773673e-02, 6.81149724e-01])"
      ]
     },
     "execution_count": 120,
     "metadata": {},
     "output_type": "execute_result"
    }
   ],
   "source": [
    "A"
   ]
  },
  {
   "cell_type": "code",
   "execution_count": 121,
   "id": "28f7f0bf",
   "metadata": {},
   "outputs": [],
   "source": [
    "import matplotlib.pyplot as plt"
   ]
  },
  {
   "cell_type": "code",
   "execution_count": 123,
   "id": "0fd1e9c6",
   "metadata": {},
   "outputs": [
    {
     "data": {
      "text/plain": [
       "(array([13.,  8., 11.,  9., 13., 11., 10.,  6.,  9.,  8., 10., 10.,  6.,\n",
       "         7.,  8., 11.,  8., 12., 16., 15.,  7.,  8., 10., 13.,  8.,  7.,\n",
       "        10.,  9., 10.,  7., 14.,  7., 15., 20., 13.,  9., 12.,  6., 10.,\n",
       "        12.,  5., 12., 10., 11.,  8.,  5., 13.,  7., 11., 10.,  6., 14.,\n",
       "         5., 12., 12.,  9.,  7.,  9., 16., 10.,  8.,  7., 11., 18.,  8.,\n",
       "        12.,  3., 13., 10., 11.,  8.,  6.,  7., 10., 12., 11.,  7.,  6.,\n",
       "         8.,  8., 12., 12., 15., 13., 10., 10., 14., 10.,  8., 14., 10.,\n",
       "         6., 12., 13.,  8.,  8.,  8., 12., 13.,  8.]),\n",
       " array([5.41477784e-04, 1.05322043e-02, 2.05229307e-02, 3.05136572e-02,\n",
       "        4.05043837e-02, 5.04951101e-02, 6.04858366e-02, 7.04765631e-02,\n",
       "        8.04672895e-02, 9.04580160e-02, 1.00448742e-01, 1.10439469e-01,\n",
       "        1.20430195e-01, 1.30420922e-01, 1.40411648e-01, 1.50402375e-01,\n",
       "        1.60393101e-01, 1.70383828e-01, 1.80374554e-01, 1.90365281e-01,\n",
       "        2.00356007e-01, 2.10346734e-01, 2.20337460e-01, 2.30328187e-01,\n",
       "        2.40318913e-01, 2.50309640e-01, 2.60300366e-01, 2.70291092e-01,\n",
       "        2.80281819e-01, 2.90272545e-01, 3.00263272e-01, 3.10253998e-01,\n",
       "        3.20244725e-01, 3.30235451e-01, 3.40226178e-01, 3.50216904e-01,\n",
       "        3.60207631e-01, 3.70198357e-01, 3.80189084e-01, 3.90179810e-01,\n",
       "        4.00170537e-01, 4.10161263e-01, 4.20151990e-01, 4.30142716e-01,\n",
       "        4.40133442e-01, 4.50124169e-01, 4.60114895e-01, 4.70105622e-01,\n",
       "        4.80096348e-01, 4.90087075e-01, 5.00077801e-01, 5.10068528e-01,\n",
       "        5.20059254e-01, 5.30049981e-01, 5.40040707e-01, 5.50031434e-01,\n",
       "        5.60022160e-01, 5.70012887e-01, 5.80003613e-01, 5.89994340e-01,\n",
       "        5.99985066e-01, 6.09975792e-01, 6.19966519e-01, 6.29957245e-01,\n",
       "        6.39947972e-01, 6.49938698e-01, 6.59929425e-01, 6.69920151e-01,\n",
       "        6.79910878e-01, 6.89901604e-01, 6.99892331e-01, 7.09883057e-01,\n",
       "        7.19873784e-01, 7.29864510e-01, 7.39855237e-01, 7.49845963e-01,\n",
       "        7.59836690e-01, 7.69827416e-01, 7.79818142e-01, 7.89808869e-01,\n",
       "        7.99799595e-01, 8.09790322e-01, 8.19781048e-01, 8.29771775e-01,\n",
       "        8.39762501e-01, 8.49753228e-01, 8.59743954e-01, 8.69734681e-01,\n",
       "        8.79725407e-01, 8.89716134e-01, 8.99706860e-01, 9.09697587e-01,\n",
       "        9.19688313e-01, 9.29679039e-01, 9.39669766e-01, 9.49660492e-01,\n",
       "        9.59651219e-01, 9.69641945e-01, 9.79632672e-01, 9.89623398e-01,\n",
       "        9.99614125e-01]),\n",
       " <BarContainer object of 100 artists>)"
      ]
     },
     "execution_count": 123,
     "metadata": {},
     "output_type": "execute_result"
    },
    {
     "data": {
      "image/png": "[encoded data removed]",
      "text/plain": [
       "<Figure size 432x288 with 1 Axes>"
      ]
     },
     "metadata": {
      "needs_background": "light"
     },
     "output_type": "display_data"
    }
   ],
   "source": [
    "plt.hist(A, bins=100)"
   ]
  },
  {
   "cell_type": "code",
   "execution_count": 125,
   "id": "a99402c7",
   "metadata": {},
   "outputs": [
    {
     "data": {
      "text/plain": [
       "(array([1.000e+00, 0.000e+00, 0.000e+00, 0.000e+00, 0.000e+00, 0.000e+00,\n",
       "        0.000e+00, 1.000e+00, 0.000e+00, 0.000e+00, 1.000e+00, 0.000e+00,\n",
       "        0.000e+00, 0.000e+00, 1.000e+00, 1.000e+00, 1.000e+00, 0.000e+00,\n",
       "        1.000e+00, 1.000e+00, 1.000e+00, 2.000e+00, 0.000e+00, 2.000e+00,\n",
       "        2.000e+00, 3.000e+00, 1.000e+00, 1.000e+00, 2.000e+00, 3.000e+00,\n",
       "        4.000e+00, 2.000e+00, 6.000e+00, 7.000e+00, 1.100e+01, 8.000e+00,\n",
       "        1.100e+01, 1.100e+01, 1.300e+01, 1.900e+01, 2.400e+01, 2.000e+01,\n",
       "        2.000e+01, 3.100e+01, 2.500e+01, 3.000e+01, 4.400e+01, 4.000e+01,\n",
       "        5.100e+01, 6.800e+01, 7.000e+01, 8.700e+01, 8.800e+01, 9.600e+01,\n",
       "        1.260e+02, 1.120e+02, 1.330e+02, 1.290e+02, 1.450e+02, 1.510e+02,\n",
       "        1.730e+02, 2.160e+02, 2.420e+02, 2.650e+02, 2.820e+02, 2.690e+02,\n",
       "        3.120e+02, 3.380e+02, 3.790e+02, 4.280e+02, 4.260e+02, 4.640e+02,\n",
       "        5.520e+02, 5.370e+02, 6.200e+02, 6.970e+02, 6.570e+02, 6.900e+02,\n",
       "        7.960e+02, 8.130e+02, 8.780e+02, 8.990e+02, 9.550e+02, 1.041e+03,\n",
       "        1.117e+03, 1.147e+03, 1.092e+03, 1.261e+03, 1.221e+03, 1.327e+03,\n",
       "        1.320e+03, 1.367e+03, 1.390e+03, 1.505e+03, 1.505e+03, 1.620e+03,\n",
       "        1.601e+03, 1.636e+03, 1.670e+03, 1.765e+03, 1.707e+03, 1.752e+03,\n",
       "        1.777e+03, 1.869e+03, 1.805e+03, 1.784e+03, 1.841e+03, 1.779e+03,\n",
       "        1.730e+03, 1.907e+03, 1.780e+03, 1.803e+03, 1.825e+03, 1.732e+03,\n",
       "        1.711e+03, 1.664e+03, 1.755e+03, 1.577e+03, 1.638e+03, 1.543e+03,\n",
       "        1.497e+03, 1.492e+03, 1.495e+03, 1.355e+03, 1.372e+03, 1.297e+03,\n",
       "        1.227e+03, 1.209e+03, 1.186e+03, 1.076e+03, 1.025e+03, 9.380e+02,\n",
       "        9.650e+02, 8.500e+02, 8.210e+02, 8.060e+02, 7.530e+02, 7.110e+02,\n",
       "        6.590e+02, 6.130e+02, 5.450e+02, 5.340e+02, 5.070e+02, 4.490e+02,\n",
       "        4.410e+02, 3.930e+02, 4.030e+02, 3.010e+02, 2.910e+02, 2.760e+02,\n",
       "        2.520e+02, 2.240e+02, 2.140e+02, 1.970e+02, 1.790e+02, 1.490e+02,\n",
       "        1.190e+02, 1.460e+02, 1.120e+02, 1.120e+02, 7.900e+01, 9.200e+01,\n",
       "        7.000e+01, 6.400e+01, 6.500e+01, 4.400e+01, 4.100e+01, 3.800e+01,\n",
       "        2.900e+01, 3.400e+01, 2.700e+01, 2.300e+01, 2.000e+01, 1.400e+01,\n",
       "        2.000e+01, 1.100e+01, 6.000e+00, 1.400e+01, 1.200e+01, 1.100e+01,\n",
       "        7.000e+00, 3.000e+00, 4.000e+00, 3.000e+00, 4.000e+00, 1.000e+00,\n",
       "        2.000e+00, 1.000e+00, 1.000e+00, 2.000e+00, 1.000e+00, 2.000e+00,\n",
       "        0.000e+00, 2.000e+00, 1.000e+00, 0.000e+00, 0.000e+00, 1.000e+00,\n",
       "        0.000e+00, 1.000e+00]),\n",
       " array([-4.89180073e+00, -4.84612619e+00, -4.80045165e+00, -4.75477710e+00,\n",
       "        -4.70910256e+00, -4.66342801e+00, -4.61775347e+00, -4.57207892e+00,\n",
       "        -4.52640438e+00, -4.48072984e+00, -4.43505529e+00, -4.38938075e+00,\n",
       "        -4.34370620e+00, -4.29803166e+00, -4.25235711e+00, -4.20668257e+00,\n",
       "        -4.16100803e+00, -4.11533348e+00, -4.06965894e+00, -4.02398439e+00,\n",
       "        -3.97830985e+00, -3.93263531e+00, -3.88696076e+00, -3.84128622e+00,\n",
       "        -3.79561167e+00, -3.74993713e+00, -3.70426258e+00, -3.65858804e+00,\n",
       "        -3.61291350e+00, -3.56723895e+00, -3.52156441e+00, -3.47588986e+00,\n",
       "        -3.43021532e+00, -3.38454077e+00, -3.33886623e+00, -3.29319169e+00,\n",
       "        -3.24751714e+00, -3.20184260e+00, -3.15616805e+00, -3.11049351e+00,\n",
       "        -3.06481896e+00, -3.01914442e+00, -2.97346988e+00, -2.92779533e+00,\n",
       "        -2.88212079e+00, -2.83644624e+00, -2.79077170e+00, -2.74509716e+00,\n",
       "        -2.69942261e+00, -2.65374807e+00, -2.60807352e+00, -2.56239898e+00,\n",
       "        -2.51672443e+00, -2.47104989e+00, -2.42537535e+00, -2.37970080e+00,\n",
       "        -2.33402626e+00, -2.28835171e+00, -2.24267717e+00, -2.19700262e+00,\n",
       "        -2.15132808e+00, -2.10565354e+00, -2.05997899e+00, -2.01430445e+00,\n",
       "        -1.96862990e+00, -1.92295536e+00, -1.87728081e+00, -1.83160627e+00,\n",
       "        -1.78593173e+00, -1.74025718e+00, -1.69458264e+00, -1.64890809e+00,\n",
       "        -1.60323355e+00, -1.55755901e+00, -1.51188446e+00, -1.46620992e+00,\n",
       "        -1.42053537e+00, -1.37486083e+00, -1.32918628e+00, -1.28351174e+00,\n",
       "        -1.23783720e+00, -1.19216265e+00, -1.14648811e+00, -1.10081356e+00,\n",
       "        -1.05513902e+00, -1.00946447e+00, -9.63789930e-01, -9.18115386e-01,\n",
       "        -8.72440842e-01, -8.26766297e-01, -7.81091753e-01, -7.35417209e-01,\n",
       "        -6.89742665e-01, -6.44068120e-01, -5.98393576e-01, -5.52719032e-01,\n",
       "        -5.07044488e-01, -4.61369943e-01, -4.15695399e-01, -3.70020855e-01,\n",
       "        -3.24346311e-01, -2.78671767e-01, -2.32997222e-01, -1.87322678e-01,\n",
       "        -1.41648134e-01, -9.59735896e-02, -5.02990454e-02, -4.62450113e-03,\n",
       "         4.10500431e-02,  8.67245873e-02,  1.32399132e-01,  1.78073676e-01,\n",
       "         2.23748220e-01,  2.69422764e-01,  3.15097309e-01,  3.60771853e-01,\n",
       "         4.06446397e-01,  4.52120941e-01,  4.97795485e-01,  5.43470030e-01,\n",
       "         5.89144574e-01,  6.34819118e-01,  6.80493662e-01,  7.26168207e-01,\n",
       "         7.71842751e-01,  8.17517295e-01,  8.63191839e-01,  9.08866384e-01,\n",
       "         9.54540928e-01,  1.00021547e+00,  1.04589002e+00,  1.09156456e+00,\n",
       "         1.13723910e+00,  1.18291365e+00,  1.22858819e+00,  1.27426274e+00,\n",
       "         1.31993728e+00,  1.36561183e+00,  1.41128637e+00,  1.45696091e+00,\n",
       "         1.50263546e+00,  1.54831000e+00,  1.59398455e+00,  1.63965909e+00,\n",
       "         1.68533364e+00,  1.73100818e+00,  1.77668272e+00,  1.82235727e+00,\n",
       "         1.86803181e+00,  1.91370636e+00,  1.95938090e+00,  2.00505545e+00,\n",
       "         2.05072999e+00,  2.09640453e+00,  2.14207908e+00,  2.18775362e+00,\n",
       "         2.23342817e+00,  2.27910271e+00,  2.32477725e+00,  2.37045180e+00,\n",
       "         2.41612634e+00,  2.46180089e+00,  2.50747543e+00,  2.55314998e+00,\n",
       "         2.59882452e+00,  2.64449906e+00,  2.69017361e+00,  2.73584815e+00,\n",
       "         2.78152270e+00,  2.82719724e+00,  2.87287179e+00,  2.91854633e+00,\n",
       "         2.96422087e+00,  3.00989542e+00,  3.05556996e+00,  3.10124451e+00,\n",
       "         3.14691905e+00,  3.19259360e+00,  3.23826814e+00,  3.28394268e+00,\n",
       "         3.32961723e+00,  3.37529177e+00,  3.42096632e+00,  3.46664086e+00,\n",
       "         3.51231540e+00,  3.55798995e+00,  3.60366449e+00,  3.64933904e+00,\n",
       "         3.69501358e+00,  3.74068813e+00,  3.78636267e+00,  3.83203721e+00,\n",
       "         3.87771176e+00,  3.92338630e+00,  3.96906085e+00,  4.01473539e+00,\n",
       "         4.06040994e+00,  4.10608448e+00,  4.15175902e+00,  4.19743357e+00,\n",
       "         4.24310811e+00]),\n",
       " <BarContainer object of 200 artists>)"
      ]
     },
     "execution_count": 125,
     "metadata": {},
     "output_type": "execute_result"
    },
    {
     "data": {
      "image/png": "[encoded data removed]",
      "text/plain": [
       "<Figure size 432x288 with 1 Axes>"
      ]
     },
     "metadata": {
      "needs_background": "light"
     },
     "output_type": "display_data"
    }
   ],
   "source": [
    "B = np.random.randn(100000)\n",
    "plt.hist(B, bins = 200)"
   ]
  },
  {
   "cell_type": "code",
   "execution_count": 126,
   "id": "6bed3dc1",
   "metadata": {},
   "outputs": [],
   "source": [
    "C = np.random.rand(2, 3)"
   ]
  },
  {
   "cell_type": "code",
   "execution_count": 128,
   "id": "326ae161",
   "metadata": {},
   "outputs": [
    {
     "data": {
      "text/plain": [
       "array([[0.9129684 , 0.56638495, 0.16019889],\n",
       "       [0.97065077, 0.8220222 , 0.99906057]])"
      ]
     },
     "execution_count": 128,
     "metadata": {},
     "output_type": "execute_result"
    }
   ],
   "source": [
    "C"
   ]
  },
  {
   "cell_type": "code",
   "execution_count": 129,
   "id": "b0943a56",
   "metadata": {},
   "outputs": [
    {
     "data": {
      "text/plain": [
       "2"
      ]
     },
     "execution_count": 129,
     "metadata": {},
     "output_type": "execute_result"
    }
   ],
   "source": [
    "C.ndim"
   ]
  },
  {
   "cell_type": "code",
   "execution_count": 130,
   "id": "536e9361",
   "metadata": {},
   "outputs": [],
   "source": [
    "C = np.random.rand(2, 3, 4, 2)"
   ]
  },
  {
   "cell_type": "code",
   "execution_count": 131,
   "id": "c01d9563",
   "metadata": {},
   "outputs": [
    {
     "data": {
      "text/plain": [
       "4"
      ]
     },
     "execution_count": 131,
     "metadata": {},
     "output_type": "execute_result"
    }
   ],
   "source": [
    "C.ndim"
   ]
  },
  {
   "cell_type": "code",
   "execution_count": 132,
   "id": "2e785e37",
   "metadata": {},
   "outputs": [
    {
     "data": {
      "text/plain": [
       "array([[[[0.41624284, 0.5752258 ],\n",
       "         [0.92360419, 0.82745987],\n",
       "         [0.92282131, 0.18270069],\n",
       "         [0.42949992, 0.6993304 ]],\n",
       "\n",
       "        [[0.15633435, 0.13969028],\n",
       "         [0.75107298, 0.85127965],\n",
       "         [0.2471743 , 0.25080724],\n",
       "         [0.87303199, 0.5624621 ]],\n",
       "\n",
       "        [[0.63165501, 0.56647041],\n",
       "         [0.31292474, 0.66998769],\n",
       "         [0.36471324, 0.77542231],\n",
       "         [0.16572679, 0.1602096 ]]],\n",
       "\n",
       "\n",
       "       [[[0.29029109, 0.78716348],\n",
       "         [0.92432388, 0.08650311],\n",
       "         [0.31340975, 0.59178158],\n",
       "         [0.41030417, 0.68917089]],\n",
       "\n",
       "        [[0.3230059 , 0.05845577],\n",
       "         [0.76884153, 0.917546  ],\n",
       "         [0.84057753, 0.04465713],\n",
       "         [0.85469638, 0.52957952]],\n",
       "\n",
       "        [[0.70144129, 0.3679138 ],\n",
       "         [0.85628152, 0.81068013],\n",
       "         [0.48956757, 0.43040569],\n",
       "         [0.53578664, 0.86239306]]]])"
      ]
     },
     "execution_count": 132,
     "metadata": {},
     "output_type": "execute_result"
    }
   ],
   "source": [
    "C"
   ]
  },
  {
   "cell_type": "code",
   "execution_count": 133,
   "id": "3e16a612",
   "metadata": {},
   "outputs": [],
   "source": [
    "D = np.arange(100).reshape(4, 25)"
   ]
  },
  {
   "cell_type": "code",
   "execution_count": 134,
   "id": "3cfebba0",
   "metadata": {},
   "outputs": [
    {
     "data": {
      "text/plain": [
       "(4, 25)"
      ]
     },
     "execution_count": 134,
     "metadata": {},
     "output_type": "execute_result"
    }
   ],
   "source": [
    "D.shape"
   ]
  },
  {
   "cell_type": "code",
   "execution_count": 135,
   "id": "446c2b49",
   "metadata": {},
   "outputs": [
    {
     "data": {
      "text/plain": [
       "array([[ 0,  1,  2,  3,  4,  5,  6,  7,  8,  9, 10, 11, 12, 13, 14, 15,\n",
       "        16, 17, 18, 19, 20, 21, 22, 23, 24],\n",
       "       [25, 26, 27, 28, 29, 30, 31, 32, 33, 34, 35, 36, 37, 38, 39, 40,\n",
       "        41, 42, 43, 44, 45, 46, 47, 48, 49],\n",
       "       [50, 51, 52, 53, 54, 55, 56, 57, 58, 59, 60, 61, 62, 63, 64, 65,\n",
       "        66, 67, 68, 69, 70, 71, 72, 73, 74],\n",
       "       [75, 76, 77, 78, 79, 80, 81, 82, 83, 84, 85, 86, 87, 88, 89, 90,\n",
       "        91, 92, 93, 94, 95, 96, 97, 98, 99]])"
      ]
     },
     "execution_count": 135,
     "metadata": {},
     "output_type": "execute_result"
    }
   ],
   "source": [
    "D"
   ]
  },
  {
   "cell_type": "code",
   "execution_count": 136,
   "id": "6071fcc7",
   "metadata": {},
   "outputs": [],
   "source": [
    "D = np.arange(100).reshape(4, 5, 5)"
   ]
  },
  {
   "cell_type": "code",
   "execution_count": 137,
   "id": "c0868429",
   "metadata": {},
   "outputs": [
    {
     "data": {
      "text/plain": [
       "(4, 5, 5)"
      ]
     },
     "execution_count": 137,
     "metadata": {},
     "output_type": "execute_result"
    }
   ],
   "source": [
    "D.shape"
   ]
  },
  {
   "cell_type": "code",
   "execution_count": 138,
   "id": "09fe7a24",
   "metadata": {},
   "outputs": [
    {
     "data": {
      "text/plain": [
       "array([[[ 0,  1,  2,  3,  4],\n",
       "        [ 5,  6,  7,  8,  9],\n",
       "        [10, 11, 12, 13, 14],\n",
       "        [15, 16, 17, 18, 19],\n",
       "        [20, 21, 22, 23, 24]],\n",
       "\n",
       "       [[25, 26, 27, 28, 29],\n",
       "        [30, 31, 32, 33, 34],\n",
       "        [35, 36, 37, 38, 39],\n",
       "        [40, 41, 42, 43, 44],\n",
       "        [45, 46, 47, 48, 49]],\n",
       "\n",
       "       [[50, 51, 52, 53, 54],\n",
       "        [55, 56, 57, 58, 59],\n",
       "        [60, 61, 62, 63, 64],\n",
       "        [65, 66, 67, 68, 69],\n",
       "        [70, 71, 72, 73, 74]],\n",
       "\n",
       "       [[75, 76, 77, 78, 79],\n",
       "        [80, 81, 82, 83, 84],\n",
       "        [85, 86, 87, 88, 89],\n",
       "        [90, 91, 92, 93, 94],\n",
       "        [95, 96, 97, 98, 99]]])"
      ]
     },
     "execution_count": 138,
     "metadata": {},
     "output_type": "execute_result"
    }
   ],
   "source": [
    "D"
   ]
  },
  {
   "cell_type": "code",
   "execution_count": 139,
   "id": "8f292a89",
   "metadata": {},
   "outputs": [],
   "source": [
    "np.zeros?"
   ]
  },
  {
   "cell_type": "code",
   "execution_count": 140,
   "id": "6aae70b6",
   "metadata": {},
   "outputs": [],
   "source": [
    "A = np.arange(100)"
   ]
  },
  {
   "cell_type": "code",
   "execution_count": 141,
   "id": "58e7ffe5",
   "metadata": {},
   "outputs": [
    {
     "name": "stdout",
     "output_type": "stream",
     "text": [
      "[3 4 5 6 7 8]\n"
     ]
    }
   ],
   "source": [
    "b = A[3:9]\n",
    "print(b)"
   ]
  },
  {
   "cell_type": "code",
   "execution_count": 142,
   "id": "db9847c2",
   "metadata": {},
   "outputs": [],
   "source": [
    "b[0] = -1200"
   ]
  },
  {
   "cell_type": "code",
   "execution_count": 143,
   "id": "548835ea",
   "metadata": {},
   "outputs": [
    {
     "data": {
      "text/plain": [
       "array([-1200,     4,     5,     6,     7,     8])"
      ]
     },
     "execution_count": 143,
     "metadata": {},
     "output_type": "execute_result"
    }
   ],
   "source": [
    "b"
   ]
  },
  {
   "cell_type": "code",
   "execution_count": 144,
   "id": "23472fdc",
   "metadata": {},
   "outputs": [
    {
     "data": {
      "text/plain": [
       "array([    0,     1,     2, -1200,     4,     5,     6,     7,     8,\n",
       "           9,    10,    11,    12,    13,    14,    15,    16,    17,\n",
       "          18,    19,    20,    21,    22,    23,    24,    25,    26,\n",
       "          27,    28,    29,    30,    31,    32,    33,    34,    35,\n",
       "          36,    37,    38,    39,    40,    41,    42,    43,    44,\n",
       "          45,    46,    47,    48,    49,    50,    51,    52,    53,\n",
       "          54,    55,    56,    57,    58,    59,    60,    61,    62,\n",
       "          63,    64,    65,    66,    67,    68,    69,    70,    71,\n",
       "          72,    73,    74,    75,    76,    77,    78,    79,    80,\n",
       "          81,    82,    83,    84,    85,    86,    87,    88,    89,\n",
       "          90,    91,    92,    93,    94,    95,    96,    97,    98,\n",
       "          99])"
      ]
     },
     "execution_count": 144,
     "metadata": {},
     "output_type": "execute_result"
    }
   ],
   "source": [
    "A"
   ]
  },
  {
   "cell_type": "code",
   "execution_count": 145,
   "id": "3e687fbc",
   "metadata": {},
   "outputs": [],
   "source": [
    "b = A[3:10].copy()"
   ]
  },
  {
   "cell_type": "code",
   "execution_count": 146,
   "id": "a7251685",
   "metadata": {},
   "outputs": [
    {
     "data": {
      "text/plain": [
       "array([-1200,     4,     5,     6,     7,     8,     9])"
      ]
     },
     "execution_count": 146,
     "metadata": {},
     "output_type": "execute_result"
    }
   ],
   "source": [
    "b"
   ]
  },
  {
   "cell_type": "code",
   "execution_count": 147,
   "id": "100548b0",
   "metadata": {},
   "outputs": [],
   "source": [
    "b[0] = 3"
   ]
  },
  {
   "cell_type": "code",
   "execution_count": 148,
   "id": "a92228da",
   "metadata": {},
   "outputs": [
    {
     "data": {
      "text/plain": [
       "array([3, 4, 5, 6, 7, 8, 9])"
      ]
     },
     "execution_count": 148,
     "metadata": {},
     "output_type": "execute_result"
    }
   ],
   "source": [
    "b"
   ]
  },
  {
   "cell_type": "code",
   "execution_count": 149,
   "id": "28922d3c",
   "metadata": {},
   "outputs": [
    {
     "data": {
      "text/plain": [
       "array([    0,     1,     2, -1200,     4,     5,     6,     7,     8,\n",
       "           9,    10,    11,    12,    13,    14,    15,    16,    17,\n",
       "          18,    19,    20,    21,    22,    23,    24,    25,    26,\n",
       "          27,    28,    29,    30,    31,    32,    33,    34,    35,\n",
       "          36,    37,    38,    39,    40,    41,    42,    43,    44,\n",
       "          45,    46,    47,    48,    49,    50,    51,    52,    53,\n",
       "          54,    55,    56,    57,    58,    59,    60,    61,    62,\n",
       "          63,    64,    65,    66,    67,    68,    69,    70,    71,\n",
       "          72,    73,    74,    75,    76,    77,    78,    79,    80,\n",
       "          81,    82,    83,    84,    85,    86,    87,    88,    89,\n",
       "          90,    91,    92,    93,    94,    95,    96,    97,    98,\n",
       "          99])"
      ]
     },
     "execution_count": 149,
     "metadata": {},
     "output_type": "execute_result"
    }
   ],
   "source": [
    "A"
   ]
  },
  {
   "cell_type": "code",
   "execution_count": 150,
   "id": "df41d9e5",
   "metadata": {},
   "outputs": [
    {
     "data": {
      "text/plain": [
       "array([ 0,  5, 10, 15, 20, 25, 30, 35, 40, 45, 50, 55, 60, 65, 70, 75, 80,\n",
       "       85, 90, 95])"
      ]
     },
     "execution_count": 150,
     "metadata": {},
     "output_type": "execute_result"
    }
   ],
   "source": [
    "A[::5]"
   ]
  },
  {
   "cell_type": "code",
   "execution_count": 151,
   "id": "ae0c3352",
   "metadata": {},
   "outputs": [
    {
     "data": {
      "text/plain": [
       "array([99, 94, 89, 84, 79, 74, 69, 64, 59, 54, 49, 44, 39, 34, 29, 24, 19,\n",
       "       14,  9,  4])"
      ]
     },
     "execution_count": 151,
     "metadata": {},
     "output_type": "execute_result"
    }
   ],
   "source": [
    "A[::-5]"
   ]
  },
  {
   "cell_type": "code",
   "execution_count": 154,
   "id": "31158b04",
   "metadata": {},
   "outputs": [
    {
     "data": {
      "text/plain": [
       "array([   99,    98,    97,    96,    95,    94,    93,    92,    91,\n",
       "          90,    89,    88,    87,    86,    85,    84,    83,    82,\n",
       "          81,    80,    79,    78,    77,    76,    75,    74,    73,\n",
       "          72,    71,    70,    69,    68,    67,    66,    65,    64,\n",
       "          63,    62,    61,    60,    59,    58,    57,    56,    55,\n",
       "          54,    53,    52,    51,    50,    49,    48,    47,    46,\n",
       "          45,    44,    43,    42,    41,    40,    39,    38,    37,\n",
       "          36,    35,    34,    33,    32,    31,    30,    29,    28,\n",
       "          27,    26,    25,    24,    23,    22,    21,    20,    19,\n",
       "          18,    17,    16,    15,    14,    13,    12,    11,    10,\n",
       "           9,     8,     7,     6,     5,     4, -1200,     2,     1,\n",
       "           0])"
      ]
     },
     "execution_count": 154,
     "metadata": {},
     "output_type": "execute_result"
    }
   ],
   "source": [
    "A[::-1]"
   ]
  }
 ],
 "metadata": {
  "kernelspec": {
   "display_name": "Python 3 (ipykernel)",
   "language": "python",
   "name": "python3"
  },
  "language_info": {
   "codemirror_mode": {
    "name": "ipython",
    "version": 3
   },
   "file_extension": ".py",
   "mimetype": "text/x-python",
   "name": "python",
   "nbconvert_exporter": "python",
   "pygments_lexer": "ipython3",
   "version": "3.9.7"
  }
 },
 "nbformat": 4,
 "nbformat_minor": 5
}
