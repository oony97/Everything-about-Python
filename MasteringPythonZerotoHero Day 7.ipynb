{
 "cells": [
  {
   "cell_type": "code",
   "execution_count": 2,
   "id": "de51891b",
   "metadata": {},
   "outputs": [],
   "source": [
    "import numpy as np"
   ]
  },
  {
   "cell_type": "code",
   "execution_count": 3,
   "id": "622650e5",
   "metadata": {},
   "outputs": [],
   "source": [
    "A = np.arange(100)"
   ]
  },
  {
   "cell_type": "code",
   "execution_count": 4,
   "id": "731ab901",
   "metadata": {},
   "outputs": [
    {
     "data": {
      "text/plain": [
       "array([ 0,  1,  2,  3,  4,  5,  6,  7,  8,  9, 10, 11, 12, 13, 14, 15, 16,\n",
       "       17, 18, 19, 20, 21, 22, 23, 24, 25, 26, 27, 28, 29, 30, 31, 32, 33,\n",
       "       34, 35, 36, 37, 38, 39, 40, 41, 42, 43, 44, 45, 46, 47, 48, 49, 50,\n",
       "       51, 52, 53, 54, 55, 56, 57, 58, 59, 60, 61, 62, 63, 64, 65, 66, 67,\n",
       "       68, 69, 70, 71, 72, 73, 74, 75, 76, 77, 78, 79, 80, 81, 82, 83, 84,\n",
       "       85, 86, 87, 88, 89, 90, 91, 92, 93, 94, 95, 96, 97, 98, 99])"
      ]
     },
     "execution_count": 4,
     "metadata": {},
     "output_type": "execute_result"
    }
   ],
   "source": [
    "A"
   ]
  },
  {
   "cell_type": "code",
   "execution_count": 5,
   "id": "6a3d9c21",
   "metadata": {},
   "outputs": [],
   "source": [
    "A[3] = -1200"
   ]
  },
  {
   "cell_type": "code",
   "execution_count": 6,
   "id": "deb27f51",
   "metadata": {},
   "outputs": [
    {
     "data": {
      "text/plain": [
       "array([    0,     1,     2, -1200,     4,     5,     6,     7,     8,\n",
       "           9,    10,    11,    12,    13,    14,    15,    16,    17,\n",
       "          18,    19,    20,    21,    22,    23,    24,    25,    26,\n",
       "          27,    28,    29,    30,    31,    32,    33,    34,    35,\n",
       "          36,    37,    38,    39,    40,    41,    42,    43,    44,\n",
       "          45,    46,    47,    48,    49,    50,    51,    52,    53,\n",
       "          54,    55,    56,    57,    58,    59,    60,    61,    62,\n",
       "          63,    64,    65,    66,    67,    68,    69,    70,    71,\n",
       "          72,    73,    74,    75,    76,    77,    78,    79,    80,\n",
       "          81,    82,    83,    84,    85,    86,    87,    88,    89,\n",
       "          90,    91,    92,    93,    94,    95,    96,    97,    98,\n",
       "          99])"
      ]
     },
     "execution_count": 6,
     "metadata": {},
     "output_type": "execute_result"
    }
   ],
   "source": [
    "A"
   ]
  },
  {
   "cell_type": "code",
   "execution_count": 9,
   "id": "ff52ece1",
   "metadata": {},
   "outputs": [],
   "source": [
    "idx = np.argwhere(A==-1200)[0][0]"
   ]
  },
  {
   "cell_type": "code",
   "execution_count": 10,
   "id": "afca8f3b",
   "metadata": {},
   "outputs": [
    {
     "data": {
      "text/plain": [
       "3"
      ]
     },
     "execution_count": 10,
     "metadata": {},
     "output_type": "execute_result"
    }
   ],
   "source": [
    "idx"
   ]
  },
  {
   "cell_type": "code",
   "execution_count": 11,
   "id": "183ac6d6",
   "metadata": {},
   "outputs": [],
   "source": [
    "A[idx] = 3"
   ]
  },
  {
   "cell_type": "code",
   "execution_count": 12,
   "id": "3eece6cd",
   "metadata": {},
   "outputs": [
    {
     "data": {
      "text/plain": [
       "array([ 0,  1,  2,  3,  4,  5,  6,  7,  8,  9, 10, 11, 12, 13, 14, 15, 16,\n",
       "       17, 18, 19, 20, 21, 22, 23, 24, 25, 26, 27, 28, 29, 30, 31, 32, 33,\n",
       "       34, 35, 36, 37, 38, 39, 40, 41, 42, 43, 44, 45, 46, 47, 48, 49, 50,\n",
       "       51, 52, 53, 54, 55, 56, 57, 58, 59, 60, 61, 62, 63, 64, 65, 66, 67,\n",
       "       68, 69, 70, 71, 72, 73, 74, 75, 76, 77, 78, 79, 80, 81, 82, 83, 84,\n",
       "       85, 86, 87, 88, 89, 90, 91, 92, 93, 94, 95, 96, 97, 98, 99])"
      ]
     },
     "execution_count": 12,
     "metadata": {},
     "output_type": "execute_result"
    }
   ],
   "source": [
    "A"
   ]
  },
  {
   "cell_type": "code",
   "execution_count": 15,
   "id": "68119ccd",
   "metadata": {},
   "outputs": [],
   "source": [
    "A = np.round(10*np.random.rand(5, 4))"
   ]
  },
  {
   "cell_type": "code",
   "execution_count": 16,
   "id": "3f58a6b7",
   "metadata": {},
   "outputs": [
    {
     "data": {
      "text/plain": [
       "array([[ 5.,  1.,  0.,  1.],\n",
       "       [ 2., 10., 10.,  2.],\n",
       "       [ 5.,  5., 10.,  8.],\n",
       "       [ 9.,  2.,  4.,  4.],\n",
       "       [ 3.,  4.,  6.,  7.]])"
      ]
     },
     "execution_count": 16,
     "metadata": {},
     "output_type": "execute_result"
    }
   ],
   "source": [
    "A"
   ]
  },
  {
   "cell_type": "code",
   "execution_count": 17,
   "id": "a38abea1",
   "metadata": {},
   "outputs": [
    {
     "data": {
      "text/plain": [
       "10.0"
      ]
     },
     "execution_count": 17,
     "metadata": {},
     "output_type": "execute_result"
    }
   ],
   "source": [
    "A[1][2]"
   ]
  },
  {
   "cell_type": "code",
   "execution_count": 18,
   "id": "ea151a26",
   "metadata": {},
   "outputs": [
    {
     "data": {
      "text/plain": [
       "array([ 2., 10., 10.,  2.])"
      ]
     },
     "execution_count": 18,
     "metadata": {},
     "output_type": "execute_result"
    }
   ],
   "source": [
    "A[1,:]"
   ]
  },
  {
   "cell_type": "code",
   "execution_count": 19,
   "id": "2ac73149",
   "metadata": {},
   "outputs": [
    {
     "data": {
      "text/plain": [
       "array([ 1., 10.,  5.,  2.,  4.])"
      ]
     },
     "execution_count": 19,
     "metadata": {},
     "output_type": "execute_result"
    }
   ],
   "source": [
    "A[:, 1]"
   ]
  },
  {
   "cell_type": "code",
   "execution_count": 21,
   "id": "84febcc4",
   "metadata": {},
   "outputs": [
    {
     "data": {
      "text/plain": [
       "array([[10.,  2.],\n",
       "       [10.,  8.]])"
      ]
     },
     "execution_count": 21,
     "metadata": {},
     "output_type": "execute_result"
    }
   ],
   "source": [
    "A[1:3, 2:4]"
   ]
  },
  {
   "cell_type": "code",
   "execution_count": 22,
   "id": "bf235d79",
   "metadata": {},
   "outputs": [
    {
     "data": {
      "text/plain": [
       "array([[ 5.,  1.,  0.,  1.],\n",
       "       [ 2., 10., 10.,  2.],\n",
       "       [ 5.,  5., 10.,  8.],\n",
       "       [ 9.,  2.,  4.,  4.],\n",
       "       [ 3.,  4.,  6.,  7.]])"
      ]
     },
     "execution_count": 22,
     "metadata": {},
     "output_type": "execute_result"
    }
   ],
   "source": [
    "A"
   ]
  },
  {
   "cell_type": "code",
   "execution_count": 23,
   "id": "5fa7ce78",
   "metadata": {},
   "outputs": [
    {
     "data": {
      "text/plain": [
       "array([[ 5.,  2.,  5.,  9.,  3.],\n",
       "       [ 1., 10.,  5.,  2.,  4.],\n",
       "       [ 0., 10., 10.,  4.,  6.],\n",
       "       [ 1.,  2.,  8.,  4.,  7.]])"
      ]
     },
     "execution_count": 23,
     "metadata": {},
     "output_type": "execute_result"
    }
   ],
   "source": [
    "A.T"
   ]
  },
  {
   "cell_type": "code",
   "execution_count": 24,
   "id": "0b39167e",
   "metadata": {},
   "outputs": [],
   "source": [
    "import numpy.linalg as la"
   ]
  },
  {
   "cell_type": "code",
   "execution_count": 26,
   "id": "92e4e43f",
   "metadata": {},
   "outputs": [],
   "source": [
    "B = np.random.rand(3,3)"
   ]
  },
  {
   "cell_type": "code",
   "execution_count": 28,
   "id": "f0abb7fa",
   "metadata": {},
   "outputs": [
    {
     "data": {
      "text/plain": [
       "array([[ -2.66029061,  20.09436716,  -4.85551924],\n",
       "       [-23.91381847,  42.19311862,   1.57073362],\n",
       "       [ 17.51430322, -40.87241811,   3.39316062]])"
      ]
     },
     "execution_count": 28,
     "metadata": {},
     "output_type": "execute_result"
    }
   ],
   "source": [
    "la.inv(B)"
   ]
  },
  {
   "cell_type": "code",
   "execution_count": 29,
   "id": "bc7506ed",
   "metadata": {},
   "outputs": [
    {
     "data": {
      "text/plain": [
       "array([[0.43752528, 0.27486393, 0.49884888],\n",
       "       [0.22924859, 0.1603825 , 0.25380547],\n",
       "       [0.50306893, 0.5131412 , 0.77704919]])"
      ]
     },
     "execution_count": 29,
     "metadata": {},
     "output_type": "execute_result"
    }
   ],
   "source": [
    "B"
   ]
  },
  {
   "cell_type": "code",
   "execution_count": 31,
   "id": "dd00233e",
   "metadata": {},
   "outputs": [
    {
     "data": {
      "text/plain": [
       "array([[ 5.,  1.,  0.,  1.],\n",
       "       [ 2., 10., 10.,  2.],\n",
       "       [ 5.,  5., 10.,  8.],\n",
       "       [ 9.,  2.,  4.,  4.],\n",
       "       [ 3.,  4.,  6.,  7.]])"
      ]
     },
     "execution_count": 31,
     "metadata": {},
     "output_type": "execute_result"
    }
   ],
   "source": [
    "A"
   ]
  },
  {
   "cell_type": "code",
   "execution_count": 32,
   "id": "e113a48a",
   "metadata": {},
   "outputs": [],
   "source": [
    "A.sort(axis=0) # sort columns"
   ]
  },
  {
   "cell_type": "code",
   "execution_count": 33,
   "id": "e8fd0ef5",
   "metadata": {},
   "outputs": [
    {
     "data": {
      "text/plain": [
       "array([[ 2.,  1.,  0.,  1.],\n",
       "       [ 3.,  2.,  4.,  2.],\n",
       "       [ 5.,  4.,  6.,  4.],\n",
       "       [ 5.,  5., 10.,  7.],\n",
       "       [ 9., 10., 10.,  8.]])"
      ]
     },
     "execution_count": 33,
     "metadata": {},
     "output_type": "execute_result"
    }
   ],
   "source": [
    "A"
   ]
  },
  {
   "cell_type": "code",
   "execution_count": 34,
   "id": "e8280b62",
   "metadata": {},
   "outputs": [],
   "source": [
    "A.sort(axis=1) # sort rows"
   ]
  },
  {
   "cell_type": "code",
   "execution_count": 35,
   "id": "0bae250b",
   "metadata": {},
   "outputs": [
    {
     "data": {
      "text/plain": [
       "array([[ 0.,  1.,  1.,  2.],\n",
       "       [ 2.,  2.,  3.,  4.],\n",
       "       [ 4.,  4.,  5.,  6.],\n",
       "       [ 5.,  5.,  7., 10.],\n",
       "       [ 8.,  9., 10., 10.]])"
      ]
     },
     "execution_count": 35,
     "metadata": {},
     "output_type": "execute_result"
    }
   ],
   "source": [
    "A"
   ]
  },
  {
   "cell_type": "code",
   "execution_count": 46,
   "id": "727230b3",
   "metadata": {},
   "outputs": [],
   "source": [
    "A = np.arange(100)"
   ]
  },
  {
   "cell_type": "code",
   "execution_count": 47,
   "id": "e187418d",
   "metadata": {},
   "outputs": [
    {
     "data": {
      "text/plain": [
       "array([ 0,  1,  2,  3,  4,  5,  6,  7,  8,  9, 10, 11, 12, 13, 14, 15, 16,\n",
       "       17, 18, 19, 20, 21, 22, 23, 24, 25, 26, 27, 28, 29, 30, 31, 32, 33,\n",
       "       34, 35, 36, 37, 38, 39, 40, 41, 42, 43, 44, 45, 46, 47, 48, 49, 50,\n",
       "       51, 52, 53, 54, 55, 56, 57, 58, 59, 60, 61, 62, 63, 64, 65, 66, 67,\n",
       "       68, 69, 70, 71, 72, 73, 74, 75, 76, 77, 78, 79, 80, 81, 82, 83, 84,\n",
       "       85, 86, 87, 88, 89, 90, 91, 92, 93, 94, 95, 96, 97, 98, 99])"
      ]
     },
     "execution_count": 47,
     "metadata": {},
     "output_type": "execute_result"
    }
   ],
   "source": [
    "A"
   ]
  },
  {
   "cell_type": "code",
   "execution_count": 48,
   "id": "4efa5c80",
   "metadata": {},
   "outputs": [],
   "source": [
    "B = A[[3, 5, 6]]"
   ]
  },
  {
   "cell_type": "code",
   "execution_count": 49,
   "id": "d87a3152",
   "metadata": {},
   "outputs": [
    {
     "data": {
      "text/plain": [
       "array([3, 5, 6])"
      ]
     },
     "execution_count": 49,
     "metadata": {},
     "output_type": "execute_result"
    }
   ],
   "source": [
    "B"
   ]
  },
  {
   "cell_type": "code",
   "execution_count": 50,
   "id": "b08dd05a",
   "metadata": {},
   "outputs": [],
   "source": [
    "B[0] = -4"
   ]
  },
  {
   "cell_type": "code",
   "execution_count": 51,
   "id": "67e82d41",
   "metadata": {},
   "outputs": [
    {
     "data": {
      "text/plain": [
       "array([-4,  5,  6])"
      ]
     },
     "execution_count": 51,
     "metadata": {},
     "output_type": "execute_result"
    }
   ],
   "source": [
    "B"
   ]
  },
  {
   "cell_type": "code",
   "execution_count": 52,
   "id": "ccbd9532",
   "metadata": {},
   "outputs": [
    {
     "data": {
      "text/plain": [
       "array([ 0,  1,  2,  3,  4,  5,  6,  7,  8,  9, 10, 11, 12, 13, 14, 15, 16,\n",
       "       17, 18, 19, 20, 21, 22, 23, 24, 25, 26, 27, 28, 29, 30, 31, 32, 33,\n",
       "       34, 35, 36, 37, 38, 39, 40, 41, 42, 43, 44, 45, 46, 47, 48, 49, 50,\n",
       "       51, 52, 53, 54, 55, 56, 57, 58, 59, 60, 61, 62, 63, 64, 65, 66, 67,\n",
       "       68, 69, 70, 71, 72, 73, 74, 75, 76, 77, 78, 79, 80, 81, 82, 83, 84,\n",
       "       85, 86, 87, 88, 89, 90, 91, 92, 93, 94, 95, 96, 97, 98, 99])"
      ]
     },
     "execution_count": 52,
     "metadata": {},
     "output_type": "execute_result"
    }
   ],
   "source": [
    "A"
   ]
  },
  {
   "cell_type": "code",
   "execution_count": 53,
   "id": "090c1410",
   "metadata": {},
   "outputs": [],
   "source": [
    "B = A[A < 40]"
   ]
  },
  {
   "cell_type": "code",
   "execution_count": 54,
   "id": "88ed04bd",
   "metadata": {},
   "outputs": [
    {
     "data": {
      "text/plain": [
       "array([ 0,  1,  2,  3,  4,  5,  6,  7,  8,  9, 10, 11, 12, 13, 14, 15, 16,\n",
       "       17, 18, 19, 20, 21, 22, 23, 24, 25, 26, 27, 28, 29, 30, 31, 32, 33,\n",
       "       34, 35, 36, 37, 38, 39])"
      ]
     },
     "execution_count": 54,
     "metadata": {},
     "output_type": "execute_result"
    }
   ],
   "source": [
    "B"
   ]
  },
  {
   "cell_type": "code",
   "execution_count": 55,
   "id": "78fc945f",
   "metadata": {},
   "outputs": [],
   "source": [
    "B = A[(A<40) & (A>30)]"
   ]
  },
  {
   "cell_type": "code",
   "execution_count": 56,
   "id": "2c35f742",
   "metadata": {},
   "outputs": [
    {
     "data": {
      "text/plain": [
       "array([31, 32, 33, 34, 35, 36, 37, 38, 39])"
      ]
     },
     "execution_count": 56,
     "metadata": {},
     "output_type": "execute_result"
    }
   ],
   "source": [
    "B"
   ]
  },
  {
   "cell_type": "code",
   "execution_count": 57,
   "id": "c3f9f02e",
   "metadata": {},
   "outputs": [],
   "source": [
    "# ''&' for arrays, 'and' for a single object\n",
    "# |, or\n",
    "# ~, not"
   ]
  },
  {
   "cell_type": "code",
   "execution_count": 61,
   "id": "a061779b",
   "metadata": {},
   "outputs": [],
   "source": [
    "A = np.arange(4).reshape(2, 2)"
   ]
  },
  {
   "cell_type": "code",
   "execution_count": 62,
   "id": "a37f5067",
   "metadata": {},
   "outputs": [
    {
     "data": {
      "text/plain": [
       "array([[0, 1],\n",
       "       [2, 3]])"
      ]
     },
     "execution_count": 62,
     "metadata": {},
     "output_type": "execute_result"
    }
   ],
   "source": [
    "A"
   ]
  },
  {
   "cell_type": "code",
   "execution_count": 63,
   "id": "70ea8a66",
   "metadata": {},
   "outputs": [],
   "source": [
    "A = A + 5"
   ]
  },
  {
   "cell_type": "code",
   "execution_count": 64,
   "id": "df8e40b8",
   "metadata": {},
   "outputs": [
    {
     "data": {
      "text/plain": [
       "array([[5, 6],\n",
       "       [7, 8]])"
      ]
     },
     "execution_count": 64,
     "metadata": {},
     "output_type": "execute_result"
    }
   ],
   "source": [
    "A"
   ]
  },
  {
   "cell_type": "code",
   "execution_count": 72,
   "id": "4c9e2990",
   "metadata": {},
   "outputs": [],
   "source": [
    "A = np.arange(4).reshape(2, 2)"
   ]
  },
  {
   "cell_type": "code",
   "execution_count": 73,
   "id": "7577a032",
   "metadata": {},
   "outputs": [
    {
     "data": {
      "text/plain": [
       "array([[0, 1],\n",
       "       [2, 3]])"
      ]
     },
     "execution_count": 73,
     "metadata": {},
     "output_type": "execute_result"
    }
   ],
   "source": [
    "A"
   ]
  },
  {
   "cell_type": "code",
   "execution_count": 74,
   "id": "28408500",
   "metadata": {},
   "outputs": [],
   "source": [
    "B = np.arange(1,3)"
   ]
  },
  {
   "cell_type": "code",
   "execution_count": 75,
   "id": "3dc92790",
   "metadata": {},
   "outputs": [
    {
     "data": {
      "text/plain": [
       "array([1, 2])"
      ]
     },
     "execution_count": 75,
     "metadata": {},
     "output_type": "execute_result"
    }
   ],
   "source": [
    "B"
   ]
  },
  {
   "cell_type": "code",
   "execution_count": 76,
   "id": "70dcb062",
   "metadata": {},
   "outputs": [
    {
     "data": {
      "text/plain": [
       "array([[1, 3],\n",
       "       [3, 5]])"
      ]
     },
     "execution_count": 76,
     "metadata": {},
     "output_type": "execute_result"
    }
   ],
   "source": [
    "A + B"
   ]
  },
  {
   "cell_type": "code",
   "execution_count": 77,
   "id": "9210f2eb",
   "metadata": {},
   "outputs": [],
   "source": [
    "A = np.arange(4).reshape(2,2)"
   ]
  },
  {
   "cell_type": "code",
   "execution_count": 81,
   "id": "866b0d31",
   "metadata": {},
   "outputs": [
    {
     "data": {
      "text/plain": [
       "array([[0, 1],\n",
       "       [2, 3]])"
      ]
     },
     "execution_count": 81,
     "metadata": {},
     "output_type": "execute_result"
    }
   ],
   "source": [
    "A"
   ]
  },
  {
   "cell_type": "code",
   "execution_count": 82,
   "id": "aaf9df41",
   "metadata": {},
   "outputs": [],
   "source": [
    "C = np.array([[1],[2]])"
   ]
  },
  {
   "cell_type": "code",
   "execution_count": 83,
   "id": "640a3ff7",
   "metadata": {},
   "outputs": [
    {
     "data": {
      "text/plain": [
       "array([[1],\n",
       "       [2]])"
      ]
     },
     "execution_count": 83,
     "metadata": {},
     "output_type": "execute_result"
    }
   ],
   "source": [
    "C"
   ]
  },
  {
   "cell_type": "code",
   "execution_count": 84,
   "id": "a72c1cb4",
   "metadata": {},
   "outputs": [
    {
     "data": {
      "text/plain": [
       "array([[1, 2],\n",
       "       [4, 5]])"
      ]
     },
     "execution_count": 84,
     "metadata": {},
     "output_type": "execute_result"
    }
   ],
   "source": [
    "A + C"
   ]
  },
  {
   "cell_type": "code",
   "execution_count": 85,
   "id": "40f31f8a",
   "metadata": {},
   "outputs": [],
   "source": [
    "A = np.round(10*np.random.rand(2, 3))"
   ]
  },
  {
   "cell_type": "code",
   "execution_count": 86,
   "id": "1da198ba",
   "metadata": {},
   "outputs": [
    {
     "data": {
      "text/plain": [
       "array([[ 3., 10.,  7.],\n",
       "       [ 9.,  3.,  3.]])"
      ]
     },
     "execution_count": 86,
     "metadata": {},
     "output_type": "execute_result"
    }
   ],
   "source": [
    "A"
   ]
  },
  {
   "cell_type": "code",
   "execution_count": 87,
   "id": "eee35b88",
   "metadata": {},
   "outputs": [
    {
     "data": {
      "text/plain": [
       "array([[ 6., 13., 10.],\n",
       "       [12.,  6.,  6.]])"
      ]
     },
     "execution_count": 87,
     "metadata": {},
     "output_type": "execute_result"
    }
   ],
   "source": [
    "A + 3"
   ]
  },
  {
   "cell_type": "code",
   "execution_count": 89,
   "id": "ba454d55",
   "metadata": {},
   "outputs": [
    {
     "data": {
      "text/plain": [
       "array([[ 3., 10.,  7.],\n",
       "       [10.,  4.,  4.]])"
      ]
     },
     "execution_count": 89,
     "metadata": {},
     "output_type": "execute_result"
    }
   ],
   "source": [
    "A + (np.arange(2).reshape(2, 1))"
   ]
  },
  {
   "cell_type": "code",
   "execution_count": 90,
   "id": "5d11b566",
   "metadata": {},
   "outputs": [],
   "source": [
    "B = np.round(10 * np.random.rand(2, 3))"
   ]
  },
  {
   "cell_type": "code",
   "execution_count": 91,
   "id": "20f51ae9",
   "metadata": {},
   "outputs": [
    {
     "data": {
      "text/plain": [
       "array([[ 3., 10.,  7.],\n",
       "       [ 9.,  3.,  3.]])"
      ]
     },
     "execution_count": 91,
     "metadata": {},
     "output_type": "execute_result"
    }
   ],
   "source": [
    "A"
   ]
  },
  {
   "cell_type": "code",
   "execution_count": 92,
   "id": "4cdd2b15",
   "metadata": {},
   "outputs": [
    {
     "data": {
      "text/plain": [
       "array([[ 2.,  8., 10.],\n",
       "       [ 1.,  3.,  6.]])"
      ]
     },
     "execution_count": 92,
     "metadata": {},
     "output_type": "execute_result"
    }
   ],
   "source": [
    "B"
   ]
  },
  {
   "cell_type": "code",
   "execution_count": 93,
   "id": "c5808e2a",
   "metadata": {},
   "outputs": [],
   "source": [
    "C = np.hstack((A, B))"
   ]
  },
  {
   "cell_type": "code",
   "execution_count": 94,
   "id": "a8550d1f",
   "metadata": {},
   "outputs": [
    {
     "data": {
      "text/plain": [
       "array([[ 3., 10.,  7.,  2.,  8., 10.],\n",
       "       [ 9.,  3.,  3.,  1.,  3.,  6.]])"
      ]
     },
     "execution_count": 94,
     "metadata": {},
     "output_type": "execute_result"
    }
   ],
   "source": [
    "C"
   ]
  },
  {
   "cell_type": "code",
   "execution_count": 97,
   "id": "ad9a6199",
   "metadata": {},
   "outputs": [],
   "source": [
    "A = np.random.permutation(np.arange(10))"
   ]
  },
  {
   "cell_type": "code",
   "execution_count": 98,
   "id": "63729a08",
   "metadata": {},
   "outputs": [
    {
     "data": {
      "text/plain": [
       "array([4, 1, 7, 6, 0, 8, 3, 5, 2, 9])"
      ]
     },
     "execution_count": 98,
     "metadata": {},
     "output_type": "execute_result"
    }
   ],
   "source": [
    "A"
   ]
  },
  {
   "cell_type": "code",
   "execution_count": 99,
   "id": "1a81defd",
   "metadata": {},
   "outputs": [
    {
     "data": {
      "text/plain": [
       "array([0, 1, 2, 3, 4, 5, 6, 7, 8, 9])"
      ]
     },
     "execution_count": 99,
     "metadata": {},
     "output_type": "execute_result"
    }
   ],
   "source": [
    "np.sort(A)"
   ]
  },
  {
   "cell_type": "code",
   "execution_count": 100,
   "id": "750b7fc2",
   "metadata": {},
   "outputs": [
    {
     "data": {
      "text/plain": [
       "array([4, 1, 7, 6, 0, 8, 3, 5, 2, 9])"
      ]
     },
     "execution_count": 100,
     "metadata": {},
     "output_type": "execute_result"
    }
   ],
   "source": [
    "A"
   ]
  },
  {
   "cell_type": "code",
   "execution_count": 101,
   "id": "20c01717",
   "metadata": {},
   "outputs": [],
   "source": [
    "A.sort()"
   ]
  },
  {
   "cell_type": "code",
   "execution_count": 102,
   "id": "c6d3168d",
   "metadata": {},
   "outputs": [],
   "source": [
    "A = A[::-1]"
   ]
  },
  {
   "cell_type": "code",
   "execution_count": 103,
   "id": "c7276d4d",
   "metadata": {},
   "outputs": [
    {
     "data": {
      "text/plain": [
       "array([9, 8, 7, 6, 5, 4, 3, 2, 1, 0])"
      ]
     },
     "execution_count": 103,
     "metadata": {},
     "output_type": "execute_result"
    }
   ],
   "source": [
    "A"
   ]
  },
  {
   "cell_type": "code",
   "execution_count": 104,
   "id": "f3d3450b",
   "metadata": {},
   "outputs": [],
   "source": [
    "A = np.array([\"abc\", \"how are you\", \"u765\", \"13er\"])"
   ]
  },
  {
   "cell_type": "code",
   "execution_count": 105,
   "id": "19f7d2ae",
   "metadata": {},
   "outputs": [
    {
     "data": {
      "text/plain": [
       "array(['abc', 'how are you', 'u765', '13er'], dtype='<U11')"
      ]
     },
     "execution_count": 105,
     "metadata": {},
     "output_type": "execute_result"
    }
   ],
   "source": [
    "A"
   ]
  },
  {
   "cell_type": "code",
   "execution_count": 106,
   "id": "d20f8907",
   "metadata": {},
   "outputs": [],
   "source": [
    "A.sort()"
   ]
  },
  {
   "cell_type": "code",
   "execution_count": 107,
   "id": "23c35ec2",
   "metadata": {},
   "outputs": [
    {
     "data": {
      "text/plain": [
       "array(['13er', 'abc', 'how are you', 'u765'], dtype='<U11')"
      ]
     },
     "execution_count": 107,
     "metadata": {},
     "output_type": "execute_result"
    }
   ],
   "source": [
    "A"
   ]
  },
  {
   "cell_type": "code",
   "execution_count": 108,
   "id": "e39bd925",
   "metadata": {},
   "outputs": [],
   "source": [
    "A = np.round(10*np.random.rand(2, 3))"
   ]
  },
  {
   "cell_type": "code",
   "execution_count": 109,
   "id": "17faf95f",
   "metadata": {},
   "outputs": [
    {
     "data": {
      "text/plain": [
       "array([[10.,  7.,  0.],\n",
       "       [ 4.,  6.,  4.]])"
      ]
     },
     "execution_count": 109,
     "metadata": {},
     "output_type": "execute_result"
    }
   ],
   "source": [
    "A"
   ]
  },
  {
   "cell_type": "code",
   "execution_count": 110,
   "id": "7a03abd9",
   "metadata": {},
   "outputs": [],
   "source": [
    "B = np.round(10*np.random.rand(2, 3))"
   ]
  },
  {
   "cell_type": "code",
   "execution_count": 111,
   "id": "06a70c16",
   "metadata": {},
   "outputs": [
    {
     "data": {
      "text/plain": [
       "array([[8., 2., 5.],\n",
       "       [6., 5., 0.]])"
      ]
     },
     "execution_count": 111,
     "metadata": {},
     "output_type": "execute_result"
    }
   ],
   "source": [
    "B"
   ]
  },
  {
   "cell_type": "code",
   "execution_count": 112,
   "id": "61488f36",
   "metadata": {},
   "outputs": [],
   "source": [
    "C = np.vstack((A, B))"
   ]
  },
  {
   "cell_type": "code",
   "execution_count": 113,
   "id": "6c2d1f1f",
   "metadata": {},
   "outputs": [
    {
     "data": {
      "text/plain": [
       "array([[10.,  7.,  0.],\n",
       "       [ 4.,  6.,  4.],\n",
       "       [ 8.,  2.,  5.],\n",
       "       [ 6.,  5.,  0.]])"
      ]
     },
     "execution_count": 113,
     "metadata": {},
     "output_type": "execute_result"
    }
   ],
   "source": [
    "C"
   ]
  },
  {
   "cell_type": "code",
   "execution_count": 114,
   "id": "6087f4b2",
   "metadata": {},
   "outputs": [],
   "source": [
    "D = np.round(10*np.random.rand(1, 3))"
   ]
  },
  {
   "cell_type": "code",
   "execution_count": 115,
   "id": "e402173e",
   "metadata": {},
   "outputs": [
    {
     "data": {
      "text/plain": [
       "array([[1., 1., 7.]])"
      ]
     },
     "execution_count": 115,
     "metadata": {},
     "output_type": "execute_result"
    }
   ],
   "source": [
    "D"
   ]
  },
  {
   "cell_type": "code",
   "execution_count": 116,
   "id": "80ff018e",
   "metadata": {},
   "outputs": [],
   "source": [
    "E = np.vstack((C, D))"
   ]
  },
  {
   "cell_type": "code",
   "execution_count": 118,
   "id": "459f4388",
   "metadata": {},
   "outputs": [
    {
     "data": {
      "text/plain": [
       "array([[10.,  7.,  0.],\n",
       "       [ 4.,  6.,  4.],\n",
       "       [ 8.,  2.,  5.],\n",
       "       [ 6.,  5.,  0.],\n",
       "       [ 1.,  1.,  7.]])"
      ]
     },
     "execution_count": 118,
     "metadata": {},
     "output_type": "execute_result"
    }
   ],
   "source": [
    "E"
   ]
  }
 ],
 "metadata": {
  "kernelspec": {
   "display_name": "Python 3 (ipykernel)",
   "language": "python",
   "name": "python3"
  },
  "language_info": {
   "codemirror_mode": {
    "name": "ipython",
    "version": 3
   },
   "file_extension": ".py",
   "mimetype": "text/x-python",
   "name": "python",
   "nbconvert_exporter": "python",
   "pygments_lexer": "ipython3",
   "version": "3.9.7"
  }
 },
 "nbformat": 4,
 "nbformat_minor": 5
}
