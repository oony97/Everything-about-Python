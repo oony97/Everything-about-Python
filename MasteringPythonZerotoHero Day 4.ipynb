{
 "cells": [
  {
   "cell_type": "code",
   "execution_count": 4,
   "id": "800b88cd",
   "metadata": {},
   "outputs": [],
   "source": [
    "def myadd(a, b):\n",
    "    sumValue = a + b\n",
    "    return sumValue"
   ]
  },
  {
   "cell_type": "code",
   "execution_count": 6,
   "id": "b15b6388",
   "metadata": {},
   "outputs": [
    {
     "name": "stdout",
     "output_type": "stream",
     "text": [
      "5\n"
     ]
    }
   ],
   "source": [
    "d = myadd(2, 3)\n",
    "print(d)"
   ]
  },
  {
   "cell_type": "code",
   "execution_count": 7,
   "id": "4bb1daa7",
   "metadata": {},
   "outputs": [],
   "source": [
    "variableOutsideTheFunction = 3"
   ]
  },
  {
   "cell_type": "code",
   "execution_count": 8,
   "id": "14e79b10",
   "metadata": {},
   "outputs": [],
   "source": [
    "def g():\n",
    "    print(variableOutsideTheFunction)"
   ]
  },
  {
   "cell_type": "code",
   "execution_count": 9,
   "id": "a7092848",
   "metadata": {},
   "outputs": [
    {
     "name": "stdout",
     "output_type": "stream",
     "text": [
      "3\n"
     ]
    }
   ],
   "source": [
    "g()"
   ]
  },
  {
   "cell_type": "code",
   "execution_count": 11,
   "id": "0fd81067",
   "metadata": {},
   "outputs": [],
   "source": [
    "def g():\n",
    "    variableOutsideTheFunction = 5\n",
    "    print(variableOutsideTheFunction)"
   ]
  },
  {
   "cell_type": "code",
   "execution_count": 12,
   "id": "15990cc3",
   "metadata": {},
   "outputs": [
    {
     "name": "stdout",
     "output_type": "stream",
     "text": [
      "5\n"
     ]
    }
   ],
   "source": [
    "g()"
   ]
  },
  {
   "cell_type": "code",
   "execution_count": 14,
   "id": "6bfac037",
   "metadata": {},
   "outputs": [
    {
     "name": "stdout",
     "output_type": "stream",
     "text": [
      "3\n"
     ]
    }
   ],
   "source": [
    "print(variableOutsideTheFunction)"
   ]
  },
  {
   "cell_type": "code",
   "execution_count": 17,
   "id": "94c437ef",
   "metadata": {},
   "outputs": [],
   "source": [
    "def g():\n",
    "    variableOutsideTheFunction = 5"
   ]
  },
  {
   "cell_type": "code",
   "execution_count": 18,
   "id": "580763c3",
   "metadata": {},
   "outputs": [
    {
     "name": "stdout",
     "output_type": "stream",
     "text": [
      "None\n"
     ]
    }
   ],
   "source": [
    "print(g())"
   ]
  },
  {
   "cell_type": "code",
   "execution_count": 19,
   "id": "f1244180",
   "metadata": {},
   "outputs": [
    {
     "name": "stdout",
     "output_type": "stream",
     "text": [
      "<class 'NoneType'>\n"
     ]
    }
   ],
   "source": [
    "print(type(g()))"
   ]
  },
  {
   "cell_type": "code",
   "execution_count": 20,
   "id": "f9152ee0",
   "metadata": {},
   "outputs": [],
   "source": [
    "def h():\n",
    "    print(\"A\")\n",
    "    a = 3\n",
    "    b = 5\n",
    "    c = a + b\n",
    "    print(\"something\")\n",
    "    return\n",
    "    print(\"B\")\n",
    "    print(\"C\")"
   ]
  },
  {
   "cell_type": "code",
   "execution_count": 21,
   "id": "4008e4e4",
   "metadata": {},
   "outputs": [
    {
     "name": "stdout",
     "output_type": "stream",
     "text": [
      "A\n",
      "something\n"
     ]
    }
   ],
   "source": [
    "h()"
   ]
  },
  {
   "cell_type": "code",
   "execution_count": 22,
   "id": "ad156294",
   "metadata": {},
   "outputs": [
    {
     "name": "stdout",
     "output_type": "stream",
     "text": [
      "A\n",
      "something\n",
      "None\n"
     ]
    }
   ],
   "source": [
    "print(h())"
   ]
  },
  {
   "cell_type": "code",
   "execution_count": 23,
   "id": "f897bfe4",
   "metadata": {},
   "outputs": [
    {
     "name": "stdout",
     "output_type": "stream",
     "text": [
      "A\n",
      "something\n",
      "<class 'NoneType'>\n"
     ]
    }
   ],
   "source": [
    "print(type(h()))"
   ]
  },
  {
   "cell_type": "code",
   "execution_count": 24,
   "id": "288b220a",
   "metadata": {},
   "outputs": [],
   "source": [
    "def r():\n",
    "    a = 5\n",
    "    b = 7\n",
    "    d = \"something\"\n",
    "    return a, b, d"
   ]
  },
  {
   "cell_type": "code",
   "execution_count": 34,
   "id": "7fc25381",
   "metadata": {},
   "outputs": [
    {
     "name": "stdout",
     "output_type": "stream",
     "text": [
      "5 7 something\n"
     ]
    }
   ],
   "source": [
    "x, y , z = r()\n",
    "print(x, y, z)"
   ]
  },
  {
   "cell_type": "code",
   "execution_count": 39,
   "id": "800a3aad",
   "metadata": {},
   "outputs": [],
   "source": [
    "def myAddUniversal1(*args):\n",
    "    s = 0\n",
    "    for i in range(len(args)):\n",
    "        s += args[i] # s = s + args[i]\n",
    "    return s"
   ]
  },
  {
   "cell_type": "code",
   "execution_count": 40,
   "id": "a9dd4edb",
   "metadata": {},
   "outputs": [
    {
     "name": "stdout",
     "output_type": "stream",
     "text": [
      "93.6\n"
     ]
    }
   ],
   "source": [
    "print(myAddUniversal1(2, 4, 5, 4.6, 78))"
   ]
  },
  {
   "cell_type": "code",
   "execution_count": 41,
   "id": "843008f6",
   "metadata": {},
   "outputs": [],
   "source": [
    "def myAddUniversal2(*hi): # different name for arguments\n",
    "    s = 0\n",
    "    for i in range(len(hi)):\n",
    "        s += hi[i] # s = s + hi[i]\n",
    "    return s"
   ]
  },
  {
   "cell_type": "code",
   "execution_count": 42,
   "id": "1fb84289",
   "metadata": {},
   "outputs": [
    {
     "data": {
      "text/plain": [
       "93.6"
      ]
     },
     "execution_count": 42,
     "metadata": {},
     "output_type": "execute_result"
    }
   ],
   "source": [
    "myAddUniversal2(2, 4, 5, 4.6, 78)"
   ]
  },
  {
   "cell_type": "code",
   "execution_count": 43,
   "id": "b4d3f2f6",
   "metadata": {},
   "outputs": [],
   "source": [
    "def printAllVariableNamesAndValues(**args):\n",
    "    for x in args:\n",
    "        print(\"Variable Name is:\", x, \"And Value is:\", args[x])"
   ]
  },
  {
   "cell_type": "code",
   "execution_count": 44,
   "id": "6c03c3b3",
   "metadata": {},
   "outputs": [
    {
     "name": "stdout",
     "output_type": "stream",
     "text": [
      "Variable Name is: a And Value is: 3\n",
      "Variable Name is: b And Value is: B\n",
      "Variable Name is: c And Value is: CCC\n",
      "Variable Name is: y And Value is: 6.7\n"
     ]
    }
   ],
   "source": [
    "printAllVariableNamesAndValues(a = 3, b = \"B\", c = \"CCC\", y = 6.7)"
   ]
  },
  {
   "cell_type": "code",
   "execution_count": 53,
   "id": "1f23f342",
   "metadata": {},
   "outputs": [
    {
     "name": "stdout",
     "output_type": "stream",
     "text": [
      "1692249341632\n",
      "1692249341632\n"
     ]
    }
   ],
   "source": [
    "a = [1, 2, 3]\n",
    "b = a\n",
    "print(id(a))\n",
    "print(id(b))\n"
   ]
  },
  {
   "cell_type": "code",
   "execution_count": 54,
   "id": "22279bab",
   "metadata": {},
   "outputs": [
    {
     "name": "stdout",
     "output_type": "stream",
     "text": [
      "[4, 2, 3]\n"
     ]
    }
   ],
   "source": [
    "b[0] = 4\n",
    "print(a)"
   ]
  },
  {
   "cell_type": "code",
   "execution_count": 58,
   "id": "d97cca0f",
   "metadata": {},
   "outputs": [],
   "source": [
    "def gg(s = 4):\n",
    "    print(s)"
   ]
  },
  {
   "cell_type": "code",
   "execution_count": 60,
   "id": "f5793c5a",
   "metadata": {},
   "outputs": [
    {
     "name": "stdout",
     "output_type": "stream",
     "text": [
      "4\n"
     ]
    }
   ],
   "source": [
    "gg()"
   ]
  },
  {
   "cell_type": "code",
   "execution_count": 61,
   "id": "6afd5983",
   "metadata": {},
   "outputs": [
    {
     "name": "stdout",
     "output_type": "stream",
     "text": [
      "56\n"
     ]
    }
   ],
   "source": [
    "gg(56)"
   ]
  },
  {
   "cell_type": "code",
   "execution_count": 62,
   "id": "71b19c11",
   "metadata": {},
   "outputs": [
    {
     "name": "stdout",
     "output_type": "stream",
     "text": [
      "[-9, 2, 3]\n"
     ]
    }
   ],
   "source": [
    "L = [1, 2, 3]\n",
    "L2 = L\n",
    "L2[0] = -9\n",
    "print(L)"
   ]
  },
  {
   "cell_type": "code",
   "execution_count": 63,
   "id": "b7832d72",
   "metadata": {},
   "outputs": [],
   "source": [
    "def ff(L = [1, 2]):\n",
    "    for i in L:\n",
    "        print(i)"
   ]
  },
  {
   "cell_type": "code",
   "execution_count": 64,
   "id": "659bae4a",
   "metadata": {},
   "outputs": [
    {
     "name": "stdout",
     "output_type": "stream",
     "text": [
      "12\n",
      "3\n",
      "4\n"
     ]
    }
   ],
   "source": [
    "L2 = [12, 3, 4]\n",
    "ff(L2)"
   ]
  },
  {
   "cell_type": "code",
   "execution_count": 65,
   "id": "5eb1e19c",
   "metadata": {},
   "outputs": [
    {
     "name": "stdout",
     "output_type": "stream",
     "text": [
      "1\n",
      "2\n"
     ]
    }
   ],
   "source": [
    "ff()"
   ]
  },
  {
   "cell_type": "code",
   "execution_count": 125,
   "id": "8daef491",
   "metadata": {},
   "outputs": [],
   "source": [
    "import sys\n",
    "sys.path.append('D:/온이/취업/데이터분석스터디')"
   ]
  },
  {
   "cell_type": "code",
   "execution_count": 126,
   "id": "5d4a7eb1",
   "metadata": {},
   "outputs": [],
   "source": [
    "import my_universal_functions as myfs"
   ]
  },
  {
   "cell_type": "code",
   "execution_count": 127,
   "id": "8bdb37da",
   "metadata": {},
   "outputs": [],
   "source": [
    "myfs.addAllNumerics??"
   ]
  },
  {
   "cell_type": "code",
   "execution_count": 128,
   "id": "8b71995e",
   "metadata": {},
   "outputs": [],
   "source": [
    "c = myfs.addAllNumerics(2, 3, 4, 6)"
   ]
  },
  {
   "cell_type": "code",
   "execution_count": 129,
   "id": "de377b15",
   "metadata": {},
   "outputs": [
    {
     "name": "stdout",
     "output_type": "stream",
     "text": [
      "15\n"
     ]
    }
   ],
   "source": [
    "print(c)"
   ]
  },
  {
   "cell_type": "code",
   "execution_count": 132,
   "id": "6b16c1c5",
   "metadata": {},
   "outputs": [
    {
     "name": "stdout",
     "output_type": "stream",
     "text": [
      "27\n"
     ]
    }
   ],
   "source": [
    "d = myfs.addAllNumerics(2, 3, 4, 5, 6, 7)\n",
    "print(d)"
   ]
  },
  {
   "cell_type": "code",
   "execution_count": 133,
   "id": "ca209392",
   "metadata": {},
   "outputs": [
    {
     "data": {
      "text/plain": [
       "'Python Course'"
      ]
     },
     "execution_count": 133,
     "metadata": {},
     "output_type": "execute_result"
    }
   ],
   "source": [
    "myfs.myName"
   ]
  },
  {
   "cell_type": "code",
   "execution_count": 137,
   "id": "220ef0bc",
   "metadata": {},
   "outputs": [],
   "source": [
    "def findMin(L):\n",
    "    m = L[0]\n",
    "    idx = 0\n",
    "    i = 0\n",
    "    for x in L:\n",
    "        if x < m:\n",
    "            m = x\n",
    "            idx = i\n",
    "        i += 1\n",
    "    return m, idx"
   ]
  },
  {
   "cell_type": "code",
   "execution_count": 138,
   "id": "b0f47192",
   "metadata": {},
   "outputs": [],
   "source": [
    "a, b = findMin([2, 3, 4, 0, 9])"
   ]
  },
  {
   "cell_type": "code",
   "execution_count": 139,
   "id": "784e1a23",
   "metadata": {},
   "outputs": [
    {
     "name": "stdout",
     "output_type": "stream",
     "text": [
      "0 3\n"
     ]
    }
   ],
   "source": [
    "print(a, b)"
   ]
  },
  {
   "cell_type": "code",
   "execution_count": 140,
   "id": "98060f66",
   "metadata": {},
   "outputs": [],
   "source": [
    "def swapValues(L, idx1, idx2):\n",
    "    tmp = L[idx1]\n",
    "    L[idx1] = L[idx2]\n",
    "    L[idx2] = tmp\n",
    "    return L"
   ]
  },
  {
   "cell_type": "code",
   "execution_count": 143,
   "id": "130ddc2a",
   "metadata": {},
   "outputs": [
    {
     "name": "stdout",
     "output_type": "stream",
     "text": [
      "[2, 7, 6, 3]\n",
      "[2, 7, 6, 3]\n"
     ]
    }
   ],
   "source": [
    "L = [2, 3, 6, 7]\n",
    "L2 = swapValues(L, 1, 3)\n",
    "print(L2)\n",
    "print(L)"
   ]
  },
  {
   "cell_type": "code",
   "execution_count": 169,
   "id": "83b724b6",
   "metadata": {},
   "outputs": [],
   "source": [
    "from my_universal_functions import checkIfNotNumeric\n",
    "def sortList(L):\n",
    "    for x in L:\n",
    "        if not(checkIfNotNumeric(x)):\n",
    "            print(\"Error: List does not contain numeric values.\")\n",
    "            return\n",
    "    c = 0\n",
    "    for x in L:\n",
    "        m, idx = findMin(L[c:])\n",
    "        L = swapValues(L, c, idx + c)\n",
    "        c += 1\n",
    "    return L"
   ]
  },
  {
   "cell_type": "code",
   "execution_count": 170,
   "id": "1f98e99e",
   "metadata": {},
   "outputs": [],
   "source": [
    "L2 = sortList([2, 1, 5, 3, 8, 17])"
   ]
  },
  {
   "cell_type": "code",
   "execution_count": 171,
   "id": "7b16ed9d",
   "metadata": {},
   "outputs": [
    {
     "data": {
      "text/plain": [
       "[1, 2, 3, 5, 8, 17]"
      ]
     },
     "execution_count": 171,
     "metadata": {},
     "output_type": "execute_result"
    }
   ],
   "source": [
    "L2"
   ]
  }
 ],
 "metadata": {
  "kernelspec": {
   "display_name": "Python 3 (ipykernel)",
   "language": "python",
   "name": "python3"
  },
  "language_info": {
   "codemirror_mode": {
    "name": "ipython",
    "version": 3
   },
   "file_extension": ".py",
   "mimetype": "text/x-python",
   "name": "python",
   "nbconvert_exporter": "python",
   "pygments_lexer": "ipython3",
   "version": "3.9.7"
  }
 },
 "nbformat": 4,
 "nbformat_minor": 5
}
