{
 "cells": [
  {
   "cell_type": "markdown",
   "id": "3ed1333a",
   "metadata": {},
   "source": [
    "# Chapter 8 - 다이나믹 프로그래밍\n",
    "## 1. 다이나믹 프로그래밍\n",
    "- 프로그래밍에서 다이나믹은 '프로그램이 실행되는 도중에'라는 의미\n",
    "- 다이나믹 프로그래밍으로 해결할 수 있는 대표적인 예시는 피보나치 수열\n",
    "    - 피보나치 수열은 이전 두 항의 합을 현재의 항으로 설정하는 특징이 있는 수열\n",
    "- 점화식: 인접한 항들 사이의 관계식\n",
    "- 피보나치 수열의 점화식: $a_{n+2} = f(a_{n+1}, a_{n}) = a_{n+1} + a_{n}$\n",
    "- 피보나치 수열의 정의: $a_{n} = a_{n-1} + a_{n-2}, a_{1} = 1, a_{2} = 1$\n",
    "- 프로그래밍에서는 이러한 수열은 배열이나 리스트로 표현할 수 있음.\n",
    "    - 파이썬에서는 리스트 자료형이 이를 처리."
   ]
  },
  {
   "cell_type": "code",
   "execution_count": 1,
   "id": "316be1b0",
   "metadata": {},
   "outputs": [
    {
     "name": "stdout",
     "output_type": "stream",
     "text": [
      "3\n"
     ]
    }
   ],
   "source": [
    "# 8-1.py 피보나치 함수 소스코드\n",
    "# 피보나치 함수(Fibonacci Function)를 재귀 함수로 구현\n",
    "def fibo(x):\n",
    "    if x == 1 or x == 2:\n",
    "        return 1\n",
    "    return fibo(x - 1) + fibo(x - 2)\n",
    "\n",
    "print(fibo(4))"
   ]
  },
  {
   "cell_type": "markdown",
   "id": "528de95e",
   "metadata": {},
   "source": [
    "- f(n) 함수에서 n이 커지면 커질수록 수행 시간이 기하급수적으로 늘어남.\n",
    "- 이 소스코드의 시간 복잡도는 $O(2^{N})$\n",
    "- f(n)에서 n이 커지면 커질수록 반복해서 호출하는 수가 많아짐.\n",
    "- 다이나믹 프로그래밍을 사용할 수 있는 조건:\n",
    "    - 큰 문제를 작은 문제로 나눌 수 있음.\n",
    "    - 작은 문제에서 구한 정답은 그것을 포함하는 큰 문제에서도 동일\n",
    "- 피보나치 수열 문제를 메모이제이션(Memoization) 기법을 사용해서 사용해서 해결해보기\n",
    "    - 메모이제이션은 다이나믹 프로그래밍을 구현하는 방법 중 한 종류로, 한 번 구한 결과를 메모리 공간에 메모해두고 같은 식을 다시 호출하면 메모한 결과를 그대로 가져오는 기법\n",
    "    - 한 번 구한 정보를 리스트에 저장함으로서 메모이제이션을 구현할 수 있음."
   ]
  },
  {
   "cell_type": "code",
   "execution_count": 2,
   "id": "76fb6dcd",
   "metadata": {},
   "outputs": [
    {
     "name": "stdout",
     "output_type": "stream",
     "text": [
      "218922995834555169026\n"
     ]
    }
   ],
   "source": [
    "# 8-2.py 파보나치 수열 소스코드(재귀적)\n",
    "# 한 번 계산된 결과를 메모이제이션(Memoization)하기 위한 리스트 초기화\n",
    "d = [0] * 100\n",
    "\n",
    "# 피보나치 함수(Fibonacci Function)를 재귀함수로 구현(탑다운 다이나믹 프로그래밍)\n",
    "def fibo(x):\n",
    "    # 종료 조건(1 혹은 2일 때 1을 반환)\n",
    "    if x == 1 or x==2:\n",
    "        return 1\n",
    "    # 이미 계산한 적 있는 문제라면 그대로 반환\n",
    "    if d[x] != 0:\n",
    "        return d[x]\n",
    "    # 아직 계산하지 않은 문제라면 점화식에 따라서 피보나치 결과 반환\n",
    "    d[x] = fibo(x - 1) + fibo(x - 2)\n",
    "    return d[x]\n",
    "\n",
    "print(fibo(99))"
   ]
  },
  {
   "cell_type": "markdown",
   "id": "e759ef2b",
   "metadata": {},
   "source": [
    "- 다이나믹 프로그래밍이란 큰 문제를 작게 나누고, 같은 문제라면 한 번씩만 풀어 문제를 효율적으로 해결하는 알고리즘 기법\n",
    "- 다이나믹 프로그래밍을 적용했을 때의 피보나치 수열 알고리즘의 시간 복잡도는 $O(N)$."
   ]
  },
  {
   "cell_type": "code",
   "execution_count": 3,
   "id": "1c0bb472",
   "metadata": {},
   "outputs": [
    {
     "name": "stdout",
     "output_type": "stream",
     "text": [
      "f(6) f(5) f(4) f(3) f(2) f(1) f(2) f(3) f(4) "
     ]
    },
    {
     "data": {
      "text/plain": [
       "8"
      ]
     },
     "execution_count": 3,
     "metadata": {},
     "output_type": "execute_result"
    }
   ],
   "source": [
    "# 8-3.py 호출되는 함수 확인\n",
    "d = [0] * 100\n",
    "\n",
    "def pibo(x):\n",
    "    print('f(' + str(x) + ')', end=' ')\n",
    "    if x == 1 or x == 2:\n",
    "        return 1\n",
    "    if d[x] != 0:\n",
    "        return d[x]\n",
    "    d[x] = pibo(x - 1) + pibo(x - 2)\n",
    "    return d[x]\n",
    "\n",
    "pibo(6)"
   ]
  },
  {
   "cell_type": "markdown",
   "id": "ff5d2c75",
   "metadata": {},
   "source": [
    "- 탑다운(Top-Down) 방식: 재귀 함수를 이용하여 다이나믹 프로그래밍 소스코드를 작성하는 방법. 큰 문제를 해결하기 위해 작은 문제를 호출\n",
    "- 보텀업(Bottom-Up) 방식: 반복문을 이용하여 소스코드를 작성하는 방법. 작은 문제부터 차근차근 답을 도출."
   ]
  },
  {
   "cell_type": "code",
   "execution_count": 4,
   "id": "7c45a51c",
   "metadata": {},
   "outputs": [
    {
     "name": "stdout",
     "output_type": "stream",
     "text": [
      "218922995834555169026\n"
     ]
    }
   ],
   "source": [
    "# 8-4.py 피보나치 수열 소스코드(반복적)\n",
    "# 앞서 계산된 결과를 저장하기 위한 DP 테이블 초기화\n",
    "d = [0] * 100\n",
    "\n",
    "# 첫 번째 피보나치 수와 두 번째 피보나치 수는 1\n",
    "d[1] = 1\n",
    "d[2] = 1\n",
    "n = 99\n",
    "\n",
    "# 피보나치 함수(Fibonacci Function) 반복문으로 구현(보텀업 다이나믹 프로그래밍)\n",
    "for i in range(3, n + 1):\n",
    "    d[i] = d[i - 1] + d[i - 2]\n",
    "\n",
    "print(d[n])"
   ]
  },
  {
   "cell_type": "markdown",
   "id": "266d1910",
   "metadata": {},
   "source": [
    "- 다이나믹 프로그래밍의 전형적은 형태는 보텀업 방식.\n",
    "- 보텀업 방식에서 사용되는 결과 저장용 리스트는 'DP 테이블'이라고 부르며, 메모이제이션은 탑다운 방식에 국한되어 사용되는 표현.\n",
    "- 가능하다면 재귀 함수를 이용하는 탑다운 방식보다는 보텀업 방식으로 구현하는 것을 권장.\n",
    "    - 시스템상 재귀 함수의 스택 크기가 한정되어 있을 수 있기 때문."
   ]
  },
  {
   "cell_type": "markdown",
   "id": "9ef72099",
   "metadata": {},
   "source": [
    "## 2. 1로 만들기"
   ]
  },
  {
   "cell_type": "code",
   "execution_count": 18,
   "id": "f2325662",
   "metadata": {},
   "outputs": [
    {
     "name": "stdout",
     "output_type": "stream",
     "text": [
      "26\n",
      "3\n"
     ]
    }
   ],
   "source": [
    "# My Solution\n",
    "d = [0] * 30001\n",
    "d[2] = 1\n",
    "d[3] = 1\n",
    "d[4] = 2\n",
    "d[5] = 1\n",
    "\n",
    "x = int(input())\n",
    "\n",
    "for i in range(6, x + 1):\n",
    "    lst = []\n",
    "    if i % 5 == 0:\n",
    "        lst.append(d[i // 5] + 1)\n",
    "    if i % 3 == 0: \n",
    "        lst.append(d[i // 3] + 1)\n",
    "    if i % 2 == 0:\n",
    "        lst.append(d[i // 2] + 1)\n",
    "    lst.append(d[i - 1] + 1)\n",
    "    d[i] = min(lst)\n",
    "\n",
    "print(d[x])"
   ]
  },
  {
   "cell_type": "code",
   "execution_count": 19,
   "id": "efea1493",
   "metadata": {},
   "outputs": [
    {
     "name": "stdout",
     "output_type": "stream",
     "text": [
      "26\n",
      "3\n"
     ]
    }
   ],
   "source": [
    "# Textbook Solution\n",
    "# 정수 X를 입력받기\n",
    "x = int(input())\n",
    "\n",
    "# 앞서 계산된 결과를 저장하기 위한 DP 테이블 초기화\n",
    "d = [0] * 30001\n",
    "\n",
    "# 다이나믹 프로그래밍(Dynamic Programming) 진행(보텀업)\n",
    "for i in range(2, x + 1): \n",
    "    # 현재의 수에서 1을 빠는 경우\n",
    "    d[i] = d[i - 1] + 1\n",
    "    # 현재의 수가 2로 나우어 떨어지는 경우\n",
    "    if i % 2 == 0:\n",
    "        d[i] = min(d[i], d[i // 2] + 1)\n",
    "    # 현재의 수가 3으로 나누어 떨어지는 경우\n",
    "    if i % 3 == 0:\n",
    "        d[i] = min(d[i], d[i // 3] + 1)\n",
    "    # 현재의 수가 5로 나누어 떨어지는 경우\n",
    "    if i % 5 == 0:\n",
    "        d[i] = min(d[i], d[i // 5] + 1)\n",
    "        \n",
    "print(d[x])"
   ]
  },
  {
   "cell_type": "markdown",
   "id": "e552f555",
   "metadata": {},
   "source": [
    "## 3. 개미 전사"
   ]
  },
  {
   "cell_type": "code",
   "execution_count": 24,
   "id": "d27d5dfe",
   "metadata": {},
   "outputs": [
    {
     "name": "stdout",
     "output_type": "stream",
     "text": [
      "8\n",
      "3 7 2 4 90 9 2 100\n",
      "197\n"
     ]
    }
   ],
   "source": [
    "# My Solution\n",
    "n = int(input())\n",
    "lst = list(map(int, input().split()))\n",
    "\n",
    "d = [0] * 101\n",
    "\n",
    "for i in range(1, n + 1):\n",
    "    if i == 1:\n",
    "        d[i] = lst[0]\n",
    "    elif i == 2:\n",
    "        d[i] = lst[1]\n",
    "    else:\n",
    "        d[i] = max(d[i - 2] + lst[i - 1], d[i - 3] + lst[i - 1])\n",
    "\n",
    "print(max(d))\n",
    "    "
   ]
  },
  {
   "cell_type": "code",
   "execution_count": 23,
   "id": "7b731ddd",
   "metadata": {},
   "outputs": [
    {
     "name": "stdout",
     "output_type": "stream",
     "text": [
      "8\n",
      "3 7 2 4 90 9 2 100\n",
      "197\n"
     ]
    }
   ],
   "source": [
    "# Textbook Solution\n",
    "# 정수 N을 입력받기\n",
    "n = int(input())\n",
    "# 모든 식량 정보 입력받기\n",
    "array = list(map(int, input().split()))\n",
    "\n",
    "# 앞서 계산된 결과를 저장하기 위한 DP 테이블 초기화\n",
    "d = [0] * 100\n",
    "\n",
    "# 다이나믹 프로그래밍(Dynamic Programming) 진행(보텀업)\n",
    "d[0] = array[0]\n",
    "d[1] = max(array[0], array[1])\n",
    "for i in range(2, n):\n",
    "    d[i] = max(d[i - 1], d[i - 2] + array[i])\n",
    "\n",
    "# 계산된 결과 출력\n",
    "print(d[n - 1])"
   ]
  },
  {
   "cell_type": "markdown",
   "id": "1deec0e5",
   "metadata": {},
   "source": [
    "## 4. 바닥 공사"
   ]
  },
  {
   "cell_type": "code",
   "execution_count": 29,
   "id": "1a1bac35",
   "metadata": {},
   "outputs": [
    {
     "name": "stdout",
     "output_type": "stream",
     "text": [
      "3\n",
      "5\n"
     ]
    }
   ],
   "source": [
    "# My Solution\n",
    "n = int(input())\n",
    "d = [0] * 1001\n",
    "\n",
    "for i in range(1, n + 1):\n",
    "    if i == 1:\n",
    "        d[i] = 1\n",
    "    elif i == 2:\n",
    "        d[i] = 3\n",
    "    else:\n",
    "        d[i] = d[i - 2] * 2 + d[i - 1]\n",
    "\n",
    "print(d[n])"
   ]
  },
  {
   "cell_type": "code",
   "execution_count": 31,
   "id": "64389519",
   "metadata": {},
   "outputs": [
    {
     "name": "stdout",
     "output_type": "stream",
     "text": [
      "3\n",
      "5\n"
     ]
    }
   ],
   "source": [
    "# 정수 N을 입력받기\n",
    "n = int(input())\n",
    "\n",
    "# 앞서 계산된 결과를 저장하기 위한 DP 테이블 초기화\n",
    "d = [0] * 1001\n",
    "\n",
    "# 다이나믹 프로그래밍(Dynamic Programming) 진행(보텀업)\n",
    "d[1] = 1\n",
    "d[2] = 3\n",
    "for i in range(3, n + 1):\n",
    "    d[i] = (d[i - 1] + 2 * d[i - 2]) % 796796\n",
    "    \n",
    "# 계산된 결과 출력\n",
    "print(d[n])"
   ]
  },
  {
   "cell_type": "markdown",
   "id": "572b9266",
   "metadata": {},
   "source": [
    "## 5. 효율적인 화폐 구성"
   ]
  },
  {
   "cell_type": "code",
   "execution_count": 61,
   "id": "22465143",
   "metadata": {},
   "outputs": [
    {
     "name": "stdout",
     "output_type": "stream",
     "text": [
      "3 6\n",
      "3\n",
      "5\n",
      "7\n",
      "2\n"
     ]
    }
   ],
   "source": [
    "# My Solution\n",
    "n, m = map(int, input().split())\n",
    "lst1 = []\n",
    "for i in range(n):\n",
    "    lst1.append(int(input()))\n",
    "\n",
    "d = [0] * max(m + 1, max(lst1) + 1)\n",
    "\n",
    "for coin in lst1:\n",
    "    d[coin] = 1\n",
    "\n",
    "for i in range(1, m + 1):\n",
    "    lst2 = []\n",
    "    for coin in lst1:\n",
    "        if d[i] == 0 and i > coin and d[i - coin] != -1:\n",
    "            lst2.append(d[i - coin] + 1)\n",
    "    if lst2 == [] and d[i] == 0:\n",
    "        d[i] = -1\n",
    "    elif lst2 != []:\n",
    "        d[i] = min(lst2)\n",
    "\n",
    "print(d[m])    "
   ]
  },
  {
   "cell_type": "code",
   "execution_count": 65,
   "id": "9db10bfb",
   "metadata": {},
   "outputs": [
    {
     "name": "stdout",
     "output_type": "stream",
     "text": [
      "2 15\n",
      "2\n",
      "3\n",
      "5\n"
     ]
    }
   ],
   "source": [
    "# Textbook Solution\n",
    "# 정수 N, M을 입력받기\n",
    "n, m = map(int, input().split())\n",
    "# N개의 화폐 단위 정보를 입력받기\n",
    "array = []\n",
    "for i in range(n):\n",
    "    array.append(int(input()))\n",
    "\n",
    "# 한 번 계산된 결과를 저장하기 위한 DP 테이블 초기화\n",
    "d = [10001] * (m + 1)\n",
    "\n",
    "# 다이나믹 프로그래밍(Dynamic Programming) 진행(보텀업)\n",
    "d[0] = 0\n",
    "for i in range(n):\n",
    "    for j in range(array[i], m + 1):\n",
    "        if d[j - array[i]] != 10001: # (i - k)원을 만드는 방법이 존재하는 겨우\n",
    "            d[j] = min(d[j], d[j - array[i]] + 1)\n",
    "\n",
    "# 계산된 결과 출력\n",
    "if d[m] == 10001: # 최종적으로 M원을 만드는 방법이 없는 경우\n",
    "    print(-1)\n",
    "else:\n",
    "    print(d[m])"
   ]
  }
 ],
 "metadata": {
  "kernelspec": {
   "display_name": "Python 3 (ipykernel)",
   "language": "python",
   "name": "python3"
  },
  "language_info": {
   "codemirror_mode": {
    "name": "ipython",
    "version": 3
   },
   "file_extension": ".py",
   "mimetype": "text/x-python",
   "name": "python",
   "nbconvert_exporter": "python",
   "pygments_lexer": "ipython3",
   "version": "3.9.7"
  }
 },
 "nbformat": 4,
 "nbformat_minor": 5
}
