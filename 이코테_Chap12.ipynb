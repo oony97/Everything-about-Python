{
 "cells": [
  {
   "cell_type": "markdown",
   "id": "06826882",
   "metadata": {},
   "source": [
    "# Chapter 12 - 구현 문제"
   ]
  },
  {
   "cell_type": "markdown",
   "id": "a477f3a9",
   "metadata": {},
   "source": [
    "## Q8 문자열 재정렬"
   ]
  },
  {
   "cell_type": "code",
   "execution_count": 6,
   "id": "f746d282",
   "metadata": {},
   "outputs": [
    {
     "name": "stdout",
     "output_type": "stream",
     "text": [
      "7755\n",
      "READY\n"
     ]
    }
   ],
   "source": [
    "# My Solution\n",
    "n = input()\n",
    "middle = int(len(n)/2)\n",
    "left_sum = 0\n",
    "right_sum = 0\n",
    "for i in range(0,middle):\n",
    "    left_sum += int(n[i])\n",
    "for i in range(middle,len(n)):\n",
    "    right_sum += int(n[i])\n",
    "    \n",
    "if left_sum == right_sum:\n",
    "    print(\"LUCKY\")\n",
    "else:\n",
    "    print(\"READY\")"
   ]
  },
  {
   "cell_type": "code",
   "execution_count": 8,
   "id": "ed85de6a",
   "metadata": {},
   "outputs": [
    {
     "name": "stdout",
     "output_type": "stream",
     "text": [
      "7755\n",
      "READY\n"
     ]
    }
   ],
   "source": [
    "# Textbook Solution\n",
    "n = input()\n",
    "length = len(n) # 점수값의 총 자리수\n",
    "summary = 0\n",
    "\n",
    "# 왼쪽 부분의 자릿수 합 더하기\n",
    "for i in range(length // 2):\n",
    "    summary += int(n[i])\n",
    "    \n",
    "for i in range(length // 2, length):\n",
    "    summary -= int(n[i])\n",
    "    \n",
    "# 왼쪽 부분과 오른쪽 부분의 자릿수 합이 동일한지 검사\n",
    "if summary == 0:\n",
    "    print(\"LUCKY\")\n",
    "else:\n",
    "    print(\"READY\")"
   ]
  },
  {
   "cell_type": "markdown",
   "id": "f525b1e3",
   "metadata": {},
   "source": [
    "##  Q9 문자열 압출"
   ]
  },
  {
   "cell_type": "code",
   "execution_count": null,
   "id": "54881381",
   "metadata": {},
   "outputs": [],
   "source": [
    "# Textbook Solution\n",
    "def solution(s):\n",
    "    answer = len(s)\n",
    "    # 1개 단위(step)부터 압축 단위를 늘려가며 확인\n",
    "    for step in range(1, len(s) // 2 + 1):\n",
    "        compressed = \"\"\n",
    "        prev = s[0:step] # 앞에서부터 step만큼의 문자열 추출\n",
    "        count = 1\n",
    "        # 단위(step) 크기만큼 증가시키며 이전 문자열 추출\n",
    "        for j in range(step, len(s), step):\n",
    "            # 이전 상태와 동일하다면 압축 횟수(count) 증가\n",
    "            if prev == s[j:j + step]:\n",
    "                count += 1\n",
    "            # 다른 문자열이 나왔다면(더 이상 압축하지 못하는 경우라면)\n",
    "            else:\n",
    "                compressed += str(count) + prev if count >= 2 else prev\n",
    "                prev = s[j:j + step] # 다시 상태 초기화\n",
    "                count = 1\n",
    "            # 남아 있는 문자열에 대해서 처리\n",
    "        compressed += str(count) + prev if count >= 2 else prev\n",
    "        # 만들어지는 압축 문자열이 가장 짧은 것이 정답\n",
    "        answer = min(answer, len(compressed))\n",
    "    return answer"
   ]
  }
 ],
 "metadata": {
  "kernelspec": {
   "display_name": "Python 3 (ipykernel)",
   "language": "python",
   "name": "python3"
  },
  "language_info": {
   "codemirror_mode": {
    "name": "ipython",
    "version": 3
   },
   "file_extension": ".py",
   "mimetype": "text/x-python",
   "name": "python",
   "nbconvert_exporter": "python",
   "pygments_lexer": "ipython3",
   "version": "3.9.7"
  }
 },
 "nbformat": 4,
 "nbformat_minor": 5
}
